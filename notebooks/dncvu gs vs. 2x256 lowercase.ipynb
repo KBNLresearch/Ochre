{
 "cells": [
  {
   "cell_type": "code",
   "execution_count": null,
   "metadata": {},
   "outputs": [],
   "source": [
    "%load_ext autoreload\n",
    "%autoreload 2"
   ]
  },
  {
   "cell_type": "code",
   "execution_count": null,
   "metadata": {},
   "outputs": [],
   "source": [
    "%matplotlib inline\n",
    "\n",
    "import numpy as np\n",
    "import pandas as pd\n",
    "import matplotlib.pyplot as plt"
   ]
  },
  {
   "cell_type": "code",
   "execution_count": null,
   "metadata": {},
   "outputs": [],
   "source": [
    "data = pd.read_csv('/home/jvdzwaan/data/ocr/merged.csv', index_col=0)\n",
    "data"
   ]
  },
  {
   "cell_type": "code",
   "execution_count": null,
   "metadata": {},
   "outputs": [],
   "source": [
    "import json\n",
    "import codecs\n",
    "import glob\n",
    "import numpy as np\n",
    "import os\n",
    "\n",
    "# get test set\n",
    "with codecs.open('/home/jvdzwaan/data/ocr/datadivision.json', encoding='utf-8') as f:\n",
    "    division = json.load(f)\n",
    "#print division.get('test')"
   ]
  },
  {
   "cell_type": "code",
   "execution_count": null,
   "metadata": {},
   "outputs": [],
   "source": [
    "test = ['{}-ds.gs_out'.format(os.path.splitext(s)[0]) for s in division.get('test')]\n",
    "print test"
   ]
  },
  {
   "cell_type": "code",
   "execution_count": null,
   "metadata": {},
   "outputs": [],
   "source": [
    "# select texts from test set\n",
    "data = data.loc[test]\n",
    "#data = data.loc[['BAObi2-ds.gs_out']]\n",
    "data"
   ]
  },
  {
   "cell_type": "code",
   "execution_count": null,
   "metadata": {},
   "outputs": [],
   "source": [
    "data_2l = pd.read_csv('/home/jvdzwaan/data/results-2x256-lowercase-all/merged.csv', index_col=0)\n",
    "data_2l"
   ]
  },
  {
   "cell_type": "code",
   "execution_count": null,
   "metadata": {},
   "outputs": [],
   "source": [
    "data_all = pd.concat([data, data_2l], axis=1)\n",
    "print data_all.columns\n",
    "data_all.columns = ['CER', 'WER', 'WER (order independent)', 'eCER', 'eWER', 'eWER (order independent)']\n",
    "data_all"
   ]
  },
  {
   "cell_type": "code",
   "execution_count": null,
   "metadata": {},
   "outputs": [],
   "source": [
    "result_all = pd.DataFrame(data_all['eCER'] - data_all['CER'], columns=['CER'])\n",
    "result_all['WER'] = data_all['eWER'] - data_all['WER']\n",
    "result_all['WER (order independent)'] = data_all['eWER (order independent)'] - data_all['WER (order independent)']\n",
    "\n",
    "r = pd.DataFrame(result_all.mean(), columns=['mean'])\n",
    "r['std'] = result_all.std()\n",
    "r['min'] = result_all.min()\n",
    "r['max'] = result_all.max()\n",
    "r"
   ]
  },
  {
   "cell_type": "code",
   "execution_count": null,
   "metadata": {},
   "outputs": [],
   "source": [
    "result = pd.DataFrame(data.mean(), columns=['mean'])\n",
    "result['std'] = data.std()\n",
    "result['min'] = data.min()\n",
    "result['max'] = data.max()\n",
    "result"
   ]
  },
  {
   "cell_type": "code",
   "execution_count": null,
   "metadata": {},
   "outputs": [],
   "source": [
    "result_2l = pd.DataFrame(data_2l.mean(), columns=['mean'])\n",
    "result_2l['std'] = data_2l.std()\n",
    "result_2l['min'] = data_2l.min()\n",
    "result_2l['max'] = data_2l.max()\n",
    "result_2l"
   ]
  },
  {
   "cell_type": "code",
   "execution_count": null,
   "metadata": {},
   "outputs": [],
   "source": [
    "b = 100\n",
    "s = (15,5)"
   ]
  },
  {
   "cell_type": "code",
   "execution_count": null,
   "metadata": {},
   "outputs": [],
   "source": [
    "p = data['CER'].hist(bins=b, figsize=s)\n",
    "p.set_ylim((0,15))\n",
    "p.set_xlim((0,12))"
   ]
  },
  {
   "cell_type": "code",
   "execution_count": null,
   "metadata": {},
   "outputs": [],
   "source": [
    "p = data_2l['CER'].hist(bins=b, figsize=s)\n",
    "p.set_xlim((0,15))\n",
    "p.set_xlim((0,12))"
   ]
  },
  {
   "cell_type": "code",
   "execution_count": null,
   "metadata": {},
   "outputs": [],
   "source": [
    "result_all['CER'].hist(bins=b, figsize=s)"
   ]
  },
  {
   "cell_type": "code",
   "execution_count": null,
   "metadata": {},
   "outputs": [],
   "source": [
    "data['WER'].hist(bins=b, figsize=s)"
   ]
  },
  {
   "cell_type": "code",
   "execution_count": null,
   "metadata": {},
   "outputs": [],
   "source": [
    "data_bidir['WER'].hist(bins=b, figsize=s)"
   ]
  },
  {
   "cell_type": "code",
   "execution_count": null,
   "metadata": {},
   "outputs": [],
   "source": [
    "result_all['WER'].hist(bins=b, figsize=s)"
   ]
  },
  {
   "cell_type": "code",
   "execution_count": null,
   "metadata": {},
   "outputs": [],
   "source": [
    "data['WER (order independent)'].hist(bins=b, figsize=s)"
   ]
  },
  {
   "cell_type": "code",
   "execution_count": null,
   "metadata": {},
   "outputs": [],
   "source": [
    "data_bidir['WER (order independent)'].hist(bins=b, figsize=s)"
   ]
  },
  {
   "cell_type": "code",
   "execution_count": null,
   "metadata": {},
   "outputs": [],
   "source": [
    "result_all['WER (order independent)'].hist(bins=b, figsize=s)"
   ]
  }
 ],
 "metadata": {
  "language_info": {
   "name": "python",
   "pygments_lexer": "ipython3"
  }
 },
 "nbformat": 4,
 "nbformat_minor": 2
}
