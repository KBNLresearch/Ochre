{
 "cells": [
  {
   "cell_type": "code",
   "execution_count": null,
   "metadata": {},
   "outputs": [],
   "source": [
    "%load_ext autoreload\n",
    "%autoreload 2"
   ]
  },
  {
   "cell_type": "code",
   "execution_count": null,
   "metadata": {},
   "outputs": [],
   "source": [
    "import os\n",
    "import nlppln\n",
    "import ochre\n",
    "\n",
    "with nlppln.WorkflowGenerator(working_dir='/home/jvdzwaan/cwl-working-dir/') as wf:\n",
    "    wf.load(steps_dir=ochre.cwl_path())\n",
    "    #print(wf.list_steps())\n",
    "    \n",
    "    txt_dir = wf.add_input(txt_dir='Directory')\n",
    "    tei_dir = wf.add_input(tei_dir='Directory')\n",
    "    repl = wf.add_input(replacement='string', default='space')\n",
    "    tmp_ocr_dir_name = wf.add_input(tmp_ocr_dir_name='string', default='tmp_ocr')\n",
    "    tmp_gs_dir_name = wf.add_input(tmp_gs_dir_name='string', default='tmp_gs')\n",
    "    convert = wf.add_input(convert='boolean', default=True)\n",
    "    \n",
    "    tei_files = wf.ls(in_dir=tei_dir)\n",
    "    unnormalized_gs_files = wf.tei2txt(tei_file=tei_files, scatter='tei_file', scatter_method='dotproduct')\n",
    "    normalized_gs_files = wf.remove_newlines(in_file=unnormalized_gs_files, replacement=repl, \n",
    "                                             scatter='in_file', scatter_method='dotproduct')\n",
    "    tmp_gs_dir = wf.save_files_to_dir(dir_name=tmp_gs_dir_name, in_files=normalized_gs_files)\n",
    "    gs_without_empty = wf.delete_empty_files(in_dir=tmp_gs_dir)\n",
    "    \n",
    "    non_utf8_ocr_files = wf.ls(in_dir=txt_dir)\n",
    "    unnormalized_ocr_files = wf.check_utf8(in_files=non_utf8_ocr_files, convert=convert)\n",
    "    normalized_ocr_files = wf.remove_newlines(in_file=unnormalized_ocr_files, replacement=repl, \n",
    "                                              scatter='in_file', scatter_method='dotproduct')\n",
    "    tmp_ocr_dir = wf.save_files_to_dir(dir_name=tmp_ocr_dir_name, in_files=normalized_ocr_files)\n",
    "    ocr_without_empty = wf.delete_empty_files(in_dir=tmp_ocr_dir)\n",
    "    \n",
    "    tmp_gs_dir = wf.save_files_to_dir(dir_name=tmp_gs_dir_name, in_files=gs_without_empty)\n",
    "    tmp_ocr_dir = wf.save_files_to_dir(dir_name=tmp_ocr_dir_name, in_files=ocr_without_empty)\n",
    "\n",
    "    gs, ocr = wf.match_ocr_and_gs(gs_dir=tmp_gs_dir, ocr_dir=tmp_ocr_dir)\n",
    "\n",
    "    wf.add_outputs(gs=gs)\n",
    "    wf.add_outputs(ocr=ocr)\n",
    "    \n",
    "    wf.save(os.path.join(ochre.cwl_path(),'dbnl_ocr2ocr_and_gs.cwl'), mode='pack')"
   ]
  }
 ],
 "metadata": {
  "language_info": {
   "name": "python",
   "pygments_lexer": "ipython3"
  }
 },
 "nbformat": 4,
 "nbformat_minor": 2
}
