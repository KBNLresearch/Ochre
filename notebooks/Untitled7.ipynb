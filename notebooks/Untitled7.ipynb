{
 "cells": [
  {
   "cell_type": "code",
   "execution_count": null,
   "metadata": {},
   "outputs": [],
   "source": [
    "%load_ext autoreload\n",
    "%autoreload 2"
   ]
  },
  {
   "cell_type": "code",
   "execution_count": null,
   "metadata": {},
   "outputs": [],
   "source": [
    "%matplotlib inline\n",
    "\n",
    "import numpy as np\n",
    "import pandas as pd\n",
    "import matplotlib.pyplot as plt"
   ]
  },
  {
   "cell_type": "code",
   "execution_count": null,
   "metadata": {},
   "outputs": [],
   "source": [
    "df = pd.read_csv('/home/jvdzwaan/data/icdar2017st/eng_periodical/wordmapping_gs_vs_ocr-lowercase.csv', index_col=0, encoding='utf-8')\n",
    "df = df.fillna(u'@@@')\n",
    "print df.shape"
   ]
  },
  {
   "cell_type": "code",
   "execution_count": null,
   "metadata": {},
   "outputs": [],
   "source": [
    "# Number of errors\n",
    "df[df['gs'] != df['ocr']].shape"
   ]
  },
  {
   "cell_type": "code",
   "execution_count": null,
   "metadata": {},
   "outputs": [],
   "source": [
    "import codecs\n",
    "\n",
    "with codecs.open('/home/jvdzwaan/code/english-words/words_alpha.txt', encoding='utf-8') as f:\n",
    "    words = [w.strip() for w in f.readlines()]\n",
    "print 'number of words', len(words)"
   ]
  },
  {
   "cell_type": "code",
   "execution_count": null,
   "metadata": {},
   "outputs": [],
   "source": [
    "%%time\n",
    "words = set(words)"
   ]
  },
  {
   "cell_type": "code",
   "execution_count": null,
   "metadata": {},
   "outputs": [],
   "source": [
    "errors = df[df['gs'] != df['ocr']]"
   ]
  },
  {
   "cell_type": "code",
   "execution_count": null,
   "metadata": {},
   "outputs": [],
   "source": [
    "%%time\n",
    "errors.apply(lambda row: row['gs'] in words, axis=1)"
   ]
  },
  {
   "cell_type": "code",
   "execution_count": null,
   "metadata": {},
   "outputs": [],
   "source": [
    "%%time\n",
    "from ochre.ocrerrors import categorize_errors\n",
    "\n",
    "errors = df[df['gs'] != df['ocr']]\n",
    "#print errors\n",
    "result = categorize_errors(errors, terms=words)"
   ]
  },
  {
   "cell_type": "code",
   "execution_count": null,
   "metadata": {},
   "outputs": [],
   "source": [
    "from ochre.rmgarbage import get_rmgarbage_errors\n",
    "\n",
    "def garbage_string_error(row, gs_name='gs', ocr_name='ocr', empty_word='@@@'):\n",
    "    #ocr = 'CslwWkrm bla'\n",
    "    #gs = 'bla'\n",
    "    gs = row[gs_name]\n",
    "    ocr = row[ocr_name]\n",
    "    \n",
    "    if ocr != empty_word:\n",
    "        words = ocr.split()\n",
    "        for w in words:\n",
    "            errors = get_rmgarbage_errors(w)\n",
    "            if len(errors) > 0:\n",
    "                return True\n",
    "    return False\n",
    "    \n",
    "errors['garbage'] = errors.apply(garbage_string_error, axis=1)"
   ]
  },
  {
   "cell_type": "code",
   "execution_count": null,
   "metadata": {},
   "outputs": [],
   "source": [
    "get_rmgarbage_errors('telog\\'lpn')"
   ]
  },
  {
   "cell_type": "code",
   "execution_count": null,
   "metadata": {},
   "outputs": [],
   "source": [
    "print words[4536]"
   ]
  },
  {
   "cell_type": "code",
   "execution_count": null,
   "metadata": {},
   "outputs": [],
   "source": [
    "repr(words[4536])"
   ]
  },
  {
   "cell_type": "code",
   "execution_count": null,
   "metadata": {},
   "outputs": [],
   "source": [
    "print 'adiaphorite' in words"
   ]
  },
  {
   "cell_type": "code",
   "execution_count": null,
   "metadata": {},
   "outputs": [],
   "source": [
    "result"
   ]
  },
  {
   "cell_type": "code",
   "execution_count": null,
   "metadata": {},
   "outputs": [],
   "source": [
    "result[['ocr', 'error_type']].groupby('error_type').count().plot.barh(figsize=(15,7))"
   ]
  },
  {
   "cell_type": "code",
   "execution_count": null,
   "metadata": {},
   "outputs": [],
   "source": [
    "result[['ocr', 'error_type']].groupby('error_type').count()"
   ]
  },
  {
   "cell_type": "code",
   "execution_count": null,
   "metadata": {},
   "outputs": [],
   "source": [
    "result.query('error_type == \"whitespace\"')"
   ]
  },
  {
   "cell_type": "code",
   "execution_count": null,
   "metadata": {},
   "outputs": [],
   "source": [
    "from ochre.ocrerrors import get_error_types\n",
    "\n",
    "def find_multiple(row, error_types):\n",
    "    num_true = 0\n",
    "    for err_name, err_function in error_types.items():\n",
    "        if row[err_name] == True:\n",
    "            num_true += 1\n",
    "    if num_true > 1:\n",
    "        print row\n",
    "        return 1\n",
    "    return 0\n",
    "duplicate_errors = result.apply(find_multiple, error_types=get_error_types(), axis=1)    "
   ]
  },
  {
   "cell_type": "code",
   "execution_count": null,
   "metadata": {},
   "outputs": [],
   "source": [
    "sum(duplicate_errors)"
   ]
  },
  {
   "cell_type": "code",
   "execution_count": null,
   "metadata": {},
   "outputs": [],
   "source": [
    "result"
   ]
  }
 ],
 "metadata": {
  "language_info": {
   "name": "python",
   "pygments_lexer": "ipython3"
  }
 },
 "nbformat": 4,
 "nbformat_minor": 2
}
