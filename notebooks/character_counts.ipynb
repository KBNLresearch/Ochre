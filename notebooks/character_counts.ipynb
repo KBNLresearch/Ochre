{
 "cells": [
  {
   "cell_type": "code",
   "execution_count": null,
   "metadata": {},
   "outputs": [],
   "source": [
    "%load_ext autoreload\n",
    "%autoreload 2"
   ]
  },
  {
   "cell_type": "code",
   "execution_count": null,
   "metadata": {},
   "outputs": [],
   "source": [
    "import pandas as pd\n",
    "\n",
    "ocr = pd.read_csv('/Users/janneke/Documents/data/ocr/char_counts_ocr.csv', index_col=0, encoding='utf-8')\n",
    "print ocr.shape\n",
    "ocr"
   ]
  },
  {
   "cell_type": "code",
   "execution_count": null,
   "metadata": {},
   "outputs": [],
   "source": [
    "gs = pd.read_csv('/Users/janneke/Documents/data/ocr/char_counts_gs.csv', index_col=0, encoding='utf-8')\n",
    "print gs.shape\n",
    "gs"
   ]
  },
  {
   "cell_type": "code",
   "execution_count": null,
   "metadata": {},
   "outputs": [],
   "source": [
    "ocr_unique = set(ocr.columns) - set(gs.columns)\n",
    "print ' '.join(ocr_unique)\n",
    "# characters that are in ocr, but not in gs"
   ]
  },
  {
   "cell_type": "code",
   "execution_count": null,
   "metadata": {},
   "outputs": [],
   "source": [
    "ocr[list(ocr_unique)].sum()"
   ]
  },
  {
   "cell_type": "code",
   "execution_count": null,
   "metadata": {},
   "outputs": [],
   "source": [
    "gs_unique = set(gs.columns) - set(ocr.columns)\n",
    "print ' '.join(gs_unique)\n",
    "# characters that are in gs, but not in ocr"
   ]
  },
  {
   "cell_type": "code",
   "execution_count": null,
   "metadata": {},
   "outputs": [],
   "source": [
    "gs[list(gs_unique)].sum()"
   ]
  },
  {
   "cell_type": "code",
   "execution_count": null,
   "metadata": {},
   "outputs": [],
   "source": [
    "for c in gs_unique:\n",
    "    print c, repr(c), gs[c].sum()"
   ]
  },
  {
   "cell_type": "code",
   "execution_count": null,
   "metadata": {},
   "outputs": [],
   "source": [
    "print ocr.columns\n",
    "char_mapping = {}\n",
    "multiple_chars = []\n",
    "for c in list(ocr.columns) + list(gs.columns):\n",
    "    l = len(c.encode('utf-8'))\n",
    "    if l > 1:\n",
    "        print repr(c)\n",
    "        multiple_chars.append(c)\n",
    "    else:\n",
    "        char_mapping[ord(c)] = c\n",
    "        #print ord(c)\n",
    "print len(multiple_chars)\n",
    "#print char_mapping\n",
    "\n",
    "for c in set(multiple_chars):\n",
    "    for i in range(1, 256):\n",
    "        if i not in char_mapping.keys():\n",
    "            char_mapping[i] = c\n",
    "            break\n",
    "print char_mapping\n",
    "print len(char_mapping)\n",
    "print sorted(char_mapping.keys())\n",
    "print u' '.join(multiple_chars)"
   ]
  },
  {
   "cell_type": "code",
   "execution_count": null,
   "metadata": {},
   "outputs": [],
   "source": [
    "mapping = {}\n",
    "for k, v in char_mapping.items():\n",
    "    mapping[v] = k\n",
    "print mapping"
   ]
  },
  {
   "cell_type": "code",
   "execution_count": null,
   "metadata": {},
   "outputs": [],
   "source": [
    "print mapping[u'ó']\n",
    "print char_mapping[8]"
   ]
  },
  {
   "cell_type": "code",
   "execution_count": null,
   "metadata": {},
   "outputs": [],
   "source": [
    "import json\n",
    "import codecs\n",
    "\n",
    "with codecs.open('../char_mapping.json', 'w', encoding='utf-8') as f:\n",
    "    json.dump(mapping, f, indent=2)"
   ]
  },
  {
   "cell_type": "code",
   "execution_count": null,
   "metadata": {},
   "outputs": [],
   "source": [
    "extended_ascii = \"\".join([chr(i) for i in xrange(256)])\n",
    "print extended_ascii.decode('latin1')\n",
    "for i in xrange(256):\n",
    "    if len(chr(i)) > 1:\n",
    "        print i"
   ]
  },
  {
   "cell_type": "code",
   "execution_count": null,
   "metadata": {},
   "outputs": [],
   "source": [
    "char_mapping = {}\n",
    "multiple_chars = []\n",
    "\n",
    "for c in list(ocr.columns) + list(gs.columns):\n",
    "    try:\n",
    "        char = c.encode('latin1')\n",
    "        char_mapping[ord(char)] = char\n",
    "    except:\n",
    "        multiple_chars.append(c)\n",
    "        \n",
    "for c in set(multiple_chars):\n",
    "    for i in range(1, 256):\n",
    "        if i not in char_mapping.keys():\n",
    "            char_mapping[i] = c\n",
    "            break\n",
    "\n",
    "print char_mapping\n",
    "mapping = {}\n",
    "for k, v in char_mapping.items():\n",
    "    mapping[v] = k\n",
    "print mapping\n",
    "with open('../char_mapping2.json', 'w') as f:\n",
    "    json.dump(mapping, f, indent=2)"
   ]
  }
 ],
 "metadata": {
  "language_info": {
   "name": "python",
   "pygments_lexer": "ipython3"
  }
 },
 "nbformat": 4,
 "nbformat_minor": 1
}
