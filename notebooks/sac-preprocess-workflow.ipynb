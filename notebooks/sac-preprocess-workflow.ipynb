{
 "cells": [
  {
   "cell_type": "code",
   "execution_count": null,
   "metadata": {},
   "outputs": [],
   "source": [
    "%load_ext autoreload\n",
    "%autoreload 2"
   ]
  },
  {
   "cell_type": "code",
   "execution_count": null,
   "metadata": {},
   "outputs": [],
   "source": [
    "import os\n",
    "import nlppln\n",
    "import ochre\n",
    "\n",
    "with nlppln.WorkflowGenerator(working_dir='/home/jvdzwaan/cwl-working-dir/') as wf:\n",
    "    wf.load(steps_dir=ochre.cwl_path())\n",
    "    wf.load(step_file='https://raw.githubusercontent.com/nlppln/ocrevaluation-docker/master/ocrevaluation.cwl')\n",
    "    \n",
    "    print wf.list_steps()\n",
    "    \n",
    "    archive = wf.add_input(data_file='File')\n",
    "    ocr_dir_name = wf.add_input(ocr_dir_name='string', default='ocr')\n",
    "    gs_dir_name = wf.add_input(gs_dir_name='string', default='gs')\n",
    "    align_dir_name = wf.add_input(align_dir_name='string', default='align')\n",
    "    de_dir_name = wf.add_input(de_dir_name='string', default='de')\n",
    "    fr_dir_name = wf.add_input(fr_dir_name='string', default='fr')\n",
    "    \n",
    "    data_dir = wf.tar(in_file=archive)\n",
    "    gs_de, gs_fr, ocr_de, ocr_fr = wf.sac2gs_and_ocr(in_dir=data_dir)\n",
    "    \n",
    "    # create alignments\n",
    "    alignments_de, changes_de, metadata_de = wf.align_texts_wf(gs=gs_de, ocr=ocr_de)\n",
    "    alignments_fr, changes_fr, metadata_fr = wf.align_texts_wf(gs=gs_fr, ocr=ocr_fr)\n",
    "    \n",
    "    # save files to correct dirs\n",
    "    de_dir = wf.mkdir(dir_name=de_dir_name)\n",
    "    fr_dir = wf.mkdir(dir_name=fr_dir_name)\n",
    "    \n",
    "    ocr_de_dir = wf.save_files_to_dir(dir_name=ocr_dir_name, in_files=ocr_de)\n",
    "    ocr_de = wf.save_dir_to_subdir(inner_dir=ocr_de_dir, outer_dir=de_dir)\n",
    "    gs_de_dir = wf.save_files_to_dir(dir_name=gs_dir_name, in_files=gs_de)\n",
    "    gs_de = wf.save_dir_to_subdir(inner_dir=gs_de_dir, outer_dir=de_dir)\n",
    "    \n",
    "    ocr_fr_dir = wf.save_files_to_dir(dir_name=ocr_dir_name, in_files=ocr_fr)\n",
    "    ocr_fr = wf.save_dir_to_subdir(inner_dir=ocr_fr_dir, outer_dir=fr_dir)\n",
    "    gs_fr_dir = wf.save_files_to_dir(dir_name=gs_dir_name, in_files=gs_fr)\n",
    "    gs_fr = wf.save_dir_to_subdir(inner_dir=gs_fr_dir, outer_dir=fr_dir)\n",
    "    \n",
    "    align_de_dir = wf.save_files_to_dir(dir_name=align_dir_name, in_files=alignments_de)\n",
    "    align_de = wf.save_dir_to_subdir(inner_dir=align_de_dir, outer_dir=de_dir)\n",
    "    \n",
    "    align_fr_dir = wf.save_files_to_dir(dir_name=align_dir_name, in_files=alignments_fr)\n",
    "    align_fr = wf.save_dir_to_subdir(inner_dir=align_fr_dir, outer_dir=fr_dir)\n",
    "    \n",
    "    wf.add_outputs(ocr_de=ocr_de)\n",
    "    wf.add_outputs(gs_de=gs_de)\n",
    "    wf.add_outputs(align_de=align_de)\n",
    "    \n",
    "    wf.add_outputs(ocr_fr=ocr_fr)\n",
    "    wf.add_outputs(gs_fr=gs_fr)\n",
    "    wf.add_outputs(align_fr=align_fr)\n",
    "    \n",
    "    wf.save(os.path.join(ochre.cwl_path(), 'sac-preprocess.cwl'), pack=True)"
   ]
  }
 ],
 "metadata": {
  "language_info": {
   "name": "python",
   "pygments_lexer": "ipython3"
  }
 },
 "nbformat": 4,
 "nbformat_minor": 2
}
