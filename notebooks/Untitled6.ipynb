{
 "cells": [
  {
   "cell_type": "code",
   "execution_count": null,
   "metadata": {},
   "outputs": [],
   "source": [
    "%load_ext autoreload\n",
    "%autoreload 2"
   ]
  },
  {
   "cell_type": "code",
   "execution_count": null,
   "metadata": {},
   "outputs": [],
   "source": [
    "#%matplotlib inline\n",
    "\n",
    "import numpy as np\n",
    "import pandas as pd\n",
    "#import matplotlib.pyplot as plt"
   ]
  },
  {
   "cell_type": "code",
   "execution_count": null,
   "metadata": {},
   "outputs": [],
   "source": [
    "gs_file = '/home/jvdzwaan/data/kb-ocr/test/gs/DDD_010017911_002.txt'\n",
    "ocr_file = '/home/jvdzwaan/data/kb-ocr/test/ocr/DDD_010017911_002.txt'\n",
    "\n",
    "with open(gs_file) as f:\n",
    "    gs_text = f.read()\n",
    "\n",
    "with open(ocr_file) as f:\n",
    "    ocr_text = f.read()"
   ]
  },
  {
   "cell_type": "code",
   "execution_count": null,
   "metadata": {},
   "outputs": [],
   "source": [
    "from ochre.utils import align_characters\n",
    "\n",
    "gs, ocr, bla = align_characters(ocr_text, gs_text)"
   ]
  },
  {
   "cell_type": "code",
   "execution_count": null,
   "metadata": {},
   "outputs": [],
   "source": [
    "gs"
   ]
  },
  {
   "cell_type": "code",
   "execution_count": null,
   "metadata": {},
   "outputs": [],
   "source": [
    "ocr"
   ]
  },
  {
   "cell_type": "code",
   "execution_count": null,
   "metadata": {},
   "outputs": [],
   "source": [
    "for c1, c2 in zip(gs, ocr):\n",
    "    if c1 == '' or c2 == '': \n",
    "        if c1 == '' and c2 == '':\n",
    "            print('#', '#', 'STRANGE')\n",
    "        elif c1 == '':\n",
    "            print('#', c2)\n",
    "        elif c2 == '':\n",
    "            print(c1, '#')\n",
    "    else:\n",
    "        print(c1, c2)"
   ]
  },
  {
   "cell_type": "code",
   "execution_count": null,
   "metadata": {},
   "outputs": [],
   "source": [
    "import json\n",
    "\n",
    "with open('/home/jvdzwaan/data/kb-ocr/text_aligned_blocks-match_gs/aligned/DDD_010017911_002.json') as f:\n",
    "    aligned = json.load(f)\n",
    "for c1, c2 in zip(aligned['gs'], aligned['ocr']):\n",
    "    if c1 == '' or c2 == '': \n",
    "        if c1 == '' and c2 == '':\n",
    "            print('#', '#', 'STRANGE')\n",
    "        elif c1 == '':\n",
    "            print('#', c2)\n",
    "        elif c2 == '':\n",
    "            print(c1, '#')\n",
    "    else:\n",
    "        print(c1, c2)"
   ]
  }
 ],
 "metadata": {
  "language_info": {
   "name": "python",
   "pygments_lexer": "ipython3"
  }
 },
 "nbformat": 4,
 "nbformat_minor": 2
}
