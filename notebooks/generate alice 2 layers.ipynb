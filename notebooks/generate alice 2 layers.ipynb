{
 "cells": [
  {
   "cell_type": "code",
   "execution_count": null,
   "metadata": {},
   "outputs": [],
   "source": [
    "%pylab inline"
   ]
  },
  {
   "cell_type": "code",
   "execution_count": null,
   "metadata": {},
   "outputs": [],
   "source": [
    "# Load LSTM network and generate text\n",
    "import codecs\n",
    "import sys\n",
    "import numpy\n",
    "from keras.models import Sequential\n",
    "from keras.layers import Dense\n",
    "from keras.layers import Dropout\n",
    "from keras.layers import LSTM\n",
    "from keras.callbacks import ModelCheckpoint\n",
    "from keras.utils import np_utils\n",
    "# load ascii text and covert to lowercase\n",
    "filename = \"/home/jvdzwaan/data/tmp/lstm-alice/wonderland.txt\"\n",
    "with codecs.open(filename, 'r', encoding='utf-8') as f:\n",
    "    raw_text = f.read().strip().lower()\n",
    "# create mapping of unique chars to integers, and a reverse mapping\n",
    "chars = sorted(list(set(raw_text)))\n",
    "char_to_int = dict((c, i) for i, c in enumerate(chars))\n",
    "int_to_char = dict((i, c) for i, c in enumerate(chars))\n",
    "# summarize the loaded data\n",
    "n_chars = len(raw_text)\n",
    "n_vocab = len(chars)\n",
    "print \"Total Characters: \", n_chars\n",
    "print \"Total Vocab: \", n_vocab\n",
    "# prepare the dataset of input to output pairs encoded as integers\n",
    "seq_length = 100\n",
    "dataX = []\n",
    "dataY = []\n",
    "for i in range(0, n_chars - seq_length, 1):\n",
    "    seq_in = raw_text[i:i + seq_length]\n",
    "    seq_out = raw_text[i + seq_length]\n",
    "    dataX.append([char_to_int[char] for char in seq_in])\n",
    "    dataY.append(char_to_int[seq_out])\n",
    "n_patterns = len(dataX)\n",
    "print \"Total Patterns: \", n_patterns\n",
    "# reshape X to be [samples, time steps, features]\n",
    "X = numpy.reshape(dataX, (n_patterns, seq_length, 1))\n",
    "# normalize\n",
    "X = X / float(n_vocab)\n",
    "# one hot encode the output variable\n",
    "y = np_utils.to_categorical(dataY)"
   ]
  },
  {
   "cell_type": "code",
   "execution_count": null,
   "metadata": {},
   "outputs": [],
   "source": [
    "# define the LSTM model\n",
    "model = Sequential()\n",
    "model.add(LSTM(256, input_shape=(X.shape[1], X.shape[2]), return_sequences=True))\n",
    "model.add(Dropout(0.2))\n",
    "model.add(LSTM(256))\n",
    "model.add(Dropout(0.2))\n",
    "model.add(Dense(y.shape[1], activation='softmax'))\n",
    "# load the network weights\n",
    "filename = \"/home/jvdzwaan/data/tmp/2layers-alice/1.2272.hdf5\"\n",
    "model.load_weights(filename)\n",
    "model.compile(loss='categorical_crossentropy', optimizer='adam')"
   ]
  },
  {
   "cell_type": "code",
   "execution_count": null,
   "metadata": {},
   "outputs": [],
   "source": [
    "def select_char(prediction, index_next, top=10):\n",
    "    \"\"\"Wanneer kies je voor het gegeven next character (uit de tekst) en wanneer kies je een ander char (op basis van de \n",
    "    prediction)? \n",
    "    Eerste idee: als index_next niet in de top 10 zit, dan sample je uit prediction, ander houd je index_next\n",
    "    (of argmax uit prediction)\n",
    "    \"\"\"\n",
    "    #print 'index next character:', index_next\n",
    "    ind = numpy.argpartition(prediction, -top)[-top:]\n",
    "    #print ind\n",
    "    if index_next not in ind:\n",
    "        #print 'sampling'\n",
    "        idx = numpy.random.choice(n_vocab, p=prediction)\n",
    "        #for i, j in enumerate(prediction):\n",
    "        #    print '{}: {:.4f}'.format(i, j)\n",
    "        print idx\n",
    "        #return numpy.argmax(prediction)\n",
    "        return numpy.random.choice(n_vocab, p=prediction)   \n",
    "    return index_next\n",
    "\n",
    "for i, j in enumerate(prediction[0]):\n",
    "    print '{}: {:.4f}'.format(i, j)\n",
    "select_char(prediction[0], 0)"
   ]
  },
  {
   "cell_type": "code",
   "execution_count": null,
   "metadata": {},
   "outputs": [],
   "source": [
    "begin = [39, 21, 28, 28, 1, 39, 17, 25, 36, 6, 1, 17, 35, 1, 35, 24, 21, 1, 24, 17, 20, 1, 30, 31, 36, 24, 25, 30, 23, 1, 21, 28, 35, 21, 1, 36, 31, 1, 20, 31, 6, 1, 17, 30, 20, 0, 32, 21, 34, 24, 17, 32, 35, 1, 17, 22, 36, 21, 34, 1, 17, 28, 28, 1, 25, 36, 1, 29, 25, 23, 24, 36, 1, 36, 21, 28, 28, 1, 24, 21, 34, 1, 35, 31, 29, 21, 36, 24, 25, 30, 23, 1, 39, 31, 34, 36, 24, 1, 24, 21]\n",
    "vervolg = u'aring. For some\\nminutes it puffed away without speaking, but at last it unfolded its\\narms, took the hookah out of its mouth again, and said, ‘So you think\\nyou’re changed, do you?’'"
   ]
  },
  {
   "cell_type": "code",
   "execution_count": null,
   "metadata": {},
   "outputs": [],
   "source": [
    "print len(begin)\n",
    "matches = 0\n",
    "t = []\n",
    "print len(vervolg)\n",
    "for c in vervolg.lower():\n",
    "    #print c\n",
    "    x = numpy.reshape(begin, (1, len(begin), 1))\n",
    "    x = x / float(n_vocab)\n",
    "    prediction = model.predict(x, verbose=0)\n",
    "    \n",
    "    index_next = char_to_int[c]\n",
    "    result = select_char(prediction[0], index_next)\n",
    "    \n",
    "    begin.append(index_next)\n",
    "    begin = begin[1:len(begin)]\n",
    "    \n",
    "    if int_to_char[result] == c:\n",
    "        matches += 1\n",
    "    t.append(int_to_char[result])\n",
    "print matches\n",
    "print ''.join(t)\n",
    "print \n",
    "print vervolg"
   ]
  },
  {
   "cell_type": "code",
   "execution_count": null,
   "metadata": {},
   "outputs": [],
   "source": [
    "int_to_char[6]"
   ]
  },
  {
   "cell_type": "code",
   "execution_count": null,
   "metadata": {},
   "outputs": [],
   "source": [
    "import copy\n",
    "\n",
    "seed = [39, 21, 28, 28, 1, 39, 17, 25, 36, 6, 1, 17, 35, 1, 35, 24, 21, 1, 24, 17, 20, 1, 30, 31, 36, 24, 25, 30, 23, 1, 21, 28, 35, 21, 1, 36, 31, 1, 20, 31, 6, 1, 17, 30, 20, 0, 32, 21, 34, 24, 17, 32, 35, 1, 17, 22, 36, 21, 34, 1, 17, 28, 28, 1, 25, 36, 1, 29, 25, 23, 24, 36, 1, 36, 21, 28, 28, 1, 24, 21, 34, 1, 35, 31, 29, 21, 36, 24, 25, 30, 23, 1, 39, 31, 34, 36, 24, 1, 24, 21]\n",
    "vervolg = u'aring. For some\\nminutes it puffed away without speaking, but at last it unfolded its\\narms, took the hookah out of its mouth again, and said, ‘So you think\\nyou’re changed, do you?’'\n",
    "\n",
    "def generate(seed, vervolg, char_to_int, int_to_char):\n",
    "    begin = copy.deepcopy(seed)\n",
    "    #print len(begin)\n",
    "    matches = 0\n",
    "    t = []\n",
    "    \n",
    "    for c in vervolg.lower():\n",
    "        x = numpy.reshape(begin, (1, len(begin), 1))\n",
    "        x = x / float(n_vocab)\n",
    "        prediction = model.predict(x, verbose=0)\n",
    "    \n",
    "        index_next = char_to_int[c]\n",
    "        result = select_char(prediction[0], index_next, top=1)\n",
    "    \n",
    "        begin.append(index_next)\n",
    "        begin = begin[1:len(begin)]\n",
    "    \n",
    "        if int_to_char[result] == c:\n",
    "            matches += 1\n",
    "        t.append(int_to_char[result])\n",
    "    print ''.join(t)\n",
    "\n",
    "    return matches\n",
    "\n",
    "#res = [generate(seed, vervolg, char_to_int, int_to_char) for i in range(100)]"
   ]
  },
  {
   "cell_type": "code",
   "execution_count": null,
   "metadata": {},
   "outputs": [],
   "source": [
    "print res\n",
    "print numpy.mean(res)\n",
    "print numpy.std(res)\n",
    "print numpy.min(res)\n",
    "print numpy.max(res)\n",
    "print numpy.mean(res)/len(vervolg) * 100"
   ]
  },
  {
   "cell_type": "code",
   "execution_count": null,
   "metadata": {},
   "outputs": [],
   "source": [
    "seed = [1, 35, 24, 21, 1, 24, 17, 20, 0, 32, 28, 21, 30, 36, 41, 1, 31, 22, 1, 36, 25, 29, 21, 1, 17, 35, 1, 35, 24, 21, 1, 39, 21, 30, 36, 1, 20, 31, 39, 30, 1, 36, 31, 1, 28, 31, 31, 27, 1, 17, 18, 31, 37, 36, 1, 24, 21, 34, 1, 17, 30, 20, 1, 36, 31, 1, 39, 31, 30, 20, 21, 34, 1, 39, 24, 17, 36, 1, 39, 17, 35, 0, 23, 31, 25, 30, 23, 1, 36, 31, 1, 24, 17, 32, 32, 21, 30, 1, 30, 21]\n",
    "vervolg = \"xt. First, she tried to look down and make out what\\nshe was coming to, but it was too dark to see anything; then she\\nlooked at the sides of the well, and noticed that they were filled with\\ncupboards and book-shelves; here and there she saw maps and pictures\\nhung upon pegs. She took down a jar from one of the shelves as\""
   ]
  },
  {
   "cell_type": "code",
   "execution_count": null,
   "metadata": {},
   "outputs": [],
   "source": [
    "print len(vervolg)\n",
    "res = generate(seed, vervolg, char_to_int, int_to_char)\n",
    "print res\n",
    "print \n",
    "print vervolg"
   ]
  },
  {
   "cell_type": "code",
   "execution_count": null,
   "metadata": {},
   "outputs": [],
   "source": [
    "from matplotlib import pyplot as plt\n",
    "import numpy as np\n",
    "randn = np.random.randn\n",
    "from pandas import *\n",
    "\n",
    "idx = Index(arange(1,11))\n",
    "df = DataFrame(randn(10, 5), index=idx, columns=['A', 'B', 'C', 'D', 'E'])\n",
    "vals = np.around(df.values,2)\n",
    "normal = plt.Normalize(vals.min()-1, vals.max()+1)\n",
    "\n",
    "fig = plt.figure(figsize=(15,8))\n",
    "ax = fig.add_subplot(111, frameon=True, xticks=[], yticks=[])\n",
    "\n",
    "the_table=plt.table(cellText=vals, rowLabels=df.index, colLabels=df.columns, \n",
    "                    colWidths = [0.03]*vals.shape[1], loc='center', \n",
    "                    cellColours=plt.cm.RdYlGn(normal(vals)))"
   ]
  },
  {
   "cell_type": "code",
   "execution_count": null,
   "metadata": {},
   "outputs": [],
   "source": [
    "def select_char_p(prediction, index_next, top=10):\n",
    "    \"\"\"Wanneer kies je voor het gegeven next character (uit de tekst) en wanneer kies je een ander char (op basis van de \n",
    "    prediction)? \n",
    "    Eerste idee: als index_next niet in de top 10 zit, dan sample je uit prediction, ander houd je index_next\n",
    "    (of argmax uit prediction)\n",
    "    \"\"\"\n",
    "    #print 'index next character:', index_next\n",
    "    ind = numpy.argpartition(prediction, -top)[-top:]\n",
    "    #print ind\n",
    "    if index_next not in ind:\n",
    "        print 'Changing!'\n",
    "        #return numpy.argmax(prediction)\n",
    "        idx = numpy.random.choice(n_vocab, p=prediction)\n",
    "        return idx, prediction[idx]\n",
    "    return index_next, prediction[index_next]\n",
    "\n",
    "def color(vervolg, char_to_int, int_to_char):\n",
    "    begin = [39, 21, 28, 28, 1, 39, 17, 25, 36, 6, 1, 17, 35, 1, 35, 24, 21, 1, 24, 17, 20, 1, 30, 31, 36, 24, 25, 30, 23, 1, 21, 28, 35, 21, 1, 36, 31, 1, 20, 31, 6, 1, 17, 30, 20, 0, 32, 21, 34, 24, 17, 32, 35, 1, 17, 22, 36, 21, 34, 1, 17, 28, 28, 1, 25, 36, 1, 29, 25, 23, 24, 36, 1, 36, 21, 28, 28, 1, 24, 21, 34, 1, 35, 31, 29, 21, 36, 24, 25, 30, 23, 1, 39, 31, 34, 36, 24, 1, 24, 21]\n",
    "    #print len(begin)\n",
    "    t = []\n",
    "    p = []\n",
    "    \n",
    "    for c in vervolg.lower():\n",
    "        x = numpy.reshape(begin, (1, len(begin), 1))\n",
    "        x = x / float(n_vocab)\n",
    "        prediction = model.predict(x, verbose=0)\n",
    "    \n",
    "        index_next = char_to_int[c]\n",
    "        real = prediction[0][index_next]\n",
    "        result, pred = select_char_p(prediction[0], index_next)\n",
    "        print result, pred, real\n",
    "    \n",
    "        begin.append(index_next)\n",
    "        begin = begin[1:len(begin)]\n",
    "    \n",
    "        t.append(int_to_char[index_next])\n",
    "        p.append(real)\n",
    "\n",
    "    return ''.join(t), p\n",
    "text, vals = color(vervolg, char_to_int, int_to_char)"
   ]
  },
  {
   "cell_type": "code",
   "execution_count": null,
   "metadata": {},
   "outputs": [],
   "source": [
    "n=20\n",
    "s = [text[i:i+n] for i in range(0, len(text), n)]\n",
    "t = []\n",
    "for l in s:\n",
    "    t.append([c for c in l])\n",
    "print t\n",
    "print len(t)"
   ]
  },
  {
   "cell_type": "code",
   "execution_count": null,
   "metadata": {},
   "outputs": [],
   "source": [
    "matplotlib.rcParams.update({'font.size': 16})\n",
    "fig = plt.figure()\n",
    "ax = fig.add_subplot(111, xticks=[], yticks=[])\n",
    "\n",
    "norm = plt.Normalize(0.0, 1.0)\n",
    "\n",
    "nums = numpy.reshape(vals, (len(t), len(t[0])))\n",
    "\n",
    "the_table=plt.table( cellText=t, cellColours=plt.cm.RdYlGn(norm(nums)), colWidths = [0.1]*nums.shape[1])"
   ]
  },
  {
   "cell_type": "code",
   "execution_count": null,
   "metadata": {},
   "outputs": [],
   "source": [
    "print text"
   ]
  },
  {
   "cell_type": "code",
   "execution_count": null,
   "metadata": {},
   "outputs": [],
   "source": [
    "\n",
    "a= numpy.reshape(vals, (len(t), len(t[0])))\n",
    "print a.shape"
   ]
  },
  {
   "cell_type": "code",
   "execution_count": null,
   "metadata": {},
   "outputs": [],
   "source": [
    "x = numpy.reshape(vals, (1, len(vals)))\n",
    "x"
   ]
  }
 ],
 "metadata": {
  "language_info": {
   "name": "python",
   "pygments_lexer": "ipython3"
  }
 },
 "nbformat": 4,
 "nbformat_minor": 2
}
