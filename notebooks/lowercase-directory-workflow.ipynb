{
 "cells": [
  {
   "cell_type": "code",
   "execution_count": null,
   "metadata": {},
   "outputs": [],
   "source": [
    "%load_ext autoreload\n",
    "%autoreload 2"
   ]
  },
  {
   "cell_type": "code",
   "execution_count": null,
   "metadata": {},
   "outputs": [],
   "source": [
    "import nlppln\n",
    "\n",
    "with nlppln.WorkflowGenerator() as wf:\n",
    "    wf.load(steps_dir='../cwl/')\n",
    "    print(wf.list_steps())\n",
    "\n",
    "    in_dir = wf.add_inputs(in_dir='Directory')\n",
    "    dir_name = wf.add_inputs(dir_name='string', default='gs_lowercase')\n",
    "\n",
    "    txt_files = wf.ls(in_dir=in_dir)\n",
    "    lowercase = wf.lowercase(in_file=txt_files, scatter='in_file', scatter_method='dotproduct')\n",
    "    out_dir = wf.save_files_to_dir(dir_name=dir_name, in_files=lowercase)\n",
    "\n",
    "    wf.add_outputs(out_dir=out_dir)\n",
    "\n",
    "    #wf.save('../cwl/lowercase-directory.cwl')"
   ]
  }
 ],
 "metadata": {
  "language_info": {
   "name": "python",
   "pygments_lexer": "ipython3"
  }
 },
 "nbformat": 4,
 "nbformat_minor": 2
}
