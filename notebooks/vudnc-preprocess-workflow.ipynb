{
 "cells": [
  {
   "cell_type": "code",
   "execution_count": null,
   "metadata": {},
   "outputs": [],
   "source": [
    "%load_ext autoreload\n",
    "%autoreload 2"
   ]
  },
  {
   "cell_type": "code",
   "execution_count": null,
   "metadata": {},
   "outputs": [],
   "source": [
    "# align subworkflow\n",
    "import nlppln\n",
    "\n",
    "wf = nlppln.WorkflowGenerator()\n",
    "wf.load(steps_dir='../cwl/')\n",
    "wf.load(step_file='../../edlib-align/align.cwl')\n",
    "print(wf.list_steps())\n",
    "\n",
    "gs = wf.add_input(gs='File[]')\n",
    "ocr = wf.add_input(ocr='File[]')\n",
    "align_metadata = wf.add_input(align_m='string?')\n",
    "align_changes = wf.add_input(align_c='string?')\n",
    "\n",
    "changes_files, metadata_files = wf.align(file1=ocr, file2=gs, scatter=['file1', 'file2'], scatter_method='dotproduct')\n",
    "metadata = wf.merge_json(in_files=metadata_files, name=align_metadata)\n",
    "changes = wf.merge_json(in_files=changes_files, name=align_changes)\n",
    "\n",
    "alignment_files = wf.char_align(ocr_text=ocr, gs_text=gs, metadata=metadata_files, \n",
    "                                scatter=['ocr_text', 'gs_text', 'metadata'], scatter_method='dotproduct')\n",
    "\n",
    "wf.add_outputs(metadata=metadata, changes=changes, alignments=alignment_files)\n",
    "wf.save('../cwl/align-texts-wf.cwl', pack=False, relative=False, inline=True)"
   ]
  },
  {
   "cell_type": "code",
   "execution_count": null,
   "metadata": {},
   "outputs": [],
   "source": [
    "import nlppln\n",
    "\n",
    "wf = nlppln.WorkflowGenerator()\n",
    "wf.load(steps_dir='../cwl/')\n",
    "print(wf.list_steps())\n",
    "\n",
    "in_dir = wf.add_input(in_dir='Directory')\n",
    "ocr_dir_name = wf.add_input(ocr_dir_name='string')\n",
    "gs_dir_name = wf.add_input(gs_dir_name='string')\n",
    "aligned_dir_name = wf.add_input(aligned_dir_name='string')\n",
    "ocr_char_counts = wf.add_input(ocr_n='string?')\n",
    "gs_char_counts = wf.add_input(gs_n='string?')\n",
    "align_metadata = wf.add_input(align_m='string?')\n",
    "align_changes = wf.add_input(align_c='string?')\n",
    "\n",
    "#dncvu_files = wf.ls(in_dir=in_dir)\n",
    "vudnc_files = wf.vudnc_select_files(in_dir=in_dir)\n",
    "gs_with_empty, ocr_with_empty = wf.vudnc2ocr_and_gs(in_file=vudnc_files, scatter='in_file', scatter_method='dotproduct')\n",
    "gs, ocr = wf.remove_empty_files(gs_files=gs_with_empty, ocr_files=ocr_with_empty)\n",
    "\n",
    "gs_dir = wf.save_files_to_dir(dir_name=gs_dir_name, in_files=gs)\n",
    "ocr_dir = wf.save_files_to_dir(dir_name=ocr_dir_name, in_files=ocr)\n",
    "\n",
    "ocr_cc = wf.count_chars(in_file=ocr, scatter='in_file', scatter_method='dotproduct')\n",
    "ocr_cc_csv = wf.merge_json(in_files=ocr_cc, name=ocr_char_counts)\n",
    "\n",
    "gs_cc = wf.count_chars(in_file=gs, scatter='in_file', scatter_method='dotproduct')\n",
    "gs_cc_csv = wf.merge_json(in_files=gs_cc, name=gs_char_counts)\n",
    "\n",
    "char_alignment_files, changes, metadata = wf.align_texts_wf(gs=gs, ocr=ocr, align_c=align_changes, align_m=align_metadata)\n",
    "aligned_dir = wf.save_files_to_dir(dir_name=aligned_dir_name, in_files=char_alignment_files)\n",
    "\n",
    "wf.add_outputs(gs_dir=gs_dir, ocr_dir=ocr_dir, ocr_char_counts=ocr_cc_csv, gs_char_counts=gs_cc_csv, metadata=metadata, changes=changes)\n",
    "wf.add_outputs(aligned_dir=aligned_dir)\n",
    "wf.save('../cwl/vudnc-preprocess.cwl', inline=True, relative=False)"
   ]
  },
  {
   "cell_type": "code",
   "execution_count": null,
   "metadata": {},
   "outputs": [],
   "source": [
    "import nlppln\n",
    "\n",
    "wf = nlppln.WorkflowGenerator()\n",
    "wf.load(steps_dir='../cwl/')\n",
    "print(wf.list_steps())\n",
    "\n",
    "in_dir = wf.add_input(in_dir='Directory')\n",
    "ocr_dir_name = wf.add_input(ocr_dir_name='string')\n",
    "gs_dir_name = wf.add_input(gs_dir_name='string')\n",
    "aligned_dir_name = wf.add_input(aligned_dir_name='string')\n",
    "ocr_char_counts = wf.add_input(ocr_n='string?')\n",
    "gs_char_counts = wf.add_input(gs_n='string?')\n",
    "align_metadata = wf.add_input(align_m='string?')\n",
    "align_changes = wf.add_input(align_c='string?')\n",
    "\n",
    "#dncvu_files = wf.ls(in_dir=in_dir)\n",
    "vudnc_files = wf.vudnc_select_files(in_dir=in_dir)\n",
    "gs_with_empty, ocr_with_empty = wf.vudnc2ocr_and_gs(in_file=vudnc_files, scatter='in_file', scatter_method='dotproduct')\n",
    "gs, ocr = wf.remove_empty_files(gs_files=gs_with_empty, ocr_files=ocr_with_empty)\n",
    "\n",
    "gs_dir = wf.save_files_to_dir(dir_name=gs_dir_name, in_files=gs)\n",
    "ocr_dir = wf.save_files_to_dir(dir_name=ocr_dir_name, in_files=ocr)\n",
    "\n",
    "ocr_cc = wf.count_chars(in_file=ocr, scatter='in_file', scatter_method='dotproduct')\n",
    "ocr_cc_csv = wf.merge_json(in_files=ocr_cc, name=ocr_char_counts)\n",
    "\n",
    "gs_cc = wf.count_chars(in_file=gs, scatter='in_file', scatter_method='dotproduct')\n",
    "gs_cc_csv = wf.merge_json(in_files=gs_cc, name=gs_char_counts)\n",
    "\n",
    "char_alignment_files, changes, metadata = wf.align_texts_wf(gs=gs, ocr=ocr, align_c=align_changes, align_m=align_metadata)\n",
    "aligned_dir = wf.save_files_to_dir(dir_name=aligned_dir_name, in_files=char_alignment_files)\n",
    "char_alignment_files, changes, metadata = wf.align_texts_wf(gs=gs, ocr=ocr, align_c=align_changes, align_m=align_metadata)\n",
    "aligned_dir = wf.save_files_to_dir(dir_name=aligned_dir_name, in_files=char_alignment_files)\n",
    "\n",
    "wf.add_outputs(gs_dir=gs_dir, ocr_dir=ocr_dir, ocr_char_counts=ocr_cc_csv, gs_char_counts=gs_cc_csv, metadata=metadata, changes=changes)\n",
    "wf.add_outputs(aligned_dir=aligned_dir)\n",
    "wf.save('../cwl/vudnc-preprocess2.cwl', inline=True, relative=False)"
   ]
  },
  {
   "cell_type": "code",
   "execution_count": null,
   "metadata": {},
   "outputs": [],
   "source": [
    "import nlppln\n",
    "\n",
    "wf = nlppln.WorkflowGenerator()\n",
    "wf.load(steps_dir='../cwl/')\n",
    "wf.load(step_file='../../edlib-align/align.cwl')"
   ]
  },
  {
   "cell_type": "code",
   "execution_count": null,
   "metadata": {},
   "outputs": [],
   "source": [
    "wf.steps_library['align-texts-wf'].to_obj()"
   ]
  },
  {
   "cell_type": "code",
   "execution_count": null,
   "metadata": {},
   "outputs": [],
   "source": [
    "wf.steps_library['align-texts-wf'].to_obj(inline=False)"
   ]
  },
  {
   "cell_type": "code",
   "execution_count": null,
   "metadata": {},
   "outputs": [],
   "source": [
    "import nlppln\n",
    "\n",
    "with nlppln.WorkflowGenerator() as wf:\n",
    "    wf.load(steps_dir='../cwl/')\n",
    "    print(wf.list_steps())\n",
    "    aligned_dir_name = wf.add_input(aligned_dir_name='string')\n",
    "    gs_dir_name = wf.add_input(gs_dir_name='string')\n",
    "    ocr_dir_name = wf.add_input(ocr_dir_name='string')\n",
    "    in_dir = wf.add_input(in_dir='Directory')\n",
    "    \n",
    "    aligned_dir, changes, gs_char_counts, gs_dir, metadata, ocr_char_counts, ocr_dir = wf.vudnc_preprocess(aligned_dir_name=aligned_dir_name, \n",
    "                                                                                                           gs_dir_name=gs_dir_name, \n",
    "                                                                                                           in_dir=in_dir, \n",
    "                                                                                                           ocr_dir_name=ocr_dir_name)\n",
    "    \n",
    "    wf.add_outputs(aligned=aligned_dir)\n",
    "    \n",
    "    wf.save('subsubworkflow.cwl', inline=True)"
   ]
  }
 ],
 "metadata": {
  "language_info": {
   "name": "python",
   "pygments_lexer": "ipython3"
  }
 },
 "nbformat": 4,
 "nbformat_minor": 2
}
