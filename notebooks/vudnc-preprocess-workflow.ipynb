{
 "cells": [
  {
   "cell_type": "code",
   "execution_count": null,
   "metadata": {},
   "outputs": [],
   "source": [
    "%load_ext autoreload\n",
    "%autoreload 2"
   ]
  },
  {
   "cell_type": "code",
   "execution_count": null,
   "metadata": {},
   "outputs": [],
   "source": [
    "import nlppln\n",
    "import ochre\n",
    "import os\n",
    "\n",
    "working_dir = '/home/jvdzwaan/cwl-working-dir/'\n",
    "\n",
    "with nlppln.WorkflowGenerator(working_dir=working_dir) as wf:\n",
    "    wf.load(steps_dir=ochre.cwl_path())\n",
    "    print(wf.list_steps())\n",
    "\n",
    "    archive = wf.add_input(archive='File')\n",
    "    ocr_dir_name = wf.add_input(ocr_dir_name='string?', default='ocr')\n",
    "    gs_dir_name = wf.add_input(gs_dir_name='string?', default='gs')\n",
    "    \n",
    "    in_dir = wf.archive2dir(archive=archive)\n",
    "\n",
    "    vudnc_files = wf.vudnc_select_files(in_dir=in_dir)\n",
    "    gs_with_empty, ocr_with_empty = wf.vudnc2ocr_and_gs(in_file=vudnc_files, \n",
    "                                                        scatter='in_file', scatter_method='dotproduct')\n",
    "    gs_dir = wf.save_files_to_dir(dir_name=gs_dir_name, in_files=gs_with_empty)\n",
    "    ocr_dir = wf.save_files_to_dir(dir_name=ocr_dir_name, in_files=ocr_with_empty)\n",
    "    gs, ocr = wf.remove_empty_files(gs_dir=gs_dir, ocr_dir=ocr_dir)\n",
    "\n",
    "    gs_dir = wf.save_files_to_dir(dir_name=gs_dir_name, in_files=gs)\n",
    "    ocr_dir = wf.save_files_to_dir(dir_name=ocr_dir_name, in_files=ocr)\n",
    "\n",
    "    wf.add_outputs(gs_dir=gs_dir, ocr_dir=ocr_dir)\n",
    "    wf.save(os.path.join(ochre.cwl_path(), 'vudnc-preprocess-pack.cwl'), pack=True, relative=False)"
   ]
  }
 ],
 "metadata": {
  "language_info": {
   "name": "python",
   "pygments_lexer": "ipython3"
  }
 },
 "nbformat": 4,
 "nbformat_minor": 2
}
