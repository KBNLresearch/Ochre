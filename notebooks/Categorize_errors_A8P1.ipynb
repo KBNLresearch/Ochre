{
 "cells": [
  {
   "cell_type": "code",
   "execution_count": null,
   "metadata": {},
   "outputs": [],
   "source": [
    "%load_ext autoreload\n",
    "%autoreload 2"
   ]
  },
  {
   "cell_type": "code",
   "execution_count": null,
   "metadata": {},
   "outputs": [],
   "source": [
    "%matplotlib inline\n",
    "\n",
    "import numpy as np\n",
    "import pandas as pd\n",
    "import matplotlib.pyplot as plt\n",
    "\n",
    "import matplotlib\n",
    "matplotlib.rcParams.update({'font.size': 14})"
   ]
  },
  {
   "cell_type": "code",
   "execution_count": null,
   "metadata": {},
   "outputs": [],
   "source": [
    "# Create one df containing the wordmappings\n",
    "import os\n",
    "from nlppln.utils import get_files\n",
    "\n",
    "in_dir_pred = '/home/jvdzwaan/data/kb-ocr/text_aligned_blocks-match_gs/A8P2-wm/'\n",
    "in_dir_gs = '/home/jvdzwaan/data/kb-ocr/text_aligned_blocks-match_gs/word-mappings/'\n",
    "\n",
    "pred_dfs = []\n",
    "gs_dfs = []\n",
    "\n",
    "pred_files = get_files(in_dir_pred)\n",
    "for pred_file in pred_files:\n",
    "    pred_df = pd.read_csv(pred_file)\n",
    "    \n",
    "    pred_dfs.append(pred_df)\n",
    "    \n",
    "    gs_file = os.path.join(in_dir_gs, os.path.basename(pred_file))\n",
    "    gs_df = pd.read_csv(gs_file)\n",
    "    \n",
    "    gs_dfs.append(gs_df)"
   ]
  },
  {
   "cell_type": "code",
   "execution_count": null,
   "metadata": {},
   "outputs": [],
   "source": [
    "from ochre.utils import merge_wordmappings2\n",
    "\n",
    "df = merge_wordmappings2(pred_dfs, gs_dfs)\n",
    "df"
   ]
  },
  {
   "cell_type": "code",
   "execution_count": null,
   "metadata": {},
   "outputs": [],
   "source": [
    "df = df.fillna('@@@')"
   ]
  },
  {
   "cell_type": "code",
   "execution_count": null,
   "metadata": {},
   "outputs": [],
   "source": [
    "from ochre.ocrerrors import get_level1_error_classification\n",
    "\n",
    "df['level1'] = get_level1_error_classification(df)"
   ]
  },
  {
   "cell_type": "code",
   "execution_count": null,
   "metadata": {},
   "outputs": [],
   "source": [
    "df.head()"
   ]
  },
  {
   "cell_type": "code",
   "execution_count": null,
   "metadata": {},
   "outputs": [],
   "source": [
    "from ochre.ocrerrors import get_level1_error_counts\n",
    "\n",
    "ov = get_level1_error_counts(df)\n",
    "ov"
   ]
  },
  {
   "cell_type": "code",
   "execution_count": null,
   "metadata": {},
   "outputs": [],
   "source": [
    "from ochre.ocrerrors import get_level1_error_counts\n",
    "\n",
    "ov = get_level1_error_counts(df)\n",
    "ov"
   ]
  },
  {
   "cell_type": "code",
   "execution_count": null,
   "metadata": {},
   "outputs": [],
   "source": [
    "ov = ov.iloc[::-1]\n",
    "ov.plot.barh(figsize=(15,8), legend=False)"
   ]
  },
  {
   "cell_type": "code",
   "execution_count": null,
   "metadata": {},
   "outputs": [],
   "source": [
    "# make wordcloud from \n",
    "grouped = df.groupby('level1')"
   ]
  },
  {
   "cell_type": "code",
   "execution_count": null,
   "metadata": {},
   "outputs": [],
   "source": [
    "grouped.get_group('changed mistake')"
   ]
  },
  {
   "cell_type": "code",
   "execution_count": null,
   "metadata": {},
   "outputs": [],
   "source": [
    "from collections import Counter\n",
    "\n",
    "from wordcloud import WordCloud\n",
    "\n",
    "c = Counter(list(grouped.get_group('correctly corrected')['corrected-ocr']))\n",
    "\n",
    "\n",
    "wc = WordCloud(background_color=\"white\", width=800, height=600)\n",
    "    # generate word cloud\n",
    "wc.generate_from_frequencies(c)\n",
    "plt.imshow(wc, interpolation='bilinear')\n",
    "plt.axis(\"off\")"
   ]
  },
  {
   "cell_type": "code",
   "execution_count": null,
   "metadata": {},
   "outputs": [],
   "source": [
    "from ochre.ocrerrors import categorize_errors\n",
    "\n",
    "result = categorize_errors(df, [], ocr_name='corrected-ocr')"
   ]
  },
  {
   "cell_type": "code",
   "execution_count": null,
   "metadata": {},
   "outputs": [],
   "source": [
    "result.query('error_type != \"multiple\"')"
   ]
  }
 ],
 "metadata": {
  "language_info": {
   "name": "python",
   "pygments_lexer": "ipython3"
  }
 },
 "nbformat": 4,
 "nbformat_minor": 2
}
