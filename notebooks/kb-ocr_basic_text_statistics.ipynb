{
 "cells": [
  {
   "cell_type": "code",
   "execution_count": null,
   "metadata": {},
   "outputs": [],
   "source": [
    "%load_ext autoreload\n",
    "%autoreload 2"
   ]
  },
  {
   "cell_type": "code",
   "execution_count": null,
   "metadata": {},
   "outputs": [],
   "source": [
    "%matplotlib inline\n",
    "\n",
    "import numpy as np\n",
    "import pandas as pd\n",
    "import matplotlib.pyplot as plt\n",
    "\n",
    "from tqdm import tqdm_notebook as tqdm"
   ]
  },
  {
   "cell_type": "code",
   "execution_count": null,
   "metadata": {},
   "outputs": [],
   "source": [
    "from pattern.nl import parsetree\n",
    "\n",
    "def parse(text, parsetree):\n",
    "    tokens = []\n",
    "    p = parsetree(text,\n",
    "                  tokenize=True,     # Split punctuation marks from words?\n",
    "                  tags=True,         # Parse part-of-speech tags? (NN, JJ, ...)\n",
    "                  chunks=False,      # Parse chunks? (NP, VP, PNP, ...)\n",
    "                  relations=False,   # Parse chunk relations? (-SBJ, -OBJ, ...)\n",
    "                  lemmata=True,      # Parse lemmata? (ate => eat)\n",
    "                  encoding='utf-8',  # Input string encoding.\n",
    "                  tagset=None)       # Penn Treebank II (default) or UNIVERSAL.\n",
    "    for sentence_id, sentence in enumerate(p):\n",
    "        for word_id, word in enumerate(sentence):\n",
    "            tokens.append({'id': word_id,\n",
    "                           'word': word.string,\n",
    "                           'lemma': word.lemma,\n",
    "                           'sentence': sentence_id,\n",
    "                           'pos': word.type})\n",
    "    return tokens"
   ]
  },
  {
   "cell_type": "code",
   "execution_count": null,
   "metadata": {},
   "outputs": [],
   "source": [
    "import os\n",
    "import datetime\n",
    "import pattern\n",
    "\n",
    "def basic_text_statistics(in_files):\n",
    "    d = {'num_words': [], 'num_sentences': []}\n",
    "    text_names = []\n",
    "\n",
    "    for in_file in tqdm(in_files):\n",
    "        with open(in_file) as f:\n",
    "            tokens = parse(f.read(), parsetree)\n",
    "    \n",
    "        d['num_words'].append(len(tokens))\n",
    "        sentences = [t['sentence'] for t in tokens]\n",
    "        num_sentences = len(set(sentences))\n",
    "        d['num_sentences'].append(num_sentences)\n",
    "    \n",
    "        text_id = os.path.splitext(os.path.basename(in_file))[0]\n",
    "        text_names.append(text_id)\n",
    "    return pd.DataFrame(d, index=text_names)"
   ]
  },
  {
   "cell_type": "code",
   "execution_count": null,
   "metadata": {},
   "outputs": [],
   "source": [
    "from nlppln.utils import get_files\n",
    "\n",
    "language = 'nl'\n",
    "\n",
    "in_dir = '/home/jvdzwaan/data/kb-ocr/text_aligned_blocks-match_gs/gs'\n",
    "\n",
    "in_files = get_files(in_dir)\n",
    "print(len(in_files))\n",
    "\n",
    "df = basic_text_statistics(in_files)\n",
    "df.to_csv('/home/jvdzwaan/data/kb-ocr/stats-text_aligned_blocks-match_gs-gs.csv')"
   ]
  },
  {
   "cell_type": "code",
   "execution_count": null,
   "metadata": {},
   "outputs": [],
   "source": [
    "in_dir = '/home/jvdzwaan/data/kb-ocr/text-not-aligned/gs/'\n",
    "\n",
    "in_files = get_files(in_dir)\n",
    "print(len(in_files))\n",
    "\n",
    "df2 = basic_text_statistics(in_files)\n",
    "df2.to_csv('/home/jvdzwaan/data/kb-ocr/stats-text_not_aligned-gs.csv')"
   ]
  },
  {
   "cell_type": "code",
   "execution_count": null,
   "metadata": {},
   "outputs": [],
   "source": [
    "df"
   ]
  },
  {
   "cell_type": "code",
   "execution_count": null,
   "metadata": {},
   "outputs": [],
   "source": [
    "df2"
   ]
  },
  {
   "cell_type": "code",
   "execution_count": null,
   "metadata": {},
   "outputs": [],
   "source": [
    "df.to_csv('/home/jvdzwaan/data/kb-ocr/stats-text_aligned_blocks-match_gs-gs.csv')"
   ]
  }
 ],
 "metadata": {
  "language_info": {
   "name": "python",
   "pygments_lexer": "ipython3"
  }
 },
 "nbformat": 4,
 "nbformat_minor": 2
}
