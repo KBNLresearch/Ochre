{
 "cells": [
  {
   "cell_type": "code",
   "execution_count": null,
   "metadata": {},
   "outputs": [],
   "source": [
    "%load_ext autoreload\n",
    "%autoreload 2"
   ]
  },
  {
   "cell_type": "code",
   "execution_count": null,
   "metadata": {},
   "outputs": [],
   "source": [
    "%matplotlib inline\n",
    "\n",
    "import numpy as np\n",
    "import pandas as pd\n",
    "import matplotlib.pyplot as plt"
   ]
  },
  {
   "cell_type": "code",
   "execution_count": null,
   "metadata": {},
   "outputs": [],
   "source": [
    "#df = pd.read_csv('/home/jvdzwaan/data/dncvu/word_mapping_gs_ocr.csv', index_col=0, encoding='utf-8')\n",
    "#df = pd.read_csv('/home/jvdzwaan/data/dncvu/word_mapping_gs_1x256-bidirect.csv', encoding='utf-8')\n",
    "#df = pd.read_csv('/home/jvdzwaan/data/dncvu/word_mapping_gs_1x256.csv', encoding='utf-8')\n",
    "df2 = pd.read_csv('/home/jvdzwaan/data/dncvu/word_mapping_gs_ocr-test-lowercase.csv', encoding='utf-8')\n",
    "df = pd.read_csv('/home/jvdzwaan/data/dncvu/word_mapping_gs_256-seq2seq-lowercase.csv', encoding='utf-8')\n",
    "#df = pd.read_csv('/home/jvdzwaan/data/tmp/wm/BAOku56.csv')\n",
    "print df.shape\n",
    "#print df2.shape\n",
    "df"
   ]
  },
  {
   "cell_type": "code",
   "execution_count": null,
   "metadata": {},
   "outputs": [],
   "source": [
    "def to_list_of_dfs(df):\n",
    "    dfs = []\n",
    "    start = 0\n",
    "    for i in df.index[1:]:\n",
    "        res = df.loc[i]\n",
    "        if res['Unnamed: 0'] == 0:\n",
    "            dfs.append(df.loc[start:i-1])\n",
    "            start = i\n",
    "    dfs.append(df.loc[start:])\n",
    "    return dfs\n",
    "\n",
    "def merge_ocr(wm_improved_ocr, wm_original_ocr):\n",
    "    io_dfs = to_list_of_dfs(wm_improved_ocr)\n",
    "    oo_dfs = to_list_of_dfs(wm_original_ocr)\n",
    "\n",
    "    res = []\n",
    "    for d1, d2 in zip(io_dfs, oo_dfs):\n",
    "        d1 = d1.reset_index()\n",
    "        del d1['index']\n",
    "        d2 = d2.reset_index()\n",
    "        del d2['index']\n",
    "        r = pd.concat([d1, d2], axis=1)\n",
    "        r.columns = ['wordindex1', 'gs', 'ocr', 'wordindex2', 'gs2', 'original-ocr']\n",
    "        res.append(r[['gs', 'ocr', 'original-ocr', 'gs2']])\n",
    "    df = pd.concat(res)\n",
    "    return df\n",
    "\n",
    "df = merge_ocr(df, df2)\n",
    "print df.shape"
   ]
  },
  {
   "cell_type": "code",
   "execution_count": null,
   "metadata": {},
   "outputs": [],
   "source": [
    "df"
   ]
  },
  {
   "cell_type": "code",
   "execution_count": null,
   "metadata": {},
   "outputs": [],
   "source": [
    "from ochre.ocrerrors import hyphenation_error, hyphenation_error2, "
   ]
  },
  {
   "cell_type": "code",
   "execution_count": null,
   "metadata": {},
   "outputs": [],
   "source": [
    "df[df['gs'] != df['ocr']].shape"
   ]
  },
  {
   "cell_type": "code",
   "execution_count": null,
   "metadata": {},
   "outputs": [],
   "source": [
    "def pr(row):\n",
    "    print(repr(row['gs']), repr(row['gs2']))\n",
    "\n",
    "df[df['gs'] != df['gs2']].apply(pr, axis=1)"
   ]
  },
  {
   "cell_type": "code",
   "execution_count": null,
   "metadata": {},
   "outputs": [],
   "source": [
    "errors = df[df['gs'] != df['ocr']]\n",
    "errors = errors.fillna(u'@@@')\n",
    "print errors.shape\n",
    "#errors"
   ]
  },
  {
   "cell_type": "code",
   "execution_count": null,
   "metadata": {},
   "outputs": [],
   "source": [
    "errors"
   ]
  },
  {
   "cell_type": "code",
   "execution_count": null,
   "metadata": {},
   "outputs": [],
   "source": [
    "def hyphenation_error(row):\n",
    "    #ocr = 'gesta- tionneerd'\n",
    "    #gs = 'gestationneerd'\n",
    "    gs = row['gs']\n",
    "    ocr = row['ocr']\n",
    "    \n",
    "    #print type(ocr)\n",
    "    #print type(gs)\n",
    "    \n",
    "    if ocr.replace(u'- ', u'') == gs:\n",
    "        return True\n",
    "    return False\n",
    "\n",
    "#print errors[errors.apply(hyphenation_error, axis=1)]\n",
    "errors[errors.apply(hyphenation_error, axis=1)].shape"
   ]
  },
  {
   "cell_type": "code",
   "execution_count": null,
   "metadata": {},
   "outputs": [],
   "source": [
    "e = {}\n",
    "e['hyphenation'] = errors[errors.apply(hyphenation_error, axis=1)].shape[0]\n",
    "e"
   ]
  },
  {
   "cell_type": "code",
   "execution_count": null,
   "metadata": {},
   "outputs": [],
   "source": [
    "errors = errors[errors.apply(hyphenation_error, axis=1) == False]\n",
    "errors.shape"
   ]
  },
  {
   "cell_type": "code",
   "execution_count": null,
   "metadata": {},
   "outputs": [],
   "source": [
    "def hyphenation_error2(row):\n",
    "    #ocr = 'gesta-tionneerd'\n",
    "    #gs = 'gestationneerd'\n",
    "    gs = row['gs']\n",
    "    ocr = row['ocr']\n",
    "    \n",
    "    #print type(ocr)\n",
    "    #print type(gs)\n",
    "    \n",
    "    if ocr.replace(u'-', u'') == gs:\n",
    "        return True\n",
    "    return False\n",
    "\n",
    "s = errors[errors.apply(hyphenation_error2, axis=1)].shape\n",
    "print s\n",
    "e['hyphenation2'] = s[0]"
   ]
  },
  {
   "cell_type": "code",
   "execution_count": null,
   "metadata": {},
   "outputs": [],
   "source": [
    "errors = errors[errors.apply(hyphenation_error2, axis=1) == False]\n",
    "errors.shape"
   ]
  },
  {
   "cell_type": "code",
   "execution_count": null,
   "metadata": {},
   "outputs": [],
   "source": [
    "def uppercase_error(row):\n",
    "    #ocr = 'Woor'\n",
    "    #gs = 'WOORD'\n",
    "    gs = row['gs']\n",
    "    ocr = row['ocr']\n",
    "    \n",
    "    #print type(ocr)\n",
    "    #print type(gs)\n",
    "    \n",
    "    if ocr.lower() == gs.lower():\n",
    "        return True\n",
    "    return False\n",
    "s = errors[errors.apply(uppercase_error, axis=1)].shape\n",
    "print s\n",
    "e['case'] = s[0]"
   ]
  },
  {
   "cell_type": "code",
   "execution_count": null,
   "metadata": {},
   "outputs": [],
   "source": [
    "errors = errors[errors.apply(uppercase_error, axis=1)==False]\n",
    "print errors.shape"
   ]
  },
  {
   "cell_type": "code",
   "execution_count": null,
   "metadata": {},
   "outputs": [],
   "source": [
    "from string import punctuation\n",
    "\n",
    "def punctuation_error(row):\n",
    "    #ocr = '.'\n",
    "    #gs = ','\n",
    "    gs = row['gs']\n",
    "    ocr = row['ocr']\n",
    "    \n",
    "    #print type(ocr)\n",
    "    #print type(gs)\n",
    "    \n",
    "    if ocr in punctuation and gs in punctuation:\n",
    "        return True\n",
    "    return False\n",
    "s = errors[errors.apply(punctuation_error, axis=1)].shape\n",
    "print s\n",
    "e['punctuation'] = s[0]\n",
    "#print errors"
   ]
  },
  {
   "cell_type": "code",
   "execution_count": null,
   "metadata": {},
   "outputs": [],
   "source": [
    "errors = errors[errors.apply(punctuation_error, axis=1)==False]\n",
    "print errors.shape"
   ]
  },
  {
   "cell_type": "code",
   "execution_count": null,
   "metadata": {},
   "outputs": [],
   "source": [
    "def missing_punctuation_error(row):\n",
    "    #ocr = ''\n",
    "    #gs = ','\n",
    "    gs = row['gs']\n",
    "    ocr = row['ocr']\n",
    "    \n",
    "    #print type(ocr)\n",
    "    #print type(gs)\n",
    "    \n",
    "    if gs in punctuation and ocr == u'@@@':\n",
    "        return True\n",
    "    return False\n",
    "s = errors[errors.apply(missing_punctuation_error, axis=1)].shape\n",
    "print s\n",
    "e['missing_punctuation'] = s[0]"
   ]
  },
  {
   "cell_type": "code",
   "execution_count": null,
   "metadata": {},
   "outputs": [],
   "source": [
    "errors = errors[errors.apply(missing_punctuation_error, axis=1)==False]\n",
    "print errors.shape"
   ]
  },
  {
   "cell_type": "code",
   "execution_count": null,
   "metadata": {},
   "outputs": [],
   "source": [
    "def missing_word_error(row):\n",
    "    #ocr = ''\n",
    "    #gs = ','\n",
    "    gs = row['gs']\n",
    "    ocr = row['ocr']\n",
    "    \n",
    "    #print type(ocr)\n",
    "    #print type(gs)\n",
    "    \n",
    "    if ocr == u'@@@':\n",
    "        #print gs\n",
    "        return True\n",
    "    return False\n",
    "s = errors[errors.apply(missing_word_error, axis=1)].shape\n",
    "print s\n",
    "e['missing word'] = s[0]"
   ]
  },
  {
   "cell_type": "code",
   "execution_count": null,
   "metadata": {},
   "outputs": [],
   "source": [
    "errors = errors[errors.apply(missing_word_error, axis=1)==False]\n",
    "print errors.shape"
   ]
  },
  {
   "cell_type": "code",
   "execution_count": null,
   "metadata": {},
   "outputs": [],
   "source": [
    "def number_error(row):\n",
    "    #ocr = '64-jarige'\n",
    "    #gs = '-jarig'\n",
    "    gs = row['gs']\n",
    "    ocr = row['ocr']\n",
    "    \n",
    "    #print type(ocr)\n",
    "    #print type(gs)\n",
    "    \n",
    "    if filter(lambda x: not x.isdigit(), ocr) == filter(lambda x: not x.isdigit(), gs):\n",
    "        return True\n",
    "    return False\n",
    "#number_error('bla')\n",
    "s = errors[errors.apply(number_error, axis=1)].shape\n",
    "print s\n",
    "e['number'] = s[0]"
   ]
  },
  {
   "cell_type": "code",
   "execution_count": null,
   "metadata": {},
   "outputs": [],
   "source": [
    "errors = errors[errors.apply(number_error, axis=1)==False]\n",
    "print errors.shape"
   ]
  },
  {
   "cell_type": "code",
   "execution_count": null,
   "metadata": {},
   "outputs": [],
   "source": [
    "def whitespace_error(row):\n",
    "    #ocr = 'Wo or'\n",
    "    #gs = 'WOORD'\n",
    "    gs = row['gs']\n",
    "    ocr = row['ocr']\n",
    "    \n",
    "    #print type(ocr)\n",
    "    #print type(gs)\n",
    "    \n",
    "    if u''.join(ocr.split()) == u''.join(gs.split()):\n",
    "        return True\n",
    "    return False\n",
    "s = errors[errors.apply(whitespace_error, axis=1)].shape\n",
    "print s\n",
    "e['whitespace'] = s[0]"
   ]
  },
  {
   "cell_type": "code",
   "execution_count": null,
   "metadata": {},
   "outputs": [],
   "source": [
    "errors[errors.apply(whitespace_error, axis=1)]"
   ]
  },
  {
   "cell_type": "code",
   "execution_count": null,
   "metadata": {},
   "outputs": [],
   "source": [
    "errors = errors[errors.apply(whitespace_error, axis=1)==False]\n",
    "s = errors.shape\n",
    "#e['other'] = s[0]"
   ]
  },
  {
   "cell_type": "code",
   "execution_count": null,
   "metadata": {},
   "outputs": [],
   "source": [
    "import unicodedata\n",
    "\n",
    "def accent_error(row):\n",
    "    #gs = u'décors'\n",
    "    #ocr = u'decors'\n",
    "    \n",
    "    gs = row['gs']\n",
    "    ocr = row['ocr']\n",
    "    \n",
    "    no_accents = ''.join((c for c in unicodedata.normalize('NFD', gs) if unicodedata.category(c) != 'Mn'))\n",
    "    if no_accents == ocr:\n",
    "        return True\n",
    "    return False\n",
    "\n",
    "s = errors[errors.apply(accent_error, axis=1)].shape\n",
    "e['accent'] = s[0]"
   ]
  },
  {
   "cell_type": "code",
   "execution_count": null,
   "metadata": {},
   "outputs": [],
   "source": [
    "errors = errors[errors.apply(accent_error, axis=1)==False]"
   ]
  },
  {
   "cell_type": "code",
   "execution_count": null,
   "metadata": {},
   "outputs": [],
   "source": [
    "import codecs\n",
    "\n",
    "with codecs.open('/home/jvdzwaan/Desktop/BWNT05_3.0.1/BWNT05_v003.txt', 'rb', 'latin1') as f:\n",
    "    lines = f.readlines()\n",
    "\n",
    "terms = []\n",
    "    \n",
    "for line in lines:\n",
    "    entry = line.split(';')\n",
    "    # lexicon service needs lower case input\n",
    "    term = entry[3].lower()\n",
    "    term = term.replace('\"', '')\n",
    "    terms.append(term)\n",
    "\n",
    "print len(terms)\n",
    "terms = set(terms)"
   ]
  },
  {
   "cell_type": "code",
   "execution_count": null,
   "metadata": {},
   "outputs": [],
   "source": [
    "print terms"
   ]
  },
  {
   "cell_type": "code",
   "execution_count": null,
   "metadata": {},
   "outputs": [],
   "source": [
    "def real_word_error(row, ts):\n",
    "    #gs = u'hallo'\n",
    "    #ocr = u'boom'\n",
    "    #print len(ts)\n",
    "    \n",
    "    gs = row['gs']\n",
    "    ocr = row['ocr']\n",
    "    \n",
    "    return ocr in terms\n",
    "s = errors[errors.apply(real_word_error, args=(terms,), axis=1)].shape\n",
    "print s\n",
    "e['real_word'] = s[0]"
   ]
  },
  {
   "cell_type": "code",
   "execution_count": null,
   "metadata": {},
   "outputs": [],
   "source": [
    "errors = errors[errors.apply(real_word_error, axis=1)==False]"
   ]
  },
  {
   "cell_type": "code",
   "execution_count": null,
   "metadata": {},
   "outputs": [],
   "source": [
    "s = errors.shape\n",
    "e['other'] = s[0]"
   ]
  },
  {
   "cell_type": "code",
   "execution_count": null,
   "metadata": {},
   "outputs": [],
   "source": [
    "df = pd.DataFrame(e.items(), columns=['name','value'])\n",
    "df = df.set_index('name')\n",
    "df.columns = ['number']\n",
    "df\n",
    "df.plot.pie(y='number', figsize=(10,10))"
   ]
  },
  {
   "cell_type": "code",
   "execution_count": null,
   "metadata": {},
   "outputs": [],
   "source": [
    "df.plot.bar(y='number')"
   ]
  },
  {
   "cell_type": "code",
   "execution_count": null,
   "metadata": {},
   "outputs": [],
   "source": [
    "df"
   ]
  },
  {
   "cell_type": "code",
   "execution_count": null,
   "metadata": {},
   "outputs": [],
   "source": [
    "errors"
   ]
  },
  {
   "cell_type": "code",
   "execution_count": null,
   "metadata": {},
   "outputs": [],
   "source": [
    "gr = errors.groupby('gs')\n",
    "gr2 = errors.groupby('ocr')\n",
    "print len(errors.groupby('gs').groups)\n",
    "print len(errors.groupby('ocr').groups)"
   ]
  },
  {
   "cell_type": "code",
   "execution_count": null,
   "metadata": {},
   "outputs": [],
   "source": [
    "single = []\n",
    "\n",
    "for g in gr2.groups:\n",
    "    d = gr2.get_group(g)\n",
    "    if len(d) == 1:\n",
    "        single.append((g, d['gs'].values[0]))\n",
    "    else:\n",
    "        #print g\n",
    "        words = d['gs'].unique()\n",
    "        #for w in words:\n",
    "        #    print w, align(g, w)\n",
    "        print g, ':', u'\\t'.join(words), len(d['gs'])\n",
    "        #print\n",
    "        #pass\n",
    "print len(single)"
   ]
  },
  {
   "cell_type": "code",
   "execution_count": null,
   "metadata": {},
   "outputs": [],
   "source": [
    "import edlib\n",
    "import unicodedata\n",
    "from ochre.char_align import align_characters\n",
    "\n",
    "def align_output_to_input(input_str, output_str, empty_char=u'@'):\n",
    "    #print type(input_str)\n",
    "    #print type(output_str)\n",
    "    #print\n",
    "    # remove accented and other special characters, because edlib doesn't like them (this might be a python 2 problem)\n",
    "    #print output_str.encode('ASCII', 'replace')\n",
    "    #print input_str.encode('ASCII', 'replace')\n",
    "    t_output_str = output_str.encode('ASCII', 'replace')\n",
    "    t_input_str = input_str.encode('ASCII', 'replace')\n",
    "    #print t_output_str, len(t_output_str)\n",
    "    #print t_input_str, len(t_input_str)\n",
    "    #print\n",
    "    try:\n",
    "        r = edlib.align(t_input_str, t_output_str, task='path')\n",
    "    except:\n",
    "        print input_str\n",
    "        print output_str\n",
    "    r1, r2 = align_characters(input_str, output_str, r.get('cigar'), empty_char=empty_char, sanity_check=False)\n",
    "    #print r1\n",
    "    #print r2\n",
    "    #print \n",
    "    #print u''.join(r1)\n",
    "    #print u''.join(r2)\n",
    "    #print \n",
    "    #print len(r2)\n",
    "    #print len(r1)\n",
    "    while len(r2) < len(input_str):\n",
    "        r2.append(empty_char)\n",
    "    return u''.join(r2)\n",
    "\n",
    "def align(input_str, output_str):\n",
    "    t_output_str = output_str.encode('ASCII', 'replace')\n",
    "    t_input_str = input_str.encode('ASCII', 'replace')\n",
    "    #print t_output_str, len(t_output_str)\n",
    "    #print t_input_str, len(t_input_str)\n",
    "    #print\n",
    "    try:\n",
    "        r = edlib.align(t_input_str, t_output_str, task='path')\n",
    "    except:\n",
    "        print input_str\n",
    "        print output_str\n",
    "    return r"
   ]
  },
  {
   "cell_type": "code",
   "execution_count": null,
   "metadata": {},
   "outputs": [],
   "source": [
    "single = []\n",
    "\n",
    "for g in gr.groups:\n",
    "    d = gr.get_group(g)\n",
    "    if len(d) == 1:\n",
    "        single.append((g, d['ocr'].values[0], d['original-ocr'].values[0]))\n",
    "    else:\n",
    "        #print g\n",
    "        words = d['ocr'].unique()\n",
    "        #for w in words:\n",
    "        #    print w, align(g, w)\n",
    "        print g, ':', u'\\t'.join(d['ocr'].unique())\n",
    "        #print\n",
    "        #pass\n",
    "print len(single)"
   ]
  },
  {
   "cell_type": "code",
   "execution_count": null,
   "metadata": {},
   "outputs": [],
   "source": [
    "e['single'] = len(single)"
   ]
  },
  {
   "cell_type": "code",
   "execution_count": null,
   "metadata": {},
   "outputs": [],
   "source": [
    "e['other'] = e['other'] - e['single']"
   ]
  },
  {
   "cell_type": "code",
   "execution_count": null,
   "metadata": {},
   "outputs": [],
   "source": [
    "df = pd.DataFrame(e.items(), columns=['name','number'])\n",
    "df = df.set_index('name')\n",
    "df\n",
    "df.plot.pie(y='number', figsize=(10,10))"
   ]
  },
  {
   "cell_type": "code",
   "execution_count": null,
   "metadata": {},
   "outputs": [],
   "source": [
    "for (g, o, oo) in single:\n",
    "    print g, o, oo"
   ]
  },
  {
   "cell_type": "code",
   "execution_count": null,
   "metadata": {},
   "outputs": [],
   "source": [
    "errors[errors['ocr']==errors['original-ocr']]"
   ]
  },
  {
   "cell_type": "code",
   "execution_count": null,
   "metadata": {},
   "outputs": [],
   "source": [
    "# hoeveel verbeterd? ocr != original-ocr en ocr == gs en gs != orginal-ocr\n",
    "errors\n",
    "#d = errors[errors['ocr']!=errors['original-ocr']]\n",
    "#d[d['ocr'] == d['gs']]\n",
    "#d"
   ]
  },
  {
   "cell_type": "code",
   "execution_count": null,
   "metadata": {},
   "outputs": [],
   "source": [
    "# hoeveel verfouterd? ocr != gs en original-ocr == gs"
   ]
  }
 ],
 "metadata": {
  "language_info": {
   "name": "python",
   "pygments_lexer": "ipython3"
  }
 },
 "nbformat": 4,
 "nbformat_minor": 2
}
