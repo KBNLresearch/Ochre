{
 "cells": [
  {
   "cell_type": "code",
   "execution_count": null,
   "metadata": {},
   "outputs": [],
   "source": [
    "%load_ext autoreload\n",
    "%autoreload 2"
   ]
  },
  {
   "cell_type": "code",
   "execution_count": null,
   "metadata": {},
   "outputs": [],
   "source": [
    "import os\n",
    "\n",
    "from lxml import etree\n",
    "\n",
    "from nlppln.utils import create_dirs\n",
    "\n",
    "def folia2text(fname, out_dir):\n",
    "    create_dirs(out_dir)\n",
    "\n",
    "    context = etree.iterparse(fname, events=('end', ), tag='{http://ilk.uvt.nl/folia}t')\n",
    "    for event, elem in context:\n",
    "        text = elem.text\n",
    "        break\n",
    "    \n",
    "    out_file = os.path.basename(fname).split('.')[0]\n",
    "    out_file = os.path.join(out_dir, f'{out_file}.txt')\n",
    "    print(out_file)\n",
    "    with open(out_file, 'w') as f:\n",
    "        f.write(text)\n",
    "        \n",
    "out_dir = '/home/jvdzwaan/data/kb-ocr/text_aligned_blocks-match_gs/ticcl-text'\n",
    "folia2text('/home/jvdzwaan/data/kb-ocr/text_aligned_blocks-match_gs/ticcl-kb/DDD_000012234_001.ticcl.folia.xml', out_dir)"
   ]
  },
  {
   "cell_type": "code",
   "execution_count": null,
   "metadata": {},
   "outputs": [],
   "source": [
    "from tqdm import tqdm_notebook as tqdm\n",
    "\n",
    "from nlppln.utils import get_files\n",
    "\n",
    "\n",
    "\n",
    "out_dir = '/home/jvdzwaan/data/kb-ocr/text_aligned_blocks-match_gs/ticcl-text'\n",
    "in_dir = '/home/jvdzwaan/data/kb-ocr/text_aligned_blocks-match_gs/ticcl-kb'\n",
    "\n",
    "in_files = get_files(in_dir)\n",
    "for in_file in tqdm(in_files):\n",
    "    folia2text(in_file, out_dir)"
   ]
  }
 ],
 "metadata": {
  "language_info": {
   "name": "python",
   "pygments_lexer": "ipython3"
  }
 },
 "nbformat": 4,
 "nbformat_minor": 2
}
