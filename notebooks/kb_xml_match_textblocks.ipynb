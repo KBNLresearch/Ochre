{
 "cells": [
  {
   "cell_type": "code",
   "execution_count": null,
   "metadata": {},
   "outputs": [],
   "source": [
    "%load_ext autoreload\n",
    "%autoreload 2"
   ]
  },
  {
   "cell_type": "code",
   "execution_count": null,
   "metadata": {},
   "outputs": [],
   "source": [
    "%matplotlib inline\n",
    "\n",
    "import numpy as np\n",
    "import pandas as pd\n",
    "import matplotlib.pyplot as plt\n",
    "\n",
    "from tqdm import tqdm_notebook as tqdm"
   ]
  },
  {
   "cell_type": "code",
   "execution_count": null,
   "metadata": {},
   "outputs": [],
   "source": [
    "from collections import OrderedDict\n",
    "\n",
    "from lxml import etree\n",
    "\n",
    "from ochre.matchlines import get_ns\n",
    "\n",
    "def get_textblocks(fname):\n",
    "    alto_ns = get_ns(fname)\n",
    "    blocks = OrderedDict()\n",
    "    \n",
    "    num_blocks = 0\n",
    "    \n",
    "    context = etree.iterparse(fname, events=('end', ), tag=(alto_ns+'TextBlock'))\n",
    "    for event, elem in context:\n",
    "        blocks[elem.attrib['ID']] = []\n",
    "        num_blocks += 1\n",
    "        for a in elem.getchildren():\n",
    "            if a.tag == alto_ns+'TextLine':\n",
    "                for b in a.getchildren():\n",
    "                    if b.tag == alto_ns+'String':\n",
    "                        if b.attrib.get('SUBS_TYPE') == 'HypPart1':\n",
    "                            blocks[elem.attrib['ID']].append(b.attrib['SUBS_CONTENT'])\n",
    "                        elif b.attrib.get('SUBS_TYPE') != 'HypPart2':\n",
    "                            blocks[elem.attrib['ID']].append(b.attrib['CONTENT'])\n",
    "                    \n",
    "        #for a in elem.getchildren():\n",
    "        #    if a.tag == alto_ns+'String':\n",
    "        #        lines[elem.attrib['ID']].append(a.attrib['CONTENT'])\n",
    "        \n",
    "         # make iteration over context fast and consume less memory\n",
    "        #https://www.ibm.com/developerworks/xml/library/x-hiperfparse\n",
    "        elem.clear()\n",
    "        while elem.getprevious() is not None:\n",
    "            del elem.getparent()[0]\n",
    "            \n",
    "    return blocks\n",
    "\n",
    "# blocks equal length\n",
    "#in_file_ocr = '/home/jvdzwaan/ownCloud/Shared/OCR/Originele ALTOs/DDD_010001946_002_alto.xml'\n",
    "#in_file_gt = '/home/jvdzwaan/ownCloud/Shared/OCR/Ground-truth/DDD_010001946_002_GT.xml'\n",
    "\n",
    "# blocks not equal length\n",
    "in_file_ocr = '/home/jvdzwaan/ownCloud/Shared/OCR/Originele ALTOs/DDD_010007697_002_alto.xml'\n",
    "in_file_gt = '/home/jvdzwaan/ownCloud/Shared/OCR/Ground-truth/DDD_010007697_002_GT.xml'\n",
    "\n",
    "\n",
    "blocks_gs = get_textblocks(in_file_gt)\n",
    "blocks_ocr = get_textblocks(in_file_ocr)\n",
    "\n",
    "print(len(blocks_gs), len(blocks_ocr))"
   ]
  },
  {
   "cell_type": "code",
   "execution_count": null,
   "metadata": {},
   "outputs": [],
   "source": [
    "import edlib\n",
    "\n",
    "def match_textblocks(blocks_gs, blocks_ocr):\n",
    "\n",
    "    # calculate edit distances\n",
    "    eds = np.zeros((len(blocks_gs), len(blocks_ocr)), np.int)\n",
    "\n",
    "    for gs, (gs_id, gs_words) in enumerate(blocks_gs.items()):\n",
    "        for ocr, (ocr_id, ocr_words) in enumerate(blocks_ocr.items()):\n",
    "            gs_text = ' '.join(gs_words)\n",
    "            ocr_text = ' '.join(ocr_words)\n",
    "            if len(gs_text)> 0 and len(ocr_text) > 0:\n",
    "                result = edlib.align(gs_text, ocr_text)\n",
    "                ed = result['editDistance']\n",
    "            else:\n",
    "                ed = max(len(gs_text), len(ocr_text))\n",
    "            eds[gs, ocr] = ed\n",
    "            #print(result['editDistance'])\n",
    "        \n",
    "    # initialize matches\n",
    "    used = []\n",
    "    matches = {}\n",
    "\n",
    "    for gs_label in blocks_gs.keys():\n",
    "        matches[gs_label] = None\n",
    "            \n",
    "    # match blocks with ed=0\n",
    "    for x, y in zip(*np.where(eds == 0)):\n",
    "        #print(x, y, eds[x, y])\n",
    "        gs_label = list(blocks_gs.keys())[x]\n",
    "        ocr_label = list(blocks_ocr.keys())[y]\n",
    "    \n",
    "        if matches[gs_label] is None and ocr_label not in used:\n",
    "            matches[gs_label] = ocr_label\n",
    "            used.append(ocr_label)\n",
    "        \n",
    "    # sort rows on minimal edit distance\n",
    "    for x, row in enumerate(eds):\n",
    "        gs_label = list(blocks_gs.keys())[x]\n",
    "        if matches[gs_label] is None:\n",
    "            #print(gs_label)\n",
    "            #print(np.argsort(row))\n",
    "            for y in np.argsort(row):\n",
    "                ocr_label = list(blocks_ocr.keys())[y]\n",
    "            \n",
    "                if ocr_label not in used:\n",
    "                    #print(ocr_label)\n",
    "                    #print(x, y, eds[x, y])\n",
    "                \n",
    "                    # get column y from eds. is eds[x, y] the minimal value?\n",
    "                    col = eds[:, y]\n",
    "                    min_value = col.min()\n",
    "                    #print(min_value)\n",
    "                    #print(' GS:', ' '.join(blocks_gs[gs_label]))\n",
    "                    #print()\n",
    "                    #print('OCR:', ' '.join(blocks_ocr[ocr_label]))\n",
    "                    #print('---')\n",
    "                    if eds[x, y] <= min_value:\n",
    "                        matches[gs_label] = ocr_label\n",
    "                        used.append(ocr_label)\n",
    "                        #print('Taking this one')\n",
    "                        #print()\n",
    "                        break\n",
    "    return matches, used"
   ]
  },
  {
   "cell_type": "code",
   "execution_count": null,
   "metadata": {},
   "outputs": [],
   "source": [
    "np.where(eds == 0)"
   ]
  },
  {
   "cell_type": "code",
   "execution_count": null,
   "metadata": {},
   "outputs": [],
   "source": [
    "used = []\n",
    "matches = {}\n",
    "\n",
    "for gs_label in blocks_gs.keys():\n",
    "    matches[gs_label] = None"
   ]
  },
  {
   "cell_type": "code",
   "execution_count": null,
   "metadata": {},
   "outputs": [],
   "source": [
    "def count_matches(matches):\n",
    "    return np.sum([1 for gs_label, ocr_label in matches.items() if ocr_label is not None])\n",
    "count_matches(matches)"
   ]
  },
  {
   "cell_type": "code",
   "execution_count": null,
   "metadata": {},
   "outputs": [],
   "source": [
    "# eerst blokken met ed=0\n",
    "for x, y in zip(*np.where(eds == 0)):\n",
    "    #print(x, y, eds[x, y])\n",
    "    gs_label = list(blocks_gs.keys())[x]\n",
    "    ocr_label = list(blocks_ocr.keys())[y]\n",
    "    \n",
    "    if matches[gs_label] is None and ocr_label not in used:\n",
    "        matches[gs_label] = ocr_label\n",
    "        used.append(ocr_label)\n",
    "        \n",
    "        print(' GS:', ' '.join(blocks_gs[gs_label]))\n",
    "        print()\n",
    "        print('OCR:', ' '.join(blocks_ocr[ocr_label]))\n",
    "        print('---')"
   ]
  },
  {
   "cell_type": "code",
   "execution_count": null,
   "metadata": {},
   "outputs": [],
   "source": [
    "# dan rijen sorteren op minimale edit distance\n",
    "for x, row in enumerate(eds):\n",
    "    gs_label = list(blocks_gs.keys())[x]\n",
    "    if matches[gs_label] is None:\n",
    "        #print(gs_label)\n",
    "        #print(np.argsort(row))\n",
    "        for y in np.argsort(row):\n",
    "            ocr_label = list(blocks_ocr.keys())[y]\n",
    "            \n",
    "            if ocr_label not in used:\n",
    "                print(ocr_label)\n",
    "                print(x, y, eds[x, y])\n",
    "                \n",
    "                # pak kolom y uit eds. is eds[x, y] hier de minimum value van?\n",
    "                col = eds[:, y]\n",
    "                min_value = col.min()\n",
    "                print(min_value)\n",
    "                print(' GS:', ' '.join(blocks_gs[gs_label]))\n",
    "                print()\n",
    "                print('OCR:', ' '.join(blocks_ocr[ocr_label]))\n",
    "                print('---')\n",
    "                if eds[x, y] <= min_value:\n",
    "                    matches[gs_label] = ocr_label\n",
    "                    used.append(ocr_label)\n",
    "                    print('Taking this one')\n",
    "                    print()\n",
    "                    break"
   ]
  },
  {
   "cell_type": "code",
   "execution_count": null,
   "metadata": {},
   "outputs": [],
   "source": [
    "print(len(used))"
   ]
  },
  {
   "cell_type": "code",
   "execution_count": null,
   "metadata": {},
   "outputs": [],
   "source": [
    "set(blocks_ocr.keys()).difference(set(used))"
   ]
  },
  {
   "cell_type": "code",
   "execution_count": null,
   "metadata": {},
   "outputs": [],
   "source": [
    "' '.join(blocks_ocr['P2_TB00130'])"
   ]
  },
  {
   "cell_type": "code",
   "execution_count": null,
   "metadata": {},
   "outputs": [],
   "source": [
    "for gs_label, ocr_label in matches.items():\n",
    "    if ocr_label is None:\n",
    "        print(gs_label)\n",
    "        print(' '.join(blocks_gs[gs_label]))"
   ]
  },
  {
   "cell_type": "code",
   "execution_count": null,
   "metadata": {},
   "outputs": [],
   "source": [
    "edlib.align(' '.join(blocks_gs['P2_TB00004']), ' '.join(blocks_ocr['P2_TB00130']))"
   ]
  },
  {
   "cell_type": "markdown",
   "metadata": {},
   "source": [
    "Opslaan:\n",
    "    \n",
    "* Mapping van gs_labels naar ocr_labels (yaml of json)\n",
    "* num text blocks in gs\n",
    "* num text blocks matched"
   ]
  },
  {
   "cell_type": "code",
   "execution_count": null,
   "metadata": {},
   "outputs": [],
   "source": [
    "import os\n",
    "\n",
    "from nlppln.utils import get_files\n",
    "from ochre.matchlines import gt_fname2ocr_fname\n",
    "\n",
    "#gs_dir = '/home/jvdzwaan/ownCloud/Shared/OCR/Ground-truth/'\n",
    "gs_dir = '/home/jvdzwaan/ownCloud/Shared/OCR/Reordered Ground-truth/'\n",
    "ocr_dir = '/home/jvdzwaan/ownCloud/Shared/OCR/Originele ALTOs/'\n",
    "#ocr_dir = '/home/jvdzwaan/ownCloud/Shared/OCR/Opnieuw geOCRd/'\n",
    "\n",
    "gs_files = get_files(gs_dir)\n",
    "# remove file with \"extra\" in the name, this one is the same as the file without \"extra\" in the name\n",
    "gs_files = [f for f in gs_files if not 'extra' in f]\n",
    "\n",
    "ocr_files = []\n",
    "for gs_file in gs_files:\n",
    "    ocr_bn = gt_fname2ocr_fname(gs_file)\n",
    "    # the 'opnieuw' alto files have a different file name\n",
    "    #ocr_bn = ocr_bn.replace('alto.xml', 'altoFR11.xml')\n",
    "    ocr_bn = ocr_bn.replace('alto_reordered.xml', 'alto.xml')\n",
    "    ocr_file = os.path.join(ocr_dir, ocr_bn)\n",
    "    if os.path.isfile(ocr_file):\n",
    "        ocr_files.append(ocr_file)\n",
    "    else:\n",
    "        print('File not found:', ocr_file)\n",
    "        print('GS file:', gs_file)\n",
    "print(len(gs_files), len(ocr_files))"
   ]
  },
  {
   "cell_type": "code",
   "execution_count": null,
   "metadata": {},
   "outputs": [],
   "source": [
    "import os\n",
    "import json\n",
    "\n",
    "from collections import Counter\n",
    "\n",
    "from ochre.utils import get_temp_file\n",
    "from ochre.matchlines import replace_entities\n",
    "\n",
    "from nlppln.utils import create_dirs, out_file_name\n",
    "\n",
    "def doc_id(fname):\n",
    "    bn = os.path.basename(fname)\n",
    "    n = bn.rsplit('_', 1)[0]\n",
    "    return n\n",
    "\n",
    "out_dir = '/home/jvdzwaan/data/kb-ocr/textblock_matches-reordered_gt/'\n",
    "create_dirs(out_dir)\n",
    "\n",
    "metadata = []\n",
    "\n",
    "num_not_equal = 0\n",
    "\n",
    "for gs_file, ocr_file in tqdm(zip(gs_files, ocr_files), total=len(gs_files)):\n",
    "    #print(ocr_file)\n",
    "    gs_tmp = get_temp_file()\n",
    "    #print(gs_tmp)\n",
    "    with open(gs_tmp, 'w') as f:\n",
    "        f.write(replace_entities(gs_file))\n",
    "    \n",
    "    blocks_gs = get_textblocks(gs_tmp)\n",
    "    blocks_ocr = get_textblocks(ocr_file)\n",
    "\n",
    "    os.remove(gs_tmp)\n",
    "    \n",
    "    if len(blocks_gs) != len(blocks_ocr):\n",
    "        #print(os.path.basename(gs_file), len(blocks_gs), len(blocks_ocr))\n",
    "        num_not_equal += 1\n",
    "        #not_equal.append(os.path.splitext(os.path.basename(gs_file))[0])\n",
    "        used = []\n",
    "    else:\n",
    "        matches, used = match_textblocks(blocks_gs, blocks_ocr)\n",
    "        out_file = out_file_name(os.path.join(out_dir), doc_id(ocr_file), ext='json')\n",
    "        #print(out_file)\n",
    "        with open(out_file, 'w') as f:\n",
    "            json.dump(matches, f, indent=4)\n",
    "        \n",
    "    metadata.append({'gs_blocks': len(blocks_gs), \n",
    "                     'ocr_blocks': len(blocks_ocr),\n",
    "                     'matched': len(used),\n",
    "                     'doc_id': doc_id(gs_file)})\n",
    "df = pd.DataFrame(metadata)\n",
    "df"
   ]
  },
  {
   "cell_type": "code",
   "execution_count": null,
   "metadata": {},
   "outputs": [],
   "source": [
    "num_not_equal"
   ]
  },
  {
   "cell_type": "code",
   "execution_count": null,
   "metadata": {},
   "outputs": [],
   "source": [
    "df = df.set_index('doc_id')\n",
    "df"
   ]
  },
  {
   "cell_type": "code",
   "execution_count": null,
   "metadata": {},
   "outputs": [],
   "source": [
    "df.to_csv('/home/jvdzwaan/data/kb-ocr/textblock_matches-reordered_GT.csv')"
   ]
  },
  {
   "cell_type": "code",
   "execution_count": null,
   "metadata": {},
   "outputs": [],
   "source": [
    "df.query('matched == 0')"
   ]
  }
 ],
 "metadata": {
  "language_info": {
   "name": "python",
   "pygments_lexer": "ipython3"
  }
 },
 "nbformat": 4,
 "nbformat_minor": 2
}
