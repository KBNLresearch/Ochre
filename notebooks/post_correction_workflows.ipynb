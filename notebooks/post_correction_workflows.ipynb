{
 "cells": [
  {
   "cell_type": "code",
   "execution_count": null,
   "metadata": {},
   "outputs": [],
   "source": [
    "%load_ext autoreload\n",
    "%autoreload 2"
   ]
  },
  {
   "cell_type": "code",
   "execution_count": null,
   "metadata": {},
   "outputs": [],
   "source": [
    "from nlppln import WorkflowGenerator\n",
    "\n",
    "with WorkflowGenerator() as wf:\n",
    "    wf.load(steps_dir='../cwl/')\n",
    "    print(wf.list_steps())\n",
    "\n",
    "    in_dir = wf.add_input(in_dir='Directory')\n",
    "    charset = wf.add_input(charset='File')\n",
    "    model = wf.add_input(model='File')\n",
    "\n",
    "    ocr_files = wf.ls(in_dir=in_dir)\n",
    "    corrected = wf.lstm_synced_correct_ocr(charset=charset, model=model, txt=ocr_files, scatter='txt', scatter_method='dotproduct')\n",
    "\n",
    "    wf.add_outputs(corrected=corrected)\n",
    "    wf.save('../cwl/post-correct-dir.cwl')"
   ]
  },
  {
   "cell_type": "code",
   "execution_count": null,
   "metadata": {},
   "outputs": [],
   "source": [
    "from nlppln import WorkflowGenerator\n",
    "\n",
    "with WorkflowGenerator() as wf: \n",
    "    wf.load(steps_dir='../cwl/')\n",
    "    print(wf.list_steps())\n",
    "\n",
    "    in_dir = wf.add_input(in_dir='Directory')\n",
    "    datadiv = wf.add_input(datadivision='File')\n",
    "    div_name = wf.add_input(div_name='string', default='test')\n",
    "    charset = wf.add_input(charset='File')\n",
    "    model = wf.add_input(model='File')\n",
    "\n",
    "    ocr_files = wf.select_test_files(in_dir=in_dir, datadivision=datadiv)\n",
    "    corrected = wf.lstm_synced_correct_ocr(charset=charset, model=model, txt=ocr_files, scatter='txt', scatter_method='dotproduct')\n",
    "\n",
    "    wf.add_outputs(corrected=corrected)\n",
    "    wf.save('../cwl/post-correct-test-files.cwl')"
   ]
  }
 ],
 "metadata": {
  "language_info": {
   "name": "python",
   "pygments_lexer": "ipython3"
  }
 },
 "nbformat": 4,
 "nbformat_minor": 2
}
