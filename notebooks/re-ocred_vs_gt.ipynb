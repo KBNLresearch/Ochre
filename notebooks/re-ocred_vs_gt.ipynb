{
 "cells": [
  {
   "cell_type": "code",
   "execution_count": null,
   "metadata": {},
   "outputs": [],
   "source": [
    "%load_ext autoreload\n",
    "%autoreload 2"
   ]
  },
  {
   "cell_type": "code",
   "execution_count": null,
   "metadata": {},
   "outputs": [],
   "source": [
    "%matplotlib inline\n",
    "\n",
    "import numpy as np\n",
    "import pandas as pd\n",
    "import matplotlib.pyplot as plt\n",
    "\n",
    "from tqdm import tqdm_notebook as tqdm"
   ]
  },
  {
   "cell_type": "code",
   "execution_count": null,
   "metadata": {},
   "outputs": [],
   "source": [
    "md = pd.read_csv('/home/jvdzwaan/data/kb-ocr/metadata.csv', index_col=0)\n",
    "md = md.set_index('file_prefix')\n",
    "md"
   ]
  },
  {
   "cell_type": "code",
   "execution_count": null,
   "metadata": {},
   "outputs": [],
   "source": [
    "performance = pd.read_csv('/home/jvdzwaan/data/kb-ocr/text_aligned_blocks-FR11-match_gs-20190522.csv', index_col=0)\n",
    "#performance = pd.read_csv('/home/jvdzwaan/data/kb-ocr/FR11_match-gs_vs_GT_test-files_2019-05-22.csv', index_col=0)\n",
    "performance"
   ]
  },
  {
   "cell_type": "code",
   "execution_count": null,
   "metadata": {},
   "outputs": [],
   "source": [
    "def remove_out_and_page(row):\n",
    "    #print(row.name)\n",
    "    parts = row.name.split('_')\n",
    "    return f'{parts[0]}_{parts[1]}'\n",
    "\n",
    "performance['Identifier'] = performance.apply(lambda row: remove_out_and_page(row), axis=1)\n",
    "performance = performance.set_index('Identifier')\n",
    "performance"
   ]
  },
  {
   "cell_type": "code",
   "execution_count": null,
   "metadata": {},
   "outputs": [],
   "source": [
    "baseline = pd.read_csv('/home/jvdzwaan/data/kb-ocr/text_aligned_blocks-match_gs-20190514.csv', index_col=0)\n",
    "baseline.columns = ['CER_baseline', 'WER_baseline', 'WER (order independent)_baseline']\n",
    "baseline['Identifier'] = baseline.apply(lambda row: remove_out_and_page(row), axis=1)\n",
    "baseline = baseline.set_index('Identifier')\n",
    "baseline"
   ]
  },
  {
   "cell_type": "code",
   "execution_count": null,
   "metadata": {},
   "outputs": [],
   "source": [
    "result = baseline.join(performance).join(md)\n",
    "result"
   ]
  },
  {
   "cell_type": "code",
   "execution_count": null,
   "metadata": {},
   "outputs": [],
   "source": [
    "for n in ('CER', 'WER', 'WER (order independent)'):\n",
    "    result[f'{n}_difference'] = result[f'{n}_baseline'] - result[f'{n}']\n",
    "result"
   ]
  },
  {
   "cell_type": "code",
   "execution_count": null,
   "metadata": {},
   "outputs": [],
   "source": [
    "result['CER'].describe()"
   ]
  },
  {
   "cell_type": "code",
   "execution_count": null,
   "metadata": {},
   "outputs": [],
   "source": [
    "for group in result.groupby('ABBYY Version'):\n",
    "    print('ABBYY', group[0])\n",
    "    print(group[1]['WER (order independent)'].describe())"
   ]
  },
  {
   "cell_type": "code",
   "execution_count": null,
   "metadata": {},
   "outputs": [],
   "source": [
    "for group in result.groupby('period'):\n",
    "    print('Period', group[0])\n",
    "    print(group[1]['CER'].describe())"
   ]
  },
  {
   "cell_type": "code",
   "execution_count": null,
   "metadata": {},
   "outputs": [],
   "source": [
    "r = {}\n",
    "\n",
    "for group in result.groupby(['ABBYY Version', 'period']):\n",
    "    #print(f'ABBYY {group[0][0]}, period {group[0][1]}')\n",
    "    d = group[1]['WER (order independent)'].describe()\n",
    "    #print(d)\n",
    "    #print(d['mean'])\n",
    "    abby = group[0][0]\n",
    "    p = int(group[0][1])\n",
    "    b_label = f'{abby}_baseline'\n",
    "    if b_label not in r.keys():\n",
    "        r[b_label] = {}\n",
    "    r[b_label][p] = group[1]['WER (order independent)_baseline'].describe()['mean']\n",
    "    \n",
    "    fr11_label = f'{abby}_FR11'\n",
    "    if fr11_label not in r.keys():\n",
    "        r[fr11_label] = {}\n",
    "    r[fr11_label][p] = d['mean']\n",
    "    \n",
    "r = pd.DataFrame(r)\n",
    "r.plot()"
   ]
  },
  {
   "cell_type": "code",
   "execution_count": null,
   "metadata": {},
   "outputs": [],
   "source": [
    "result"
   ]
  },
  {
   "cell_type": "code",
   "execution_count": null,
   "metadata": {},
   "outputs": [],
   "source": [
    "r2 = {}\n",
    "\n",
    "for group in result.groupby(['ABBYY Version', 'period']):\n",
    "    print(f'ABBYY {group[0][0]}, period {group[0][1]}')\n",
    "    d = group[1]['WER_difference'].describe()\n",
    "    #print(d)\n",
    "    #print(d['mean'])\n",
    "    abby = group[0][0]\n",
    "    p = int(group[0][1])\n",
    "    b_label = f'{abby}'\n",
    "    if b_label not in r2.keys():\n",
    "        r2[b_label] = {}\n",
    "    r2[b_label][p] = group[1]['WER_difference'].describe()['mean']\n",
    "r2 = pd.DataFrame(r2)\n",
    "r2.plot()"
   ]
  }
 ],
 "metadata": {
  "language_info": {
   "name": "python",
   "pygments_lexer": "ipython3"
  }
 },
 "nbformat": 4,
 "nbformat_minor": 2
}
