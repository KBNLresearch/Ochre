{
 "cells": [
  {
   "cell_type": "code",
   "execution_count": null,
   "metadata": {},
   "outputs": [],
   "source": [
    "%load_ext autoreload\n",
    "%autoreload 2"
   ]
  },
  {
   "cell_type": "code",
   "execution_count": null,
   "metadata": {},
   "outputs": [],
   "source": [
    "import nlppln\n",
    "import ochre\n",
    "import os\n",
    "\n",
    "with nlppln.WorkflowGenerator(working_dir='/Users/jvdzwaan/cwl-working-dir/') as wf:\n",
    "    wf.load(steps_dir=ochre.cwl_path())\n",
    "    wf.load(step_file='https://raw.githubusercontent.com/nlppln/ocrevaluation-docker/master/ocrevaluation.cwl')\n",
    "    \n",
    "    #print wf.list_steps()\n",
    "\n",
    "    gt_file = wf.add_input(gt='File')\n",
    "    ocr_file = wf.add_input(ocr='File')\n",
    "    xmx = wf.add_input(xmx='string?')\n",
    "\n",
    "    out_file = wf.ocrevaluation(gt=gt_file, ocr=ocr_file, xmx=xmx)\n",
    "    character_data, global_data = wf.ocrevaluation_extract(in_file=out_file)\n",
    "\n",
    "    wf.add_outputs(character_data=character_data)\n",
    "    wf.add_outputs(global_data=global_data)\n",
    "\n",
    "    # can be used as a subworkflow\n",
    "    wf.save(os.path.join(ochre.cwl_path(), 'ocrevaluation-performance-wf.cwl'), mode='wd')"
   ]
  },
  {
   "cell_type": "code",
   "execution_count": null,
   "metadata": {},
   "outputs": [],
   "source": [
    "import nlppln\n",
    "import ochre\n",
    "import os\n",
    "\n",
    "with nlppln.WorkflowGenerator(working_dir='/Users/jvdzwaan/cwl-working-dir/') as wf:\n",
    "    wf.load(steps_dir=ochre.cwl_path())\n",
    "    \n",
    "    print(wf.list_steps())\n",
    "\n",
    "    gt_dir = wf.add_input(gt='Directory')\n",
    "    ocr_dir = wf.add_input(ocr='Directory')\n",
    "    xmx = wf.add_input(xmx='string?')\n",
    "    performance_file = wf.add_input(out_name='string?', default='performance.csv')\n",
    "\n",
    "    ocr_files = wf.ls(in_dir=ocr_dir)\n",
    "    gt_files = wf.ls(in_dir=gt_dir)\n",
    "    \n",
    "    character_data, global_data = wf.ocrevaluation_performance_wf(gt=gt_files, ocr=ocr_files, xmx=xmx,\n",
    "                                                                  scatter=['gt', 'ocr'], scatter_method='dotproduct')\n",
    "    \n",
    "    merged = wf.merge_csv(in_files=global_data, name=performance_file)\n",
    "\n",
    "    wf.add_outputs(performance=merged)\n",
    "\n",
    "    wf.save(os.path.join(ochre.cwl_path(), 'ocrevaluation-performance-wf-pack.cwl'), mode='pack')"
   ]
  },
  {
   "cell_type": "code",
   "execution_count": null,
   "metadata": {},
   "outputs": [],
   "source": [
    "import nlppln\n",
    "import ochre\n",
    "import os\n",
    "\n",
    "with nlppln.WorkflowGenerator(working_dir='/Users/jvdzwaan/cwl-working-dir/') as wf:\n",
    "    wf.load(steps_dir=ochre.cwl_path())\n",
    "    wf.load(step_file='https://raw.githubusercontent.com/nlppln/ocrevaluation-docker/master/ocrevaluation.cwl')\n",
    "    print(wf.list_steps())\n",
    "\n",
    "    ocr_dir = wf.add_input(ocr='Directory')\n",
    "    gt_dir = wf.add_input(gt='Directory')\n",
    "    datadiv = wf.add_input(datadivision='File')\n",
    "    div_name = wf.add_input(div_name='string', default='test')\n",
    "    gt_dir_name = wf.add_input(gt_dir_name='string', default='gs')\n",
    "    ocr_dir_name = wf.add_input(ocr_dir_name='string', default='ocr')\n",
    "    fname = wf.add_input(out_name='string?', default='performance.csv')\n",
    "\n",
    "    ocr_files = wf.select_test_files(datadivision=datadiv, in_dir=ocr_dir, name=div_name)\n",
    "    gt_files = wf.select_test_files(datadivision=datadiv, in_dir=gt_dir, name=div_name)\n",
    "\n",
    "    character_data, global_data = wf.ocrevaluation_performance_wf(gt=gt_files, ocr=ocr_files, \n",
    "                                                                  scatter=['gt', 'ocr'], \n",
    "                                                                  scatter_method='dotproduct')\n",
    "    \n",
    "    merged = wf.merge_csv(in_files=global_data, name=performance_file)\n",
    "\n",
    "    wf.add_outputs(performance=merged)\n",
    "\n",
    "    wf.save(os.path.join(ochre.cwl_path(), 'ocrevaluation-performance-test-files-wf-pack.cwl'), mode='pack')"
   ]
  }
 ],
 "metadata": {
  "language_info": {
   "name": "python",
   "pygments_lexer": "ipython3"
  }
 },
 "nbformat": 4,
 "nbformat_minor": 2
}
