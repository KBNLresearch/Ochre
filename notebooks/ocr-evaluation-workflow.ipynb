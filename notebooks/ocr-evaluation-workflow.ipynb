{
 "cells": [
  {
   "cell_type": "code",
   "execution_count": null,
   "metadata": {},
   "outputs": [],
   "source": [
    "%load_ext autoreload\n",
    "%autoreload 2"
   ]
  },
  {
   "cell_type": "code",
   "execution_count": null,
   "metadata": {},
   "outputs": [],
   "source": [
    "import nlppln\n",
    "import ochre\n",
    "import os\n",
    "\n",
    "with nlppln.WorkflowGenerator(working_dir='/home/jvdzwaan/cwl-working-dir/') as wf:\n",
    "    wf.load(steps_dir=ochre.cwl_path())\n",
    "    wf.load(step_file='https://raw.githubusercontent.com/nlppln/ocrevaluation-docker/master/ocrevaluation.cwl')\n",
    "    \n",
    "    print wf.list_steps()\n",
    "\n",
    "    gt_dir = wf.add_input(gt='Directory')\n",
    "    ocr_dir = wf.add_input(ocr='Directory')\n",
    "    performance_file = wf.add_input(out_name='string?', default='performance.csv')\n",
    "\n",
    "    ocr_files = wf.ls(in_dir=ocr_dir)\n",
    "    gt_files = wf.ls(in_dir=gt_dir)\n",
    "    out_files = wf.ocrevaluation(gt=gt_files, ocr=ocr_files, scatter=['gt', 'ocr'], scatter_method='dotproduct')\n",
    "    character_data, global_data = wf.ocrevaluation_extract(in_file=out_files, scatter=['in_file'], \n",
    "                                                           scatter_method='dotproduct')\n",
    "    merged = wf.merge_csv(in_files=global_data, name=performance_file)\n",
    "\n",
    "    wf.add_outputs(performance=merged)\n",
    "\n",
    "    # save multiple versions - packed (can't be used as subworkflow)\n",
    "    wf.save(os.path.join(ochre.cwl_path(), 'ocrevaluation-performance-wf-pack.cwl'), pack=True)\n",
    "    # can be used as a subworkflow\n",
    "    wf.save(os.path.join(ochre.cwl_path(), 'ocrevaluation-performance-wf.cwl'), wd=True, relative=False)"
   ]
  },
  {
   "cell_type": "code",
   "execution_count": null,
   "metadata": {},
   "outputs": [],
   "source": [
    "import nlppln\n",
    "\n",
    "with nlppln.WorkflowGenerator(working_dir='/home/jvdzwaan/cwl-working-dir/') as wf:\n",
    "    wf.load(steps_dir=ochre.cwl_path())\n",
    "    wf.load(step_file='https://raw.githubusercontent.com/nlppln/ocrevaluation-docker/master/ocrevaluation.cwl')\n",
    "    print(wf.list_steps())\n",
    "\n",
    "    ocr_dir = wf.add_input(ocr='Directory')\n",
    "    gt_dir = wf.add_input(gt='Directory')\n",
    "    datadiv = wf.add_input(datadivision='File')\n",
    "    gt_dir_name = wf.add_input(gt_dir_name='string', default='gs')\n",
    "    ocr_dir_name = wf.add_input(ocr_dir_name='string', default='ocr')\n",
    "    fname = wf.add_input(out_name='string?', default='performance.csv')\n",
    "\n",
    "    ocr_files = wf.select_test_files(datadivision=datadiv, in_dir=ocr_dir)\n",
    "    gt_files = wf.select_test_files(datadivision=datadiv, in_dir=gt_dir)\n",
    "\n",
    "    gt_dir = wf.save_files_to_dir(dir_name=gt_dir_name, in_files=gt_files)\n",
    "    ocr_dir = wf.save_files_to_dir(dir_name=ocr_dir_name, in_files=ocr_files)\n",
    "\n",
    "    merged = wf.ocrevaluation_performance_wf(gt=gt_dir, ocr=ocr_dir, fname=fname)\n",
    "\n",
    "    wf.add_outputs(performance=merged)\n",
    "\n",
    "    wf.save(os.path.join(ochre.cwl_path(), 'ocrevaluation-performance-test-files-wf-pack.cwl'), pack=True, relative=False)"
   ]
  }
 ],
 "metadata": {
  "language_info": {
   "name": "python",
   "pygments_lexer": "ipython3"
  }
 },
 "nbformat": 4,
 "nbformat_minor": 2
}
