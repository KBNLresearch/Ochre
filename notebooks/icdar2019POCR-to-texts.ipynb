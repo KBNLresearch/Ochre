{
 "cells": [
  {
   "cell_type": "code",
   "execution_count": null,
   "metadata": {},
   "outputs": [],
   "source": [
    "%load_ext autoreload\n",
    "%autoreload 2"
   ]
  },
  {
   "cell_type": "code",
   "execution_count": null,
   "metadata": {},
   "outputs": [],
   "source": [
    "%matplotlib inline\n",
    "\n",
    "import numpy as np\n",
    "import pandas as pd\n",
    "import matplotlib.pyplot as plt\n",
    "\n",
    "from tqdm import tqdm_notebook as tqdm"
   ]
  },
  {
   "cell_type": "code",
   "execution_count": null,
   "metadata": {},
   "outputs": [],
   "source": [
    "import os\n",
    "import codecs\n",
    "import json\n",
    "\n",
    "from nlppln.utils import get_files, out_file_name, create_dirs\n",
    "\n",
    "from ochre.icdar2017st_extract_text import to_character_list\n",
    "\n",
    "in_dir = '/home/jvdzwaan/Downloads/POCR_training_dataset/NL/NL1/'\n",
    "\n",
    "out_dir = '/home/jvdzwaan/data/icdar2019pocr-nl'\n",
    "\n",
    "def command(in_file, out_dir):\n",
    "    create_dirs(out_dir)\n",
    "\n",
    "    lines = in_file.readlines()\n",
    "    # OCR_toInput: lines[0][:14]\n",
    "    # OCR_aligned: lines[1][:14]\n",
    "    # GS_aligned: lines[2][:14]\n",
    "    ocr = to_character_list(lines[1][14:].strip())\n",
    "    gs = to_character_list(lines[2][14:].strip())\n",
    "\n",
    "    # Write texts\n",
    "    out_file = out_file_name(os.path.join(out_dir, 'ocr'), os.path.basename(in_file.name))\n",
    "    print(out_file)\n",
    "    create_dirs(out_file, is_file=True)\n",
    "    with codecs.open(out_file, 'wb', encoding='utf-8') as f:\n",
    "        f.write(u''.join(ocr))\n",
    "\n",
    "    out_file = out_file_name(os.path.join(out_dir, 'gs'), os.path.basename(in_file.name))\n",
    "    print(out_file)\n",
    "    create_dirs(out_file, is_file=True)\n",
    "    with codecs.open(out_file, 'wb', encoding='utf-8') as f:\n",
    "        f.write(u''.join(gs))\n",
    "\n",
    "    out_file = out_file_name(os.path.join(out_dir, 'aligned'), os.path.basename(in_file.name), 'json')\n",
    "    print(out_file)\n",
    "    create_dirs(out_file, is_file=True)\n",
    "    with codecs.open(out_file, 'wb', encoding='utf-8') as f:\n",
    "        json.dump({'ocr': ocr, 'gs': gs}, f)\n",
    "        \n",
    "    print()\n",
    "\n",
    "in_files = get_files(in_dir)\n",
    "#print(in_files)\n",
    "print(len(in_files))\n",
    "for in_file in in_files:\n",
    "    print(in_file)\n",
    "    \n",
    "    command(open(in_file), out_dir)"
   ]
  }
 ],
 "metadata": {
  "language_info": {
   "name": "python",
   "pygments_lexer": "ipython3"
  }
 },
 "nbformat": 4,
 "nbformat_minor": 2
}
