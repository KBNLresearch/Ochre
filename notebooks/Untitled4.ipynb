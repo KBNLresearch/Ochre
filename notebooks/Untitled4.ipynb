{
 "cells": [
  {
   "cell_type": "code",
   "execution_count": null,
   "metadata": {},
   "outputs": [],
   "source": [
    "%load_ext autoreload\n",
    "%autoreload 2"
   ]
  },
  {
   "cell_type": "code",
   "execution_count": null,
   "metadata": {},
   "outputs": [],
   "source": [
    "%matplotlib inline\n",
    "\n",
    "import numpy as np\n",
    "import pandas as pd\n",
    "import matplotlib.pyplot as plt\n",
    "\n",
    "from tqdm import tqdm_notebook as tqdm"
   ]
  },
  {
   "cell_type": "code",
   "execution_count": null,
   "metadata": {},
   "outputs": [],
   "source": [
    "from collections import Counter\n",
    "\n",
    "def error_count(in_file, c):\n",
    "    df = pd.read_csv(in_file)\n",
    "    # select errors\n",
    "    df = df[df.apply(lambda row: row['gs'] != row['ocr'], axis=1)]\n",
    "    # make empty words explicit\n",
    "    df = df.fillna(u'@@@@@@')\n",
    "    \n",
    "    for i, row in df.iterrows():\n",
    "        #print(row['gs'])\n",
    "        c[(row['ocr'], row['gs'])] += 1\n",
    "\n",
    "in_file = '/home/jvdzwaan/data/kb-ocr/text_aligned_blocks-match_gs/word-mappings/DDD_000012234_001.csv'\n",
    "\n",
    "c = Counter()\n",
    "\n",
    "error_count(in_file, c)\n",
    "\n",
    "for (ocr, gs), freq in c.most_common():\n",
    "    print(ocr, gs, freq)"
   ]
  },
  {
   "cell_type": "code",
   "execution_count": null,
   "metadata": {},
   "outputs": [],
   "source": [
    "from nlppln.utils import get_files\n",
    "\n",
    "in_dir = '/home/jvdzwaan/data/kb-ocr/text_aligned_blocks-match_gs/word-mappings/'\n",
    "\n",
    "c = Counter()\n",
    "for in_file in tqdm(get_files(in_dir)):\n",
    "    error_count(in_file, c)\n",
    "\n",
    "for (ocr, gs), freq in c.most_common():\n",
    "    print(ocr, gs, freq)\n",
    "    "
   ]
  },
  {
   "cell_type": "code",
   "execution_count": null,
   "metadata": {},
   "outputs": [],
   "source": [
    "ones = 0\n",
    "for (ocr, gs), freq in c.most_common():\n",
    "    #print(ocr, gs, freq)\n",
    "    if freq == 1:\n",
    "        ones += 1"
   ]
  },
  {
   "cell_type": "code",
   "execution_count": null,
   "metadata": {},
   "outputs": [],
   "source": [
    "print(len(c))\n",
    "print(ones)"
   ]
  },
  {
   "cell_type": "code",
   "execution_count": null,
   "metadata": {},
   "outputs": [],
   "source": [
    "for (ocr, gs), freq in c.most_common():\n",
    "    print(repr(ocr), repr(gs), freq)"
   ]
  },
  {
   "cell_type": "code",
   "execution_count": null,
   "metadata": {},
   "outputs": [],
   "source": [
    "from collections import defaultdict\n",
    "\n",
    "ocr_to_gs = defaultdict(list)\n",
    "gs_to_ocr = defaultdict(list)\n",
    "\n",
    "for (ocr, gs), freq in c.most_common():\n",
    "    ocr_to_gs[ocr].append(gs)\n",
    "    gs_to_ocr[gs].append(ocr)"
   ]
  },
  {
   "cell_type": "code",
   "execution_count": null,
   "metadata": {},
   "outputs": [],
   "source": [
    "ones = 0\n",
    "\n",
    "for k, v in ocr_to_gs.items():\n",
    "    #print(k, len(v))\n",
    "    if len(v) == 1:\n",
    "        ones += 1\n",
    "    else:\n",
    "        print(k, v)"
   ]
  },
  {
   "cell_type": "code",
   "execution_count": null,
   "metadata": {},
   "outputs": [],
   "source": [
    "print(len(ocr_to_gs), ones)"
   ]
  },
  {
   "cell_type": "code",
   "execution_count": null,
   "metadata": {},
   "outputs": [],
   "source": [
    "vals = pd.Series([len(v) for v in ocr_to_gs.values()])"
   ]
  },
  {
   "cell_type": "code",
   "execution_count": null,
   "metadata": {},
   "outputs": [],
   "source": [
    "vals.value_counts().plot(loglog=True, figsize=(10,7))"
   ]
  },
  {
   "cell_type": "code",
   "execution_count": null,
   "metadata": {},
   "outputs": [],
   "source": [
    "ones = 0\n",
    "\n",
    "for k, v in gs_to_ocr.items():\n",
    "    #print(k, len(v))\n",
    "    if len(v) == 1:\n",
    "        ones += 1\n",
    "    else:\n",
    "        print(k,v)"
   ]
  },
  {
   "cell_type": "code",
   "execution_count": null,
   "metadata": {},
   "outputs": [],
   "source": [
    "print(len(gs_to_ocr), ones)"
   ]
  }
 ],
 "metadata": {
  "language_info": {
   "name": "python",
   "pygments_lexer": "ipython3"
  }
 },
 "nbformat": 4,
 "nbformat_minor": 2
}
