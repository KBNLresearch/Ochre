{
 "cells": [
  {
   "cell_type": "code",
   "execution_count": null,
   "metadata": {},
   "outputs": [],
   "source": [
    "%load_ext autoreload\n",
    "%autoreload 2"
   ]
  },
  {
   "cell_type": "code",
   "execution_count": null,
   "metadata": {},
   "outputs": [],
   "source": [
    "%matplotlib inline\n",
    "\n",
    "import numpy as np\n",
    "import pandas as pd\n",
    "import matplotlib.pyplot as plt"
   ]
  },
  {
   "cell_type": "code",
   "execution_count": null,
   "metadata": {},
   "outputs": [],
   "source": [
    "# read the texts (using data division)\n",
    "# convert texts to input and output sequences (strings)\n",
    "# function for converting input and output sequences to numbers (in data generator)\n",
    "import json\n",
    "\n",
    "from ochre.utils import read_texts\n",
    "\n",
    "datasets = '/home/jvdzwaan/data/dncvu/datadivision-small.json'\n",
    "data_dir = '/home/jvdzwaan/data/dncvu/aligned/'\n",
    "\n",
    "with open(datasets) as d:\n",
    "    division = json.load(d)\n",
    "print(division)"
   ]
  },
  {
   "cell_type": "code",
   "execution_count": null,
   "metadata": {},
   "outputs": [],
   "source": [
    "raw_val, gs_val, ocr_val = read_texts(division.get('val'), data_dir)\n",
    "print(gs_val)"
   ]
  },
  {
   "cell_type": "code",
   "execution_count": null,
   "metadata": {},
   "outputs": [],
   "source": [
    "# input: sequence of n characters from ocr\n",
    "# output: sequence of n characters from gs\n",
    "\n",
    "# we can filter the sequences later if we want\n",
    "\n",
    "n = 5\n",
    "num = 0\n",
    "\n",
    "def get_sequences(gs, ocr, length):\n",
    "    gs_ngrams = zip(*[gs[i:] for i in range(length)])\n",
    "    ocr_ngrams = zip(*[ocr[i:] for i in range(length)])\n",
    "\n",
    "    return [''.join(n) for n in gs_ngrams], [''.join(n) for n in ocr_ngrams]\n",
    "\n",
    "gs_seqs, ocr_seqs = get_sequences(gs_val, ocr_val, length=n)\n",
    "print(len(gs_seqs), len(ocr_seqs))\n",
    "# each item in the *_seqs is a sample"
   ]
  },
  {
   "cell_type": "code",
   "execution_count": null,
   "metadata": {},
   "outputs": [],
   "source": [
    "gs_seqs = gs_seqs[:7]\n",
    "ocr_seqs = ocr_seqs[:7]"
   ]
  },
  {
   "cell_type": "code",
   "execution_count": null,
   "metadata": {},
   "outputs": [],
   "source": [
    "from sklearn.preprocessing import LabelEncoder\n",
    "\n",
    "le = LabelEncoder()\n",
    "le.fit([c for c in raw_val])\n",
    "for s in ocr_seqs:\n",
    "    print(le.fit_transform(''.join(s)))"
   ]
  },
  {
   "cell_type": "code",
   "execution_count": null,
   "metadata": {},
   "outputs": [],
   "source": [
    "raw = ''.join(gs_seqs)\n",
    "print(raw)"
   ]
  },
  {
   "cell_type": "code",
   "execution_count": null,
   "metadata": {},
   "outputs": [],
   "source": [
    "from ochre.utils import get_chars, get_int_to_char\n",
    "\n",
    "chars, num_chars, ci = get_chars(raw, raw, raw, False)\n",
    "ic = get_int_to_char(ci)\n",
    "\n",
    "#print(ci)\n",
    "#print(ic)\n",
    "\n",
    "oov_char = '@'\n",
    "\n",
    "for s in ocr_seqs:\n",
    "#for s in [['wwww']]:\n",
    "#for s in [['w8w']]:\n",
    "    print(s)\n",
    "    res = np.empty(n, dtype=np.int)\n",
    "    for i in range(n):\n",
    "        try:\n",
    "            if s[i] != '':\n",
    "                res[i] = ci.get(s[i], ci[oov_char])\n",
    "        except IndexError:\n",
    "            res[i] = ci['\\n']\n",
    "    print(res)\n"
   ]
  },
  {
   "cell_type": "code",
   "execution_count": null,
   "metadata": {},
   "outputs": [],
   "source": [
    "from ochre.datagen import DataGenerator\n",
    "\n",
    "dg = DataGenerator(xData=ocr_seqs, yData=gs_seqs, char_to_int=ci, seq_length=n, batch_size=3)"
   ]
  },
  {
   "cell_type": "code",
   "execution_count": null,
   "metadata": {},
   "outputs": [],
   "source": [
    "print(len(dg))"
   ]
  },
  {
   "cell_type": "code",
   "execution_count": null,
   "metadata": {},
   "outputs": [],
   "source": [
    "inp, outp = dg[0]\n",
    "print(inp)"
   ]
  },
  {
   "cell_type": "code",
   "execution_count": null,
   "metadata": {},
   "outputs": [],
   "source": [
    "print(outp.shape)"
   ]
  },
  {
   "cell_type": "code",
   "execution_count": null,
   "metadata": {},
   "outputs": [],
   "source": [
    "print(outp)"
   ]
  },
  {
   "cell_type": "code",
   "execution_count": null,
   "metadata": {},
   "outputs": [],
   "source": [
    "print(ocr_seqs)"
   ]
  },
  {
   "cell_type": "code",
   "execution_count": null,
   "metadata": {},
   "outputs": [],
   "source": [
    "dg._convert_sample('test')"
   ]
  }
 ],
 "metadata": {
  "language_info": {
   "name": "python",
   "pygments_lexer": "ipython3"
  }
 },
 "nbformat": 4,
 "nbformat_minor": 2
}
