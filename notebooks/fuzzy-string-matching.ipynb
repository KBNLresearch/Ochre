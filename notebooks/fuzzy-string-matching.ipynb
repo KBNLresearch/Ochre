{
 "cells": [
  {
   "cell_type": "code",
   "execution_count": null,
   "metadata": {},
   "outputs": [],
   "source": [
    "%load_ext autoreload\n",
    "%autoreload 2"
   ]
  },
  {
   "cell_type": "code",
   "execution_count": null,
   "metadata": {},
   "outputs": [],
   "source": [
    "text = \"Many force beat offer third attention. Relationship whether question ask shoulder. Professional management method soldier itself enough single value opportunity represent short defense. Last human want tree sign people form old moment myself understand support station ahead water red relationship million indeed away music. Benefit range have seem day no thing single tough explain attention far local that above one design authority nothing. Trade stage seek former white their we success president item wind yeah full soldier suggest role never. Down condition north tell than item program at. Dark my box culture treat court tell some according quickly often issue quickly quickly office at wide want. Hope start any. Government value relate cover country network according. Travel. On but property production oil produce material gun page why face serve nation expect. Concern this apply travel skill allow same friend night country young once group style new turn situation gun foreign voice mother enough. Turn commercial manager news put determine pass address start particular. Light begin style hand almost popular thousand or least. Dog walk kitchen star skin information task land continue always spend value speak quickly energy improve leg as mind sing stage purpose few. Reason task phone conference. Production move rule marriage attorney money team open pretty card fall. Small player how since list adult idea apply hold both feel house team sign wall put authority free anyone happy authority throw body art pick. Skill entire major close series ground thus letter recent example I hold base policy include rate. Man think best position his lead career stage contain around eight mean they character specific memory religious heart shake see. Just during yet section thank rise force director water last ground go keep area different. Quickly several character west wrong model attention so truth resource her test gas. Most civil soldier consider front scene never military theory not free economic capital admit yeah fall thought there specific trial low against little tree. Center late.\"\n",
    "print(text)"
   ]
  },
  {
   "cell_type": "code",
   "execution_count": null,
   "metadata": {},
   "outputs": [],
   "source": [
    "from fuzzyset import FuzzySet\n",
    "\n",
    "fs = FuzzySet()\n",
    "fs.add(text)"
   ]
  },
  {
   "cell_type": "code",
   "execution_count": null,
   "metadata": {},
   "outputs": [],
   "source": [
    "fs.get(\"Production move rule marriage attorney money team open pretty card fall.\")"
   ]
  },
  {
   "cell_type": "code",
   "execution_count": null,
   "metadata": {},
   "outputs": [],
   "source": [
    "fs = FuzzySet()\n",
    "fs.add(\"Production move rule marriage attorney money team open pretty card fall.\")\n",
    "fs.get(text)"
   ]
  },
  {
   "cell_type": "code",
   "execution_count": null,
   "metadata": {},
   "outputs": [],
   "source": [
    "from faker import Faker\n",
    "\n",
    "fake = Faker()\n",
    "num_words = 10\n",
    "sentences = []\n",
    "\n",
    "for i in range(10000):\n",
    "    sentence = fake.sentence(nb_words=num_words, variable_nb_words=True, ext_word_list=None)\n",
    "    sentences.append(sentence)"
   ]
  },
  {
   "cell_type": "code",
   "execution_count": null,
   "metadata": {},
   "outputs": [],
   "source": [
    "fs = FuzzySet()\n",
    "for s in sentences:\n",
    "    fs.add(s)"
   ]
  },
  {
   "cell_type": "code",
   "execution_count": null,
   "metadata": {},
   "outputs": [],
   "source": [
    "text = ' '.join(sentences[5:10])\n",
    "print(text)"
   ]
  },
  {
   "cell_type": "code",
   "execution_count": null,
   "metadata": {},
   "outputs": [],
   "source": [
    "fs.get(text)"
   ]
  },
  {
   "cell_type": "code",
   "execution_count": null,
   "metadata": {},
   "outputs": [],
   "source": [
    "from fuzzywuzzy import fuzz\n",
    "\n",
    "part = \"Production move rule marriage attorney money team open pretty card fall.\"\n",
    "\n",
    "fuzz.partial_ratio(part, text)"
   ]
  },
  {
   "cell_type": "code",
   "execution_count": null,
   "metadata": {},
   "outputs": [],
   "source": [
    "fuzz.partial_ratio(\"character they\", text)"
   ]
  },
  {
   "cell_type": "code",
   "execution_count": null,
   "metadata": {},
   "outputs": [],
   "source": [
    "part = \"Production move rule marriage attorncy moncy team opcn pretty card fall.\"\n",
    "\n",
    "fuzz.partial_ratio(part, text)"
   ]
  },
  {
   "cell_type": "code",
   "execution_count": null,
   "metadata": {},
   "outputs": [],
   "source": [
    "from faker import Faker\n",
    "\n",
    "fake = Faker()\n",
    "num_words = 10\n",
    "sentences = []\n",
    "\n",
    "for i in range(10000):\n",
    "    sentence = fake.sentence(nb_words=num_words, variable_nb_words=True, ext_word_list=None)\n",
    "    sentences.append(sentence)"
   ]
  },
  {
   "cell_type": "code",
   "execution_count": null,
   "metadata": {},
   "outputs": [],
   "source": [
    "sentences[1]"
   ]
  },
  {
   "cell_type": "code",
   "execution_count": null,
   "metadata": {},
   "outputs": [],
   "source": [
    "from tqdm import tqdm_notebook as tqdm"
   ]
  },
  {
   "cell_type": "code",
   "execution_count": null,
   "metadata": {},
   "outputs": [],
   "source": [
    "%%time\n",
    "\n",
    "for s in tqdm(sentences):\n",
    "    fuzz.partial_ratio(s, text)"
   ]
  }
 ],
 "metadata": {
  "language_info": {
   "name": "python",
   "pygments_lexer": "ipython3"
  }
 },
 "nbformat": 4,
 "nbformat_minor": 2
}
