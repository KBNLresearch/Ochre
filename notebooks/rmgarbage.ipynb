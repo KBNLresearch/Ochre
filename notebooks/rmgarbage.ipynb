{
 "cells": [
  {
   "cell_type": "code",
   "execution_count": null,
   "metadata": {},
   "outputs": [],
   "source": [
    "%load_ext autoreload\n",
    "%autoreload 2"
   ]
  },
  {
   "cell_type": "code",
   "execution_count": null,
   "metadata": {},
   "outputs": [],
   "source": [
    "%matplotlib inline\n",
    "\n",
    "import numpy as np\n",
    "import pandas as pd\n",
    "import matplotlib.pyplot as plt"
   ]
  },
  {
   "cell_type": "code",
   "execution_count": null,
   "metadata": {},
   "outputs": [],
   "source": [
    "def rmgarbage_long(string, threshold=40):\n",
    "    if len(string) > threshold:\n",
    "        return True\n",
    "    return False\n",
    "\n",
    "print rmgarbage_long('kkkkkkkkkkkkkkkkkkkkkkkkkkkkkkkkkkkkkkkkkkkkkkkk')"
   ]
  },
  {
   "cell_type": "code",
   "execution_count": null,
   "metadata": {},
   "outputs": [],
   "source": [
    "def rmgarbage_alphanumeric(string):\n",
    "    alphanumeric_chars = sum(c.isalnum() for c in string)\n",
    "    if (alphanumeric_chars+0.0)/len(string) < 0.5:\n",
    "        return True\n",
    "    return False\n",
    "    \n",
    "rmgarbage_alphanumeric('qq!qqcdsfsq**@!*&#')"
   ]
  },
  {
   "cell_type": "code",
   "execution_count": null,
   "metadata": {},
   "outputs": [],
   "source": [
    "import re\n",
    "\n",
    "def rmgarbage_row(string, rep=4):\n",
    "    # TODO: werkt nog niet met accented characters\n",
    "    for c in string:\n",
    "        #print c.isalpha()\n",
    "        if c.isalpha():\n",
    "            if c*rep in string:\n",
    "            #pattern = r'{}{{{}}}'.format(c, rep)\n",
    "            #print pattern, string\n",
    "            if re.search(pattern, string):\n",
    "                return True\n",
    "    return False\n",
    "\n",
    "rmgarbage_row('aaaa')"
   ]
  },
  {
   "cell_type": "code",
   "execution_count": null,
   "metadata": {},
   "outputs": [],
   "source": [
    "'aaaa' in 'bbbbbaaaabbbbbbbbbbbb'"
   ]
  },
  {
   "cell_type": "code",
   "execution_count": null,
   "metadata": {},
   "outputs": [],
   "source": [
    "def rmgarbage_vowels(string):\n",
    "    # TODO: deal with accented characters\n",
    "    if string.isalpha():\n",
    "        vowels = sum(c in 'aeuio' for c in string)\n",
    "        consonants = len(string) - vowels\n",
    "        \n",
    "        low = min(vowels, consonants)\n",
    "        high = max(vowels, consonants)\n",
    "        \n",
    "        if low/(high+0.0) <= 0.1:\n",
    "            return True\n",
    "    return False\n",
    "        \n",
    "rmgarbage_vowels('CslwWkrm')"
   ]
  },
  {
   "cell_type": "code",
   "execution_count": null,
   "metadata": {},
   "outputs": [],
   "source": [
    "a = u'Ã'\n",
    "print a.lower()"
   ]
  },
  {
   "cell_type": "code",
   "execution_count": null,
   "metadata": {},
   "outputs": [],
   "source": [
    "a = u'aáâàåãäeéèëêuúûùüiíîìïoóôòøõö'\n",
    "a.isalpha()"
   ]
  },
  {
   "cell_type": "code",
   "execution_count": null,
   "metadata": {},
   "outputs": [],
   "source": [
    "from string import punctuation\n",
    "\n",
    "def rmgarbage_punctuation(string):\n",
    "    string = string[1:len(string)-1]\n",
    "    \n",
    "    punctuation_marks = set()\n",
    "    for c in string:\n",
    "        if c in punctuation:\n",
    "            punctuation_marks.add(c)\n",
    "            \n",
    "            if len(punctuation_marks) > 1:\n",
    "                return True\n",
    "    return False\n",
    "    \n",
    "rmgarbage_punctuation('a,bc/defg')"
   ]
  },
  {
   "cell_type": "code",
   "execution_count": null,
   "metadata": {},
   "outputs": [],
   "source": [
    "def rmgarbage_case(string):\n",
    "    if string[0].islower() and string[len(string)-1].islower():\n",
    "        for c in string:\n",
    "            if c.isupper():\n",
    "                return True\n",
    "    return False\n",
    "\n",
    "print rmgarbage_case('bAa')\n",
    "print rmgarbage_case('baa')"
   ]
  }
 ],
 "metadata": {
  "language_info": {
   "name": "python",
   "pygments_lexer": "ipython3"
  }
 },
 "nbformat": 4,
 "nbformat_minor": 2
}
