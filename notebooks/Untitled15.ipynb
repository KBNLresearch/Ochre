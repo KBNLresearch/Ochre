{
 "cells": [
  {
   "cell_type": "code",
   "execution_count": null,
   "metadata": {},
   "outputs": [],
   "source": [
    "%load_ext autoreload\n",
    "%autoreload 2"
   ]
  },
  {
   "cell_type": "code",
   "execution_count": null,
   "metadata": {},
   "outputs": [],
   "source": [
    "%matplotlib inline\n",
    "\n",
    "import numpy as np\n",
    "import pandas as pd\n",
    "import matplotlib.pyplot as plt"
   ]
  },
  {
   "cell_type": "code",
   "execution_count": null,
   "metadata": {},
   "outputs": [],
   "source": [
    "import os\n",
    "from tqdm import tqdm_notebook as tqdm\n",
    "#from codecs import open\n",
    "from lxml import etree\n",
    "\n",
    "from nlppln.utils import out_file_name, create_dirs"
   ]
  },
  {
   "cell_type": "code",
   "execution_count": null,
   "metadata": {},
   "outputs": [],
   "source": [
    "with open('/home/jvdzwaan/data/dbnl_ocr/raw/ocr-with-title-page/_aio001jver01_01.txt') as f:\n",
    "    ls = f.readlines()\n",
    "\n",
    "with open('/home/jvdzwaan/data/dbnl_ocr/raw/notes/_aio001jver01_01.txt') as f:\n",
    "    notes = f.readlines()\n",
    "\n",
    "print(len(ls))\n",
    "print(len(notes))"
   ]
  },
  {
   "cell_type": "code",
   "execution_count": null,
   "metadata": {},
   "outputs": [],
   "source": [
    "# remove empty lines from lines\n",
    "lines = []\n",
    "\n",
    "for line in ls:\n",
    "    if line.strip() != '':\n",
    "        lines.append(line)\n",
    "print(len(lines))"
   ]
  },
  {
   "cell_type": "code",
   "execution_count": null,
   "metadata": {},
   "outputs": [],
   "source": [
    "notes_text = ''.join(notes)\n",
    "print(notes_text)"
   ]
  },
  {
   "cell_type": "code",
   "execution_count": null,
   "metadata": {},
   "outputs": [],
   "source": [
    "%%time\n",
    "from fuzzywuzzy import fuzz\n",
    "\n",
    "result = pd.DataFrame()\n",
    "# use difflib\n",
    "fuzz.SequenceMatcher = difflib.SequenceMatcher\n",
    "r = []\n",
    "for l in tqdm(lines):\n",
    "    r.append(fuzz.partial_ratio(l, notes_text))\n",
    "result['pratio'] = r"
   ]
  },
  {
   "cell_type": "code",
   "execution_count": null,
   "metadata": {},
   "outputs": [],
   "source": [
    "result.hist(bins=100)"
   ]
  },
  {
   "cell_type": "code",
   "execution_count": null,
   "metadata": {},
   "outputs": [],
   "source": [
    "for idx in list(result[result['pratio'] > 80].index):\n",
    "    print(idx, lines[idx])"
   ]
  },
  {
   "cell_type": "code",
   "execution_count": null,
   "metadata": {},
   "outputs": [],
   "source": [
    "fuzz.partial_ratio(lines[42], notes[0])"
   ]
  },
  {
   "cell_type": "code",
   "execution_count": null,
   "metadata": {},
   "outputs": [],
   "source": [
    "fuzz.partial_ratio(lines[42], notes_text)"
   ]
  },
  {
   "cell_type": "code",
   "execution_count": null,
   "metadata": {},
   "outputs": [],
   "source": [
    "%%time\n",
    "# Calculate overlap between remaining notes and lines\n",
    "from py_stringmatching.similarity_measure.partial_ratio import PartialRatio\n",
    "pr = PartialRatio()\n",
    "\n",
    "result = pd.DataFrame()\n",
    "r = []\n",
    "for l in tqdm(lines):\n",
    "    r.append(pr.get_raw_score(l, notes_text))\n",
    "result['pratio'] = r"
   ]
  },
  {
   "cell_type": "code",
   "execution_count": null,
   "metadata": {},
   "outputs": [],
   "source": [
    "result.hist(bins=100)"
   ]
  },
  {
   "cell_type": "code",
   "execution_count": null,
   "metadata": {},
   "outputs": [],
   "source": [
    "for idx in list(result[result['pratio'] > 80].index):\n",
    "    print(idx, lines[idx])"
   ]
  },
  {
   "cell_type": "code",
   "execution_count": null,
   "metadata": {},
   "outputs": [],
   "source": [
    "%%time\n",
    "# match lines to notes\n",
    "import math\n",
    "import copy\n",
    "import edlib\n",
    "\n",
    "ns = [{'note': n, 'lines': []} for i, n in enumerate(notes)]"
   ]
  },
  {
   "cell_type": "code",
   "execution_count": null,
   "metadata": {},
   "outputs": [],
   "source": [
    "import math\n",
    "\n",
    "start = 0\n",
    "stop = math.inf\n",
    "\n",
    "for n in tqdm(ns):\n",
    "    for idx in list(result[result['pratio'] > 80].index):\n",
    "        if idx > start:\n",
    "            score = pr.get_raw_score(lines[idx], n['note'])\n",
    "            if score > 80:\n",
    "                n['lines'].append(idx)\n",
    "                start = idx\n",
    "            else:\n",
    "                break"
   ]
  },
  {
   "cell_type": "code",
   "execution_count": null,
   "metadata": {},
   "outputs": [],
   "source": [
    "for n in ns:\n",
    "    print(n['note'])\n",
    "    print('---')\n",
    "    for l in n['lines']:\n",
    "        print(l)\n",
    "    print('-'*80)"
   ]
  },
  {
   "cell_type": "code",
   "execution_count": null,
   "metadata": {},
   "outputs": [],
   "source": [
    "(result[result['pratio'] > 80].index)"
   ]
  },
  {
   "cell_type": "code",
   "execution_count": null,
   "metadata": {},
   "outputs": [],
   "source": [
    "n = 1996\n",
    "print(lines[n])\n",
    "print(result.loc[n])"
   ]
  },
  {
   "cell_type": "code",
   "execution_count": null,
   "metadata": {},
   "outputs": [],
   "source": [
    "pr.get_raw_score(lines[n], notes_text)"
   ]
  },
  {
   "cell_type": "code",
   "execution_count": null,
   "metadata": {},
   "outputs": [],
   "source": [
    "pr.get_raw_score(notes_text, lines[n])"
   ]
  },
  {
   "cell_type": "code",
   "execution_count": null,
   "metadata": {},
   "outputs": [],
   "source": [
    "pr.get_raw_score(lines[n], notes[11])"
   ]
  },
  {
   "cell_type": "code",
   "execution_count": null,
   "metadata": {},
   "outputs": [],
   "source": [
    "from fuzzywuzzy import fuzz, StringMatcher\n",
    "import difflib\n",
    "\n",
    "#As long as python-Levenshtein is available, that will be used for the following:\n",
    "print(fuzz.partial_ratio(lines[42], notes[0]))\n",
    "print(fuzz.partial_ratio(lines[42], notes_text))\n",
    "\n",
    "#Switch to difflib:\n",
    "fuzz.SequenceMatcher = difflib.SequenceMatcher\n",
    "print(fuzz.partial_ratio(lines[42], notes[0]))\n",
    "print(fuzz.partial_ratio(lines[42], notes_text))"
   ]
  }
 ],
 "metadata": {
  "language_info": {
   "name": "python",
   "pygments_lexer": "ipython3"
  }
 },
 "nbformat": 4,
 "nbformat_minor": 2
}
