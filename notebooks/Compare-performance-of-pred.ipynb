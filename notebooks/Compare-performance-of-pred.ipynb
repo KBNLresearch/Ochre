{
 "cells": [
  {
   "cell_type": "code",
   "execution_count": null,
   "metadata": {},
   "outputs": [],
   "source": [
    "%load_ext autoreload\n",
    "%autoreload 2"
   ]
  },
  {
   "cell_type": "code",
   "execution_count": null,
   "metadata": {},
   "outputs": [],
   "source": [
    "%matplotlib inline\n",
    "\n",
    "import numpy as np\n",
    "import pandas as pd\n",
    "import matplotlib.pyplot as plt"
   ]
  },
  {
   "cell_type": "code",
   "execution_count": null,
   "metadata": {},
   "outputs": [],
   "source": [
    "#performance_4 = pd.read_csv('/home/jvdzwaan/data/kb-ocr/performance_A8P1_model-50000_2019-05-16.csv', index_col=0)\n",
    "performance_4 = pd.read_csv('/home/jvdzwaan/data/kb-ocr/performance_A8P1_model-50000_2019-05-19.csv', index_col=0)\n",
    "performance_4.columns = ['CER_40000', 'WER_40000', 'WER (order independent)_40000']\n",
    "#performance_4"
   ]
  },
  {
   "cell_type": "code",
   "execution_count": null,
   "metadata": {},
   "outputs": [],
   "source": [
    "performance_12 = pd.read_csv('/home/jvdzwaan/data/kb-ocr/performance_A8P1_model-120000_2019-05-22.csv', index_col=0)\n",
    "performance_12.columns = ['CER_120000', 'WER_120000', 'WER (order independent)_120000']\n",
    "#performance_12"
   ]
  },
  {
   "cell_type": "code",
   "execution_count": null,
   "metadata": {},
   "outputs": [],
   "source": [
    "performance_fr11 = pd.read_csv('/home/jvdzwaan/data/kb-ocr/FR11_match-gs_vs_GT_test-files_2019-05-22.csv', index_col=0)\n",
    "performance_fr11.columns = ['CER_FR11', 'WER_FR11', 'WER (order independent)_FR11']\n",
    "#performance_fr11"
   ]
  },
  {
   "cell_type": "code",
   "execution_count": null,
   "metadata": {},
   "outputs": [],
   "source": [
    "performance_old = pd.read_csv('/home/jvdzwaan/data/kb-ocr/text_aligned_blocks-match_gs-20190514.csv', index_col=0)\n",
    "#performance_old"
   ]
  },
  {
   "cell_type": "code",
   "execution_count": null,
   "metadata": {},
   "outputs": [],
   "source": [
    "performance_old.columns = ['CER_old', 'WER_old', 'WER (order independent)_old']\n",
    "#performance_old"
   ]
  },
  {
   "cell_type": "code",
   "execution_count": null,
   "metadata": {},
   "outputs": [],
   "source": [
    "result = performance_12.join(performance_4).join(performance_old).join(performance_fr11)\n",
    "#result"
   ]
  },
  {
   "cell_type": "code",
   "execution_count": null,
   "metadata": {},
   "outputs": [],
   "source": [
    "result[['CER_old', 'CER_FR11', 'CER_40000', 'CER_120000']].plot(kind='bar', figsize=(15,7))"
   ]
  },
  {
   "cell_type": "code",
   "execution_count": null,
   "metadata": {},
   "outputs": [],
   "source": [
    "result[['WER_old', 'WER_FR11', 'WER_40000', 'WER_120000']].plot(kind='bar', figsize=(15,7))"
   ]
  },
  {
   "cell_type": "code",
   "execution_count": null,
   "metadata": {},
   "outputs": [],
   "source": [
    "result[['WER (order independent)_old', 'WER (order independent)_FR11', 'WER (order independent)_40000', 'WER (order independent)_120000']].plot(kind='bar', figsize=(15,7))"
   ]
  },
  {
   "cell_type": "code",
   "execution_count": null,
   "metadata": {},
   "outputs": [],
   "source": [
    "print('CER old:')\n",
    "print(result['CER_old'].describe())"
   ]
  },
  {
   "cell_type": "code",
   "execution_count": null,
   "metadata": {},
   "outputs": [],
   "source": [
    "print('CER model')\n",
    "print(result['CER_120000'].describe())"
   ]
  },
  {
   "cell_type": "code",
   "execution_count": null,
   "metadata": {},
   "outputs": [],
   "source": [
    "print('Afname:')\n",
    "print((result['CER_old'] - result['CER_120000']).describe())"
   ]
  },
  {
   "cell_type": "code",
   "execution_count": null,
   "metadata": {},
   "outputs": [],
   "source": [
    "print('GT')\n",
    "print(result['CER_FR11'].describe())"
   ]
  },
  {
   "cell_type": "code",
   "execution_count": null,
   "metadata": {},
   "outputs": [],
   "source": [
    "print('Afname:')\n",
    "print((result['CER_old'] - result['CER_FR11']).describe())"
   ]
  }
 ],
 "metadata": {
  "language_info": {
   "name": "python",
   "pygments_lexer": "ipython3"
  }
 },
 "nbformat": 4,
 "nbformat_minor": 2
}
