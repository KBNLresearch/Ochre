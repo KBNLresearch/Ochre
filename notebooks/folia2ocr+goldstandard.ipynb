{
 "cells": [
  {
   "cell_type": "code",
   "execution_count": 2,
   "metadata": {
    "collapsed": false,
    "deletable": true,
    "editable": true
   },
   "outputs": [
    {
     "name": "stdout",
     "output_type": "stream",
     "text": [
      "The autoreload extension is already loaded. To reload it, use:\n",
      "  %reload_ext autoreload\n"
     ]
    }
   ],
   "source": [
    "%load_ext autoreload\n",
    "%autoreload 2"
   ]
  },
  {
   "cell_type": "code",
   "execution_count": 8,
   "metadata": {
    "collapsed": false
   },
   "outputs": [
    {
     "name": "stdout",
     "output_type": "stream",
     "text": [
      "Steps\n",
      "  chunk-list-of-files...... file_list = wf.chunk_list_of_files(chunk_size, in_files)\n",
      "  ixa-pipe-tok............. out_file = wf.ixa_pipe_tok(language, in_file)\n",
      "  frog-single-text......... frogout = wf.frog_single_text(in_file)\n",
      "  save-ner-data............ ner_statistics = wf.save_ner_data(in_files)\n",
      "  download................. out_files = wf.download(urls)\n",
      "  select-folia-files....... out_files = wf.select_folia_files(in_dir)\n",
      "  rename-and-copy-files.... out_files = wf.rename_and_copy_files(in_files)\n",
      "  folia2ocr-and-gs......... out_files = wf.folia2ocr_and_gs(in_file[, out_dir])\n",
      "  apachetika............... out_files = wf.apachetika(in_files[, tika_server])\n",
      "  ls....................... out_files = wf.ls(in_dir[, recursive])\n",
      "  xml-to-text.............. out_files = wf.xml_to_text(in_files[, tag])\n",
      "  frog-dir................. frogout = wf.frog_dir(dir_in[, skip])\n",
      "  frog-to-saf.............. saf = wf.frog_to_saf(in_files)\n",
      "  saf-to-freqs............. freqs = wf.saf_to_freqs(in_files[, mode])\n",
      "  replace-ner.............. out_files = wf.replace_ner(metadata, in_files[, mode])\n",
      "  saf-to-txt............... out_files = wf.saf_to_txt(in_files)\n",
      "  language................. language_csv = wf.language(dir_in)\n",
      "  freqs.................... freqs = wf.freqs(in_files)\n",
      "  docx2txt................. out_files = wf.docx2txt(in_files)\n",
      "  scramble................. out_files = wf.scramble(in_files)\n",
      "\n",
      "Workflows\n",
      "  folia2texts.............. texts = wf.folia2texts(in_dir)\n",
      "  anonymize................ ner_stats, out_files = wf.anonymize(txt-dir[, mode])\n"
     ]
    }
   ],
   "source": [
    "import nlppln\n",
    "\n",
    "wf = nlppln.WorkflowGenerator()\n",
    "wf.load(steps_dir='../cwl/')\n",
    "print(wf.list_steps())\n",
    "\n",
    "in_dir = wf.add_inputs(in_dir='Directory')\n",
    "\n",
    "folia_files = wf.ls(in_dir=in_dir)\n",
    "result = wf.folia2ocr_and_gs(in_file=folia_files, scatter='in_file', scatter_method='flat_crossproduct')\n",
    "\n",
    "wf.add_outputs(texts=result)\n",
    "wf.save('../cwl/folia2texts.cwl')"
   ]
  }
 ],
 "metadata": {
  "anaconda-cloud": {},
  "kernelspec": {
   "display_name": "Python [conda env:cwl]",
   "language": "python",
   "name": "conda-env-cwl-py"
  },
  "language_info": {
   "codemirror_mode": {
    "name": "ipython",
    "version": 2
   },
   "file_extension": ".py",
   "mimetype": "text/x-python",
   "name": "python",
   "nbconvert_exporter": "python",
   "pygments_lexer": "ipython2",
   "version": "2.7.13"
  }
 },
 "nbformat": 4,
 "nbformat_minor": 2
}
