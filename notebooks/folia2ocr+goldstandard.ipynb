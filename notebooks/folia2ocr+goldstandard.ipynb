{
 "cells": [
  {
   "cell_type": "code",
   "execution_count": null,
   "metadata": {
    "collapsed": false,
    "deletable": true,
    "editable": true
   },
   "outputs": [],
   "source": [
    "%load_ext autoreload\n",
    "%autoreload 2"
   ]
  },
  {
   "cell_type": "code",
   "execution_count": null,
   "metadata": {
    "collapsed": false
   },
   "outputs": [],
   "source": [
    "import nlppln\n",
    "\n",
    "wf = nlppln.WorkflowGenerator()\n",
    "wf.load(steps_dir='../cwl/')\n",
    "print(wf.list_steps())\n",
    "\n",
    "in_dir = wf.add_inputs(in_dir='Directory')\n",
    "\n",
    "#folia_files = wf.ls(in_dir=in_dir)\n",
    "folia_files = wf.select_folia_files(in_dir=in_dir)\n",
    "gs, ocr = wf.folia2ocr_and_gs(in_file=folia_files, scatter='in_file', scatter_method='flat_crossproduct')\n",
    "char_counts = wf.count_chars(in_file=ocr, scatter='in_file', scatter_method='flat_crossproduct')\n",
    "merged = wf.merge_json(in_files=char_counts)\n",
    "\n",
    "wf.add_outputs(gs=gs, ocr=ocr, merged=merged)\n",
    "wf.save('../cwl/folia2texts.cwl')"
   ]
  },
  {
   "cell_type": "code",
   "execution_count": null,
   "metadata": {
    "collapsed": true
   },
   "outputs": [],
   "source": []
  }
 ],
 "metadata": {
  "anaconda-cloud": {},
  "kernelspec": {
   "display_name": "Python [conda env:cwl]",
   "language": "python",
   "name": "conda-env-cwl-py"
  },
  "language_info": {
   "codemirror_mode": {
    "name": "ipython",
    "version": 2
   },
   "file_extension": ".py",
   "mimetype": "text/x-python",
   "name": "python",
   "nbconvert_exporter": "python",
   "pygments_lexer": "ipython2",
   "version": "2.7.13"
  }
 },
 "nbformat": 4,
 "nbformat_minor": 2
}
