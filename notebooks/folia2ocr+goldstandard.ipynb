{
 "cells": [
  {
   "cell_type": "code",
   "execution_count": null,
   "metadata": {
    "collapsed": false,
    "deletable": true,
    "editable": true
   },
   "outputs": [],
   "source": [
    "%load_ext autoreload\n",
    "%autoreload 2"
   ]
  },
  {
   "cell_type": "code",
   "execution_count": null,
   "metadata": {
    "collapsed": false
   },
   "outputs": [],
   "source": [
    "import nlppln\n",
    "\n",
    "wf = nlppln.WorkflowGenerator()\n",
    "wf.load(steps_dir='../cwl/')\n",
    "print(wf.list_steps())\n",
    "\n",
    "in_dir = wf.add_inputs(in_dir='Directory')\n",
    "ocr_char_counts = wf.add_inputs(ocr_n='string?')\n",
    "gs_char_counts = wf.add_inputs(gs_n='string?')\n",
    "align_metadata = wf.add_inputs(align_m='string?')\n",
    "align_changes = wf.add_inputs(align_c='string?')\n",
    "\n",
    "#folia_files = wf.ls(in_dir=in_dir)\n",
    "folia_files = wf.select_folia_files(in_dir=in_dir)\n",
    "gs_with_empty, ocr_with_empty = wf.folia2ocr_and_gs(in_file=folia_files, scatter='in_file', scatter_method='flat_crossproduct')\n",
    "gs, ocr = wf.remove_empty_files(gs_files=gs_with_empty, ocr_files=ocr_with_empty)\n",
    "\n",
    "ocr_cc = wf.count_chars(in_file=ocr, scatter='in_file', scatter_method='dotproduct')\n",
    "ocr_char_counts = wf.merge_json(in_files=ocr_cc, name=ocr_char_counts)\n",
    "\n",
    "gs_cc = wf.count_chars(in_file=gs, scatter='in_file', scatter_method='dotproduct')\n",
    "gs_char_counts = wf.merge_json(in_files=gs_cc, name=gs_char_counts)\n",
    "\n",
    "changes_files, metadata_files = wf.align(file1=ocr, file2=gs, scatter=['file1', 'file2'], scatter_method='dotproduct')\n",
    "metadata = wf.merge_json(in_files=metadata_files, name=align_metadata)\n",
    "changes = wf.merge_json(in_files=changes_files, name=align_changes)\n",
    "\n",
    "wf.add_outputs(gs=gs, ocr=ocr, ocr_char_counts=ocr_char_counts, gs_char_counts=gs_char_counts, metadata=metadata, changes=changes)\n",
    "wf.save('../cwl/folia2texts.cwl')"
   ]
  },
  {
   "cell_type": "code",
   "execution_count": null,
   "metadata": {
    "collapsed": true
   },
   "outputs": [],
   "source": []
  }
 ],
 "metadata": {
  "anaconda-cloud": {},
  "kernelspec": {
   "display_name": "Python [conda env:cwl]",
   "language": "python",
   "name": "conda-env-cwl-py"
  },
  "language_info": {
   "codemirror_mode": {
    "name": "ipython",
    "version": 2
   },
   "file_extension": ".py",
   "mimetype": "text/x-python",
   "name": "python",
   "nbconvert_exporter": "python",
   "pygments_lexer": "ipython2",
   "version": "2.7.13"
  }
 },
 "nbformat": 4,
 "nbformat_minor": 2
}
