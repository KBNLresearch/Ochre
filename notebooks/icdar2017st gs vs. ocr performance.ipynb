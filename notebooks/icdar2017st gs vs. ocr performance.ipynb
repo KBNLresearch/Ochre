{
 "cells": [
  {
   "cell_type": "code",
   "execution_count": null,
   "metadata": {},
   "outputs": [],
   "source": [
    "%load_ext autoreload\n",
    "%autoreload 2"
   ]
  },
  {
   "cell_type": "code",
   "execution_count": null,
   "metadata": {},
   "outputs": [],
   "source": [
    "%matplotlib inline\n",
    "\n",
    "import numpy as np\n",
    "import pandas as pd\n",
    "import matplotlib.pyplot as plt"
   ]
  },
  {
   "cell_type": "code",
   "execution_count": null,
   "metadata": {},
   "outputs": [],
   "source": [
    "data = pd.read_csv('/home/jvdzwaan/data/icdar2017st/eng_periodical/performance_ocr_vs_gs.csv', index_col=0)\n",
    "data"
   ]
  },
  {
   "cell_type": "code",
   "execution_count": null,
   "metadata": {},
   "outputs": [],
   "source": [
    "import json\n",
    "import codecs\n",
    "import glob\n",
    "import numpy as np\n",
    "import os\n",
    "\n",
    "# get test set\n",
    "with codecs.open('/home/jvdzwaan/data/icdar2017st/eng_periodical/datadivision.json', encoding='utf-8') as f:\n",
    "    division = json.load(f)\n",
    "print division.get('test')"
   ]
  },
  {
   "cell_type": "code",
   "execution_count": null,
   "metadata": {},
   "outputs": [],
   "source": [
    "test = ['{}_out'.format(os.path.splitext(s)[0]) for s in division.get('test')]\n",
    "print test"
   ]
  },
  {
   "cell_type": "code",
   "execution_count": null,
   "metadata": {},
   "outputs": [],
   "source": [
    "# select texts from test set\n",
    "data = data.loc[test]\n",
    "#data = data.loc[['BAObi2-ds.gs_out']]\n",
    "data"
   ]
  },
  {
   "cell_type": "code",
   "execution_count": null,
   "metadata": {},
   "outputs": [],
   "source": [
    "data_bidir = pd.read_csv('/home/jvdzwaan/data/tmp/ocr-performance/merged.csv', index_col=0)\n",
    "data_bidir"
   ]
  },
  {
   "cell_type": "code",
   "execution_count": null,
   "metadata": {},
   "outputs": [],
   "source": [
    "data_all = pd.concat([data, data_bidir], axis=1)\n",
    "print data_all.columns\n",
    "data_all.columns = ['CER', 'WER', 'WER (order independent)', 'eCER', 'eWER', 'eWER (order independent)']\n",
    "data_all"
   ]
  },
  {
   "cell_type": "code",
   "execution_count": null,
   "metadata": {},
   "outputs": [],
   "source": [
    "result_all = pd.DataFrame(data_all['eWER'] - data_all['WER'], columns=['WER'])\n",
    "result_all['CER'] = data_all['eCER'] - data_all['CER']\n",
    "result_all['WER (order independent)'] = data_all['eWER (order independent)'] - data_all['WER (order independent)']\n",
    "\n",
    "r = pd.DataFrame(result_all.mean(), columns=['mean'])\n",
    "r['std'] = result_all.std()\n",
    "r['min'] = result_all.min()\n",
    "r['max'] = result_all.max()\n",
    "r"
   ]
  },
  {
   "cell_type": "code",
   "execution_count": null,
   "metadata": {},
   "outputs": [],
   "source": [
    "filtered = data[data['CER'] >= 20]\n",
    "print filtered.shape"
   ]
  },
  {
   "cell_type": "code",
   "execution_count": null,
   "metadata": {},
   "outputs": [],
   "source": [
    "import json\n",
    "import codecs\n",
    "\n",
    "data_dir = '/home/jvdzwaan/data/ocr/'\n",
    "for f in filtered.index:\n",
    "    print f.split('-')[0]\n",
    "    with codecs.open('{}{}.json'.format(data_dir, f.split('-')[0])) as f:\n",
    "        texts = json.load(f)\n",
    "        print u''.join(texts['ocr'])\n",
    "        print\n",
    "        print u''.join(texts['gs'])\n",
    "        print '-----'\n"
   ]
  },
  {
   "cell_type": "code",
   "execution_count": null,
   "metadata": {},
   "outputs": [],
   "source": [
    "result = pd.DataFrame(data.mean(), columns=['mean'])\n",
    "result['std'] = data.std()\n",
    "result['min'] = data.min()\n",
    "result['max'] = data.max()\n",
    "result"
   ]
  },
  {
   "cell_type": "code",
   "execution_count": null,
   "metadata": {},
   "outputs": [],
   "source": [
    "result_bidir = pd.DataFrame(data_bidir.mean(), columns=['mean'])\n",
    "result_bidir['std'] = data_bidir.std()\n",
    "result_bidir['min'] = data_bidir.min()\n",
    "result_bidir['max'] = data_bidir.max()\n",
    "result_bidir"
   ]
  },
  {
   "cell_type": "code",
   "execution_count": null,
   "metadata": {},
   "outputs": [],
   "source": [
    "b = 100\n",
    "s = (15,5)"
   ]
  },
  {
   "cell_type": "code",
   "execution_count": null,
   "metadata": {},
   "outputs": [],
   "source": [
    "p = data['CER'].hist(bins=b, figsize=s)\n",
    "p.set_ylim((0,15))\n",
    "p.set_xlim((0,12))"
   ]
  },
  {
   "cell_type": "code",
   "execution_count": null,
   "metadata": {},
   "outputs": [],
   "source": [
    "p = data_bidir['CER'].hist(bins=b, figsize=s)\n",
    "p.set_xlim((0,15))\n",
    "p.set_xlim((0,12))"
   ]
  },
  {
   "cell_type": "code",
   "execution_count": null,
   "metadata": {},
   "outputs": [],
   "source": [
    "result_all['CER'].hist(bins=b, figsize=s)"
   ]
  },
  {
   "cell_type": "code",
   "execution_count": null,
   "metadata": {},
   "outputs": [],
   "source": [
    "data['WER'].hist(bins=b, figsize=s)"
   ]
  },
  {
   "cell_type": "code",
   "execution_count": null,
   "metadata": {},
   "outputs": [],
   "source": [
    "data_bidir['WER'].hist(bins=b, figsize=s)"
   ]
  },
  {
   "cell_type": "code",
   "execution_count": null,
   "metadata": {},
   "outputs": [],
   "source": [
    "result_all['WER'].hist(bins=b, figsize=s)"
   ]
  },
  {
   "cell_type": "code",
   "execution_count": null,
   "metadata": {},
   "outputs": [],
   "source": [
    "data['WER (order independent)'].hist(bins=b, figsize=s)"
   ]
  },
  {
   "cell_type": "code",
   "execution_count": null,
   "metadata": {},
   "outputs": [],
   "source": [
    "data_bidir['WER (order independent)'].hist(bins=b, figsize=s)"
   ]
  },
  {
   "cell_type": "code",
   "execution_count": null,
   "metadata": {},
   "outputs": [],
   "source": [
    "result_all['WER (order independent)'].hist(bins=b, figsize=s)"
   ]
  }
 ],
 "metadata": {
  "language_info": {
   "name": "python",
   "pygments_lexer": "ipython3"
  }
 },
 "nbformat": 4,
 "nbformat_minor": 2
}
