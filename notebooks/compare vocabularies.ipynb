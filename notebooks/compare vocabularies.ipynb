{
 "cells": [
  {
   "cell_type": "code",
   "execution_count": null,
   "metadata": {},
   "outputs": [],
   "source": [
    "%load_ext autoreload\n",
    "%autoreload 2"
   ]
  },
  {
   "cell_type": "code",
   "execution_count": null,
   "metadata": {},
   "outputs": [],
   "source": [
    "%matplotlib inline\n",
    "\n",
    "import numpy as np\n",
    "import pandas as pd\n",
    "import matplotlib.pyplot as plt"
   ]
  },
  {
   "cell_type": "code",
   "execution_count": null,
   "metadata": {},
   "outputs": [],
   "source": [
    "def read_vocab(fname):\n",
    "    return pd.read_csv(fname, header=None, skiprows=1, \n",
    "                       delim_whitespace=True, quotechar=' ', index_col=0)\n",
    "\n",
    "ocr_vocab = read_vocab('/home/jvdzwaan/data/tmp/vocab/vocabulary-ocr.txt')\n",
    "gs_vocab = read_vocab('/home/jvdzwaan/data/tmp/vocab/vocabulary-gs.txt')\n",
    "bi_vocab = read_vocab('/home/jvdzwaan/data/tmp/vocab/vocabulary-1x256-bidirect-all.txt')\n",
    "ll_vocab = read_vocab('/home/jvdzwaan/data/tmp/vocab/vocabulary-2x256-lowercase-all.txt')"
   ]
  },
  {
   "cell_type": "code",
   "execution_count": null,
   "metadata": {},
   "outputs": [],
   "source": [
    "print ocr_vocab.shape\n",
    "print ocr_vocab[ocr_vocab[2]==1].shape"
   ]
  },
  {
   "cell_type": "code",
   "execution_count": null,
   "metadata": {},
   "outputs": [],
   "source": [
    "print gs_vocab.shape\n",
    "print gs_vocab[gs_vocab[2]==1].shape"
   ]
  },
  {
   "cell_type": "code",
   "execution_count": null,
   "metadata": {},
   "outputs": [],
   "source": [
    "def make_frequencies(df):\n",
    "    frequencies = {}\n",
    "    for k, v in zip(df[1], df[2]):\n",
    "        frequencies[k] = v\n",
    "    return frequencies\n",
    "#print frequencies"
   ]
  },
  {
   "cell_type": "code",
   "execution_count": null,
   "metadata": {},
   "outputs": [],
   "source": [
    "from wordcloud import WordCloud\n",
    "\n",
    "def make_wc(frequencies):\n",
    "    wordcloud = WordCloud(max_font_size=40).fit_words(frequencies)\n",
    "    plt.figure()\n",
    "    plt.imshow(wordcloud, interpolation=\"bilinear\")\n",
    "    plt.axis(\"off\")\n",
    "    plt.show()"
   ]
  },
  {
   "cell_type": "code",
   "execution_count": null,
   "metadata": {},
   "outputs": [],
   "source": [
    "make_wc(make_frequencies(ocr_vocab))"
   ]
  },
  {
   "cell_type": "code",
   "execution_count": null,
   "metadata": {},
   "outputs": [],
   "source": [
    "def diff(l1, l2):\n",
    "    return [item for item in set(l1) - set(l2)]\n",
    "\n",
    "r1 = diff(gs_vocab[1], ocr_vocab[1])\n",
    "r2 = diff(ocr_vocab[1], gs_vocab[1])\n",
    "print len(r1)\n",
    "print len(r2)"
   ]
  },
  {
   "cell_type": "code",
   "execution_count": null,
   "metadata": {},
   "outputs": [],
   "source": [
    "ocr_freqs = make_frequencies(ocr_vocab)\n",
    "gs_freqs = make_frequencies(gs_vocab)\n",
    "\n",
    "fr = {}\n",
    "for w in r1:\n",
    "    fr[w] = gs_freqs[w]\n",
    "make_wc(fr)"
   ]
  },
  {
   "cell_type": "code",
   "execution_count": null,
   "metadata": {},
   "outputs": [],
   "source": [
    "from collections import Counter\n",
    "\n",
    "c = Counter(fr)\n",
    "print c.most_common()"
   ]
  },
  {
   "cell_type": "code",
   "execution_count": null,
   "metadata": {},
   "outputs": [],
   "source": [
    "from matplotlib_venn import venn3, venn2\n",
    "\n",
    "set1 = set(gs_vocab[1])\n",
    "set2 = set(ocr_vocab[1])\n",
    "set3 = set(ll_vocab[1])\n",
    "set4 = set(bi_vocab[1])\n",
    "\n",
    "venn3([set1, set2, set3], ('GS', 'OCR', 'Predicted (2layer)'))\n",
    "plt.show()"
   ]
  },
  {
   "cell_type": "code",
   "execution_count": null,
   "metadata": {},
   "outputs": [],
   "source": [
    "venn3([set1, set2, set4], ('GS', 'OCR', 'Predicted (bidirec)'))\n",
    "plt.show()"
   ]
  },
  {
   "cell_type": "code",
   "execution_count": null,
   "metadata": {},
   "outputs": [],
   "source": [
    "venn2([set1, set2], ('GS', 'OCR'))\n",
    "plt.show()"
   ]
  },
  {
   "cell_type": "markdown",
   "metadata": {},
   "source": [
    "Okee, er zijn 7737 woorden die voorkomen in zowel GS als OCR (maar dat betekent niet dat alle woorden goed herkend zijn).\n",
    "In de OCR teksten zitten 2460 woorden die niet voorkomen in GS en in GS zitten 1173 woorden die niet voorkomen in OCR.\n",
    "\n",
    "De 2460 woorden in OCR mappen naar 1173 woorden in GS. Nee, dat klopt niet, ze mappen naar woorden in GS en woorden die zowel in GS als in OCR voorkomen.\n",
    "\n",
    "Maar het is niet gezegd dat als dezelfde woorden voorkomen in GS en OCR dat ze ook op dezelfde plek voorkomen, dus wat heb ik hieraan?"
   ]
  },
  {
   "cell_type": "code",
   "execution_count": null,
   "metadata": {},
   "outputs": [],
   "source": [
    "venn2([set1, set3], ('GS', 'Predicted (2layer)'))\n",
    "plt.show()"
   ]
  },
  {
   "cell_type": "code",
   "execution_count": null,
   "metadata": {},
   "outputs": [],
   "source": [
    "venn2([set1, set4], ('GS', 'Predicted (bidirec)'))\n",
    "plt.show()"
   ]
  }
 ],
 "metadata": {
  "language_info": {
   "name": "python",
   "pygments_lexer": "ipython3"
  }
 },
 "nbformat": 4,
 "nbformat_minor": 2
}
