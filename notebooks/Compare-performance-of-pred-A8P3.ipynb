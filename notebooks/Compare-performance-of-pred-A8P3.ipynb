{
 "cells": [
  {
   "cell_type": "code",
   "execution_count": null,
   "metadata": {},
   "outputs": [],
   "source": [
    "%load_ext autoreload\n",
    "%autoreload 2"
   ]
  },
  {
   "cell_type": "code",
   "execution_count": null,
   "metadata": {},
   "outputs": [],
   "source": [
    "%matplotlib inline\n",
    "\n",
    "import numpy as np\n",
    "import pandas as pd\n",
    "import matplotlib.pyplot as plt"
   ]
  },
  {
   "cell_type": "code",
   "execution_count": null,
   "metadata": {},
   "outputs": [],
   "source": [
    "performance = pd.read_csv('/home/jvdzwaan/data/kb-ocr/performance_A8P3_model-140000_2019-05-27.csv', index_col=0)\n",
    "performance.head()"
   ]
  },
  {
   "cell_type": "code",
   "execution_count": null,
   "metadata": {},
   "outputs": [],
   "source": [
    "performance_fr11 = pd.read_csv('/home/jvdzwaan/data/kb-ocr/text_aligned_blocks-FR11-match_gs-20190522.csv', index_col=0)\n",
    "performance_fr11.columns = ['CER_FR11', 'WER_FR11', 'WER (order independent)_FR11']\n",
    "performance_fr11.head()"
   ]
  },
  {
   "cell_type": "code",
   "execution_count": null,
   "metadata": {},
   "outputs": [],
   "source": [
    "performance_old = pd.read_csv('/home/jvdzwaan/data/kb-ocr/text_aligned_blocks-match_gs-20190514.csv', index_col=0)\n",
    "performance_old.columns = ['CER_old', 'WER_old', 'WER (order independent)_old']\n",
    "performance_old.head()"
   ]
  },
  {
   "cell_type": "code",
   "execution_count": null,
   "metadata": {},
   "outputs": [],
   "source": [
    "result = performance.join(performance_old).join(performance_fr11)\n",
    "result.head()"
   ]
  },
  {
   "cell_type": "code",
   "execution_count": null,
   "metadata": {},
   "outputs": [],
   "source": [
    "result.shape"
   ]
  },
  {
   "cell_type": "code",
   "execution_count": null,
   "metadata": {},
   "outputs": [],
   "source": [
    "result[['CER_old', 'CER_FR11', 'CER']].plot(kind='bar', figsize=(15,7))"
   ]
  },
  {
   "cell_type": "code",
   "execution_count": null,
   "metadata": {},
   "outputs": [],
   "source": [
    "result[['WER_old', 'WER_FR11', 'WER']].plot(kind='bar', figsize=(15,7))"
   ]
  },
  {
   "cell_type": "code",
   "execution_count": null,
   "metadata": {},
   "outputs": [],
   "source": [
    "result[['WER (order independent)_old', 'WER (order independent)_FR11', 'WER (order independent)']].plot(kind='bar', figsize=(15,7))"
   ]
  },
  {
   "cell_type": "code",
   "execution_count": null,
   "metadata": {},
   "outputs": [],
   "source": [
    "def print_results(result, old, model):\n",
    "    r = result[old].describe()\n",
    "    m = r.loc['mean']\n",
    "    s = r.loc['std']\n",
    "    print(f'{old}: {m:.2f} ({s:.2f})')\n",
    "    \n",
    "    r = result[model].describe()\n",
    "    m = r.loc['mean']\n",
    "    s = r.loc['std']\n",
    "    print(f'{model}: {m:.2f} ({s:.2f})')\n",
    "    \n",
    "    r = (result[old] - result[model]).describe()\n",
    "    m = r.loc['mean']\n",
    "    s = r.loc['std']\n",
    "    print(f'Difference: {m:.2f} ({s:.2f})')\n",
    "    \n",
    "\n",
    "for o, m in zip(('CER_old', 'WER_old', 'WER (order independent)_old'), \n",
    "                ('CER', 'WER', 'WER (order independent)')):\n",
    "    #print(o, m)\n",
    "    print_results(result, o, m)\n",
    "    print()"
   ]
  },
  {
   "cell_type": "code",
   "execution_count": null,
   "metadata": {},
   "outputs": [],
   "source": [
    "print('WER (order independent)_old:')\n",
    "#print(result['CER_old'].describe())\n",
    "print(result['WER (order independent)_old'].describe())"
   ]
  },
  {
   "cell_type": "code",
   "execution_count": null,
   "metadata": {},
   "outputs": [],
   "source": [
    "print('WER (oi) model')\n",
    "#print(result['CER'].describe())\n",
    "print(result['WER (order independent)'].describe())"
   ]
  },
  {
   "cell_type": "code",
   "execution_count": null,
   "metadata": {},
   "outputs": [],
   "source": [
    "print('Afname:')\n",
    "#print((result['CER_old'] - result['CER']).describe())\n",
    "print((result['WER (order independent)_old'] - result['WER (order independent)']).describe())"
   ]
  },
  {
   "cell_type": "code",
   "execution_count": null,
   "metadata": {},
   "outputs": [],
   "source": [
    "print('GT')\n",
    "#print(result['CER_FR11'].describe())\n",
    "print(result['WER (order independent)_FR11'].describe())"
   ]
  },
  {
   "cell_type": "code",
   "execution_count": null,
   "metadata": {},
   "outputs": [],
   "source": [
    "print('Afname:')\n",
    "print((result['WER (order independent)_old'] - result['WER (order independent)_FR11']).describe())"
   ]
  },
  {
   "cell_type": "code",
   "execution_count": null,
   "metadata": {},
   "outputs": [],
   "source": [
    "ax = result['WER (order independent)_old'].hist(bins=50, figsize=(10,5))\n",
    "ax.set_ylim(0, 10)\n",
    "ax.set_xlim(0, 30)\n",
    "ax.set_title('WER_OI original OCR')"
   ]
  },
  {
   "cell_type": "code",
   "execution_count": null,
   "metadata": {},
   "outputs": [],
   "source": [
    "ax = result['WER (order independent)_FR11'].hist(bins=50, figsize=(10,5))\n",
    "ax.set_ylim(0, 10)\n",
    "ax.set_xlim(0, 30)"
   ]
  },
  {
   "cell_type": "code",
   "execution_count": null,
   "metadata": {},
   "outputs": [],
   "source": [
    "ax = result['WER (order independent)'].hist(bins=50, figsize=(10,5))\n",
    "ax.set_ylim(0, 10)\n",
    "ax.set_xlim(0, 30)\n",
    "ax.set_title('WER_OI model')"
   ]
  }
 ],
 "metadata": {
  "language_info": {
   "name": "python",
   "pygments_lexer": "ipython3"
  }
 },
 "nbformat": 4,
 "nbformat_minor": 2
}
