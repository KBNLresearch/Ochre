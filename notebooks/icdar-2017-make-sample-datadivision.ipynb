{
 "cells": [
  {
   "cell_type": "code",
   "execution_count": null,
   "metadata": {},
   "outputs": [],
   "source": [
    "import json\n",
    "\n",
    "datasets = '/home/jvdzwaan/data/icdar2017st/eng_monograph/datadivision.json'\n",
    "data_dir = '/home/jvdzwaan/data/icdar2017st/eng_monograph/aligned/'\n",
    "\n",
    "with open(datasets) as d:\n",
    "    division = json.load(d)\n",
    "    \n",
    "division['val'] = division['val'][:2]\n",
    "division['test'] = division['test'][:2]\n",
    "division['train'] = division['train'][:5]\n",
    "    \n",
    "out_file = '/home/jvdzwaan/data/icdar2017st/eng_monograph/datadivision-sample.json'\n",
    "with open(out_file, 'w') as f:\n",
    "    json.dump(division, f)"
   ]
  },
  {
   "cell_type": "code",
   "execution_count": null,
   "metadata": {},
   "outputs": [],
   "source": [
    "with open(out_file) as d:\n",
    "    division = json.load(d)\n",
    "division"
   ]
  }
 ],
 "metadata": {
  "language_info": {
   "name": "python",
   "pygments_lexer": "ipython3"
  }
 },
 "nbformat": 4,
 "nbformat_minor": 2
}
