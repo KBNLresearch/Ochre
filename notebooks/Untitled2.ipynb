{
 "cells": [
  {
   "cell_type": "code",
   "execution_count": null,
   "metadata": {},
   "outputs": [],
   "source": [
    "%load_ext autoreload\n",
    "%autoreload 2"
   ]
  },
  {
   "cell_type": "code",
   "execution_count": null,
   "metadata": {},
   "outputs": [],
   "source": [
    "import os\n",
    "\n",
    "from nlppln import WorkflowGenerator\n",
    "from nlppln.utils import CWL_PATH\n",
    "\n",
    "with WorkflowGenerator(working_dir='/home/jvdzwaan/cwl-working-dir') as wf:\n",
    "    print(wf.list_steps())\n",
    "\n",
    "    in_dir = wf.add_input(in_dir='Directory')\n",
    "    language = wf.add_input(language='string', default='nl')\n",
    "    out_name = wf.add_input(out_name='string', default='text_stats.csv')\n",
    "    \n",
    "    txt_files = wf.ls(in_dir=in_dir)\n",
    "    saf_files = wf.pattern(in_file=txt_files, scatter='in_file', language=language)\n",
    "    stats = wf.basic_text_statistics(in_files=txt_files, out_name=out_name)\n",
    "    \n",
    "    wf.add_outputs(stats=stats)\n",
    "    \n",
    "    wf.save(mode='wd', fname=os.path.join(CWL_PATH, 'basic-text-statistics-pattern-dir.cwl'))"
   ]
  }
 ],
 "metadata": {
  "language_info": {
   "name": "python",
   "pygments_lexer": "ipython3"
  }
 },
 "nbformat": 4,
 "nbformat_minor": 2
}
