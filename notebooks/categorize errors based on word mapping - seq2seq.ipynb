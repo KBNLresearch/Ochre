{
 "cells": [
  {
   "cell_type": "code",
   "execution_count": null,
   "metadata": {},
   "outputs": [],
   "source": [
    "%load_ext autoreload\n",
    "%autoreload 2"
   ]
  },
  {
   "cell_type": "code",
   "execution_count": null,
   "metadata": {},
   "outputs": [],
   "source": [
    "%matplotlib inline\n",
    "\n",
    "import numpy as np\n",
    "import pandas as pd\n",
    "import matplotlib.pyplot as plt\n",
    "\n",
    "import matplotlib\n",
    "matplotlib.rcParams.update({'font.size': 14})"
   ]
  },
  {
   "cell_type": "code",
   "execution_count": null,
   "metadata": {},
   "outputs": [],
   "source": [
    "#df = pd.read_csv('/home/jvdzwaan/data/dncvu/word_mapping_gs_ocr.csv', index_col=0, encoding='utf-8')\n",
    "#df = pd.read_csv('/home/jvdzwaan/data/dncvu/word_mapping_gs_1x256-bidirect.csv', encoding='utf-8')\n",
    "#df = pd.read_csv('/home/jvdzwaan/data/dncvu/word_mapping_gs_1x256.csv', encoding='utf-8')\n",
    "df2 = pd.read_csv('/home/jvdzwaan/data/dncvu/word_mapping_gs_ocr-lowercase-test-files.csv', encoding='utf-8')\n",
    "df = pd.read_csv('/home/jvdzwaan/data/dncvu/word_mapping_gs_256-seq2seq-lowercase.csv', encoding='utf-8')\n",
    "#df = pd.read_csv('/home/jvdzwaan/data/tmp/wm/BAOku56.csv')\n",
    "print df.shape\n",
    "#print df2.shape\n",
    "df"
   ]
  },
  {
   "cell_type": "code",
   "execution_count": null,
   "metadata": {},
   "outputs": [],
   "source": [
    "from ochre.utils import merge_wordmappings\n",
    "\n",
    "df = merge_wordmappings(df, df2)\n",
    "print df.shape"
   ]
  },
  {
   "cell_type": "code",
   "execution_count": null,
   "metadata": {},
   "outputs": [],
   "source": [
    "df"
   ]
  },
  {
   "cell_type": "code",
   "execution_count": null,
   "metadata": {},
   "outputs": [],
   "source": [
    "df = df.fillna('@@@')"
   ]
  },
  {
   "cell_type": "code",
   "execution_count": null,
   "metadata": {},
   "outputs": [],
   "source": [
    "df[df['gs'] != df['original-ocr']].shape"
   ]
  },
  {
   "cell_type": "code",
   "execution_count": null,
   "metadata": {},
   "outputs": [],
   "source": [
    "def level1_error_classification(row):\n",
    "    if row['original-ocr'] == row['gs'] and row['original-ocr'] == row['corrected-ocr']:\n",
    "        return 'correctly unchanged'\n",
    "    if row['original-ocr'] == row['gs'] and row['corrected-ocr'] != row['gs']:\n",
    "        return 'added mistake'\n",
    "    \n",
    "    if row['original-ocr'] != row['gs'] and row['gs'] == row['corrected-ocr']:\n",
    "        return 'correctly corrected'\n",
    "    if row['original-ocr'] != row['gs'] and row['original-ocr'] == row['corrected-ocr']:\n",
    "        return 'uncorrected mistake'\n",
    "    \n",
    "    if row['original-ocr'] != row['gs'] and row['gs'] != row['corrected-ocr'] and row['original-ocr'] != row['corrected-ocr']:\n",
    "        return 'changed mistake'\n",
    "    \n",
    "    return 'something else'\n",
    "\n",
    "df['level1'] = df.apply(level1_error_classification, axis=1)\n",
    "df"
   ]
  },
  {
   "cell_type": "code",
   "execution_count": null,
   "metadata": {},
   "outputs": [],
   "source": [
    "overview = {}\n",
    "grouped = df.groupby('level1')\n",
    "for gr in grouped:\n",
    "    print gr[0], gr[1].shape\n",
    "    overview[gr[0]] = gr[1].shape[0]\n",
    "overview"
   ]
  },
  {
   "cell_type": "code",
   "execution_count": null,
   "metadata": {},
   "outputs": [],
   "source": [
    "overview['total words'] = sum(overview.values())"
   ]
  },
  {
   "cell_type": "code",
   "execution_count": null,
   "metadata": {},
   "outputs": [],
   "source": [
    "idx = ['total words', 'correctly unchanged', 'correctly corrected', 'uncorrected mistake', 'changed mistake', 'added mistake']"
   ]
  },
  {
   "cell_type": "code",
   "execution_count": null,
   "metadata": {},
   "outputs": [],
   "source": [
    "ov = pd.DataFrame.from_dict(overview, orient='index')\n",
    "ov = ov.reindex(index=idx)\n",
    "ov.columns = ['# words']\n",
    "ov"
   ]
  },
  {
   "cell_type": "code",
   "execution_count": null,
   "metadata": {},
   "outputs": [],
   "source": [
    "ov = ov.iloc[::-1]"
   ]
  },
  {
   "cell_type": "code",
   "execution_count": null,
   "metadata": {},
   "outputs": [],
   "source": [
    "ov.plot.barh(figsize=(15,8), legend=False)"
   ]
  },
  {
   "cell_type": "code",
   "execution_count": null,
   "metadata": {},
   "outputs": [],
   "source": [
    "grouped.get_group('changed mistake')"
   ]
  },
  {
   "cell_type": "code",
   "execution_count": null,
   "metadata": {},
   "outputs": [],
   "source": [
    "grouped.get_group('uncorrected mistake')"
   ]
  },
  {
   "cell_type": "code",
   "execution_count": null,
   "metadata": {},
   "outputs": [],
   "source": [
    "grouped.get_group('added mistake')"
   ]
  },
  {
   "cell_type": "code",
   "execution_count": null,
   "metadata": {},
   "outputs": [],
   "source": [
    "errors = df[df['gs'] != df['corrected-ocr']]\n",
    "errors = errors.fillna(u'@@@')\n",
    "print errors.shape\n",
    "#errors"
   ]
  },
  {
   "cell_type": "code",
   "execution_count": null,
   "metadata": {},
   "outputs": [],
   "source": [
    "errors.columns = [u'gs', u'ocr', u'original-ocr', u'gs2', u'level1']"
   ]
  },
  {
   "cell_type": "code",
   "execution_count": null,
   "metadata": {},
   "outputs": [],
   "source": [
    "import codecs\n",
    "\n",
    "with codecs.open('/home/jvdzwaan/Desktop/BWNT05_3.0.1/BWNT05_v003.txt', 'rb', 'latin1') as f:\n",
    "    lines = f.readlines()\n",
    "\n",
    "terms = []\n",
    "    \n",
    "for line in lines:\n",
    "    entry = line.split(';')\n",
    "    # lexicon service needs lower case input\n",
    "    term = entry[3].lower()\n",
    "    term = term.replace('\"', '')\n",
    "    terms.append(term)\n",
    "\n",
    "print len(terms)\n",
    "terms = set(terms)"
   ]
  },
  {
   "cell_type": "code",
   "execution_count": null,
   "metadata": {},
   "outputs": [],
   "source": [
    "from ochre.ocrerrors import categorize_errors\n",
    "errors = df.query('level1==\"correctly corrected\"')\n",
    "errors = errors.fillna(u'@@@')\n",
    "print errors.shape\n",
    "errors\n",
    "errors = categorize_errors(errors, terms, gs_name='gs', ocr_name='original-ocr')"
   ]
  },
  {
   "cell_type": "code",
   "execution_count": null,
   "metadata": {},
   "outputs": [],
   "source": [
    "errors"
   ]
  },
  {
   "cell_type": "code",
   "execution_count": null,
   "metadata": {},
   "outputs": [],
   "source": [
    "errors.query('error_type==\"multiple\"')"
   ]
  },
  {
   "cell_type": "code",
   "execution_count": null,
   "metadata": {},
   "outputs": [],
   "source": [
    "grouped = errors.groupby(['error_type', 'level1'])"
   ]
  },
  {
   "cell_type": "code",
   "execution_count": null,
   "metadata": {},
   "outputs": [],
   "source": [
    "grouped.count().plot(kind='barh', legend=False)"
   ]
  },
  {
   "cell_type": "code",
   "execution_count": null,
   "metadata": {},
   "outputs": [],
   "source": [
    "cor = {}\n",
    "for names, data in grouped:\n",
    "    print names, data.shape[0]\n",
    "    cor[names[0]] = data.shape[0]"
   ]
  },
  {
   "cell_type": "code",
   "execution_count": null,
   "metadata": {},
   "outputs": [],
   "source": [
    "cor"
   ]
  },
  {
   "cell_type": "code",
   "execution_count": null,
   "metadata": {},
   "outputs": [],
   "source": [
    "corr = pd.DataFrame.from_dict(cor, orient='index')\n",
    "corr = corr.reindex(index=['hyphenation', 'hyphenation2', 'punctuation', 'missing_punctuation', \n",
    "                         'whitespace', 'real_word', 'other'])\n",
    "corr.columns = ['# words']\n",
    "corr"
   ]
  },
  {
   "cell_type": "code",
   "execution_count": null,
   "metadata": {},
   "outputs": [],
   "source": [
    "corr.plot.barh()"
   ]
  },
  {
   "cell_type": "code",
   "execution_count": null,
   "metadata": {},
   "outputs": [],
   "source": [
    "errors = df.query('level1==\"changed mistake\" or level1==\"added mistake\" or level1==\"uncorrected mistake\"')\n",
    "errors = errors.fillna(u'@@@')\n",
    "print errors.shape\n",
    "errors = categorize_errors(errors, terms, gs_name='gs', ocr_name='corrected-ocr')"
   ]
  },
  {
   "cell_type": "code",
   "execution_count": null,
   "metadata": {},
   "outputs": [],
   "source": [
    "errors"
   ]
  },
  {
   "cell_type": "code",
   "execution_count": null,
   "metadata": {},
   "outputs": [],
   "source": [
    "grouped = errors.groupby(['error_type', 'level1'])\n",
    "cor2 = {}\n",
    "for names, data in grouped:\n",
    "    print names, data.shape[0]\n",
    "    if not names[1] in cor2.keys():\n",
    "        cor2[names[1]] = {}\n",
    "    cor2[names[1]][names[0]] = data.shape[0]\n",
    "cor2['correctly corrected'] = cor"
   ]
  },
  {
   "cell_type": "code",
   "execution_count": null,
   "metadata": {},
   "outputs": [],
   "source": [
    "cor2"
   ]
  },
  {
   "cell_type": "code",
   "execution_count": null,
   "metadata": {},
   "outputs": [],
   "source": [
    "res = pd.DataFrame(cor2)\n",
    "res = res.fillna(0)\n",
    "res = res.T\n",
    "res"
   ]
  },
  {
   "cell_type": "code",
   "execution_count": null,
   "metadata": {},
   "outputs": [],
   "source": [
    "error_order = ['added mistake', 'changed mistake', 'uncorrected mistake', 'correctly corrected']\n",
    "res[['hyphenation', 'hyphenation2', 'punctuation', 'missing_punctuation',\n",
    "     'missing_word', 'number', 'whitespace', 'accent', 'real_word', 'other']].loc[error_order].plot.barh(figsize=(15,8), stacked=True)"
   ]
  },
  {
   "cell_type": "code",
   "execution_count": null,
   "metadata": {},
   "outputs": [],
   "source": [
    "errors.query('level1 == \"uncorrected mistake\" and error_type==\"other\"')"
   ]
  },
  {
   "cell_type": "code",
   "execution_count": null,
   "metadata": {},
   "outputs": [],
   "source": [
    "errors.query('level1 == \"added mistake\" and error_type==\"real_word\"').loc[[55, 75, 262, 88, 62]]"
   ]
  },
  {
   "cell_type": "code",
   "execution_count": null,
   "metadata": {},
   "outputs": [],
   "source": [
    "from ochre.ocrerrors import categorize_errors\n",
    "corrected = df.query('level1 == \"correctly corrected\"')\n",
    "\n",
    "c = categorize_errors(corrected, terms, gs_name='gs', ocr_name='original-ocr')"
   ]
  },
  {
   "cell_type": "code",
   "execution_count": null,
   "metadata": {},
   "outputs": [],
   "source": [
    "c[['hyphenation', 'hyphenation2', 'case', 'punctuation', 'missing_punctuation', 'missing_word', 'number', 'whitespace',\n",
    " 'accent', 'real_word', 'other']].sum().plot.barh(stacked=True, figsize=(15,7))"
   ]
  },
  {
   "cell_type": "code",
   "execution_count": null,
   "metadata": {},
   "outputs": [],
   "source": [
    "c[['hyphenation', 'hyphenation2', 'case', 'punctuation', 'missing_punctuation', 'missing_word', 'number', 'whitespace',\n",
    " 'accent', 'real_word', 'other']].sum()"
   ]
  },
  {
   "cell_type": "code",
   "execution_count": null,
   "metadata": {},
   "outputs": [],
   "source": [
    "c.query('other==True')"
   ]
  },
  {
   "cell_type": "code",
   "execution_count": null,
   "metadata": {},
   "outputs": [],
   "source": []
  },
  {
   "cell_type": "code",
   "execution_count": null,
   "metadata": {},
   "outputs": [],
   "source": [
    "# hoeveel verfouterd? ocr != gs en original-ocr == gs\n",
    "errors = df[df['gs'] != df['ocr']]\n",
    "errors = errors[errors['original-ocr'] == errors['gs']]\n",
    "errors = errors.fillna(u'@@@')\n",
    "print errors.shape\n",
    "errors"
   ]
  },
  {
   "cell_type": "code",
   "execution_count": null,
   "metadata": {},
   "outputs": [],
   "source": [
    "for err_name, err_function in err_types.items():\n",
    "    if err_name == 'real_word':\n",
    "        e[err_name] = num_errors(errors, err_function, args=(terms,))\n",
    "        errors = remove_errors(errors, err_function, args=(terms,))\n",
    "    else:\n",
    "        e[err_name] = num_errors(errors, err_function)\n",
    "        errors = remove_errors(errors, err_function)\n",
    "e['other'] = errors.shape[0]"
   ]
  },
  {
   "cell_type": "code",
   "execution_count": null,
   "metadata": {},
   "outputs": [],
   "source": [
    "print e"
   ]
  },
  {
   "cell_type": "code",
   "execution_count": null,
   "metadata": {},
   "outputs": [],
   "source": [
    "result = pd.DataFrame(e.items(), columns=['name','value'])\n",
    "result = result.set_index('name')\n",
    "result.columns = ['number']\n",
    "result.plot.bar(y='number')"
   ]
  }
 ],
 "metadata": {
  "language_info": {
   "name": "python",
   "pygments_lexer": "ipython3"
  }
 },
 "nbformat": 4,
 "nbformat_minor": 2
}
