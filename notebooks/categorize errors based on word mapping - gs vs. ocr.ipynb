{
 "cells": [
  {
   "cell_type": "code",
   "execution_count": null,
   "metadata": {},
   "outputs": [],
   "source": [
    "%load_ext autoreload\n",
    "%autoreload 2"
   ]
  },
  {
   "cell_type": "code",
   "execution_count": null,
   "metadata": {},
   "outputs": [],
   "source": [
    "%matplotlib inline\n",
    "\n",
    "import numpy as np\n",
    "import pandas as pd\n",
    "import matplotlib.pyplot as plt"
   ]
  },
  {
   "cell_type": "code",
   "execution_count": null,
   "metadata": {},
   "outputs": [],
   "source": [
    "#df = pd.read_csv('/home/jvdzwaan/data/dncvu/word_mapping_gs_ocr.csv', index_col=0, encoding='utf-8')\n",
    "#df = pd.read_csv('/home/jvdzwaan/data/dncvu/word_mapping_gs_1x256-bidirect.csv', encoding='utf-8')\n",
    "#df = pd.read_csv('/home/jvdzwaan/data/dncvu/word_mapping_gs_1x256.csv', encoding='utf-8')\n",
    "df = pd.read_csv('/home/jvdzwaan/data/dncvu/word_mapping_gs_ocr-test-lowercase.csv', encoding='utf-8')\n",
    "#df = pd.read_csv('/home/jvdzwaan/data/dncvu/word_mapping_gs_256-seq2seq-lowercase.csv', encoding='utf-8')\n",
    "#df = pd.read_csv('/home/jvdzwaan/data/tmp/wm/BAOku56.csv')\n",
    "print df.shape\n",
    "df"
   ]
  },
  {
   "cell_type": "code",
   "execution_count": null,
   "metadata": {},
   "outputs": [],
   "source": [
    "df[df['gs'] != df['ocr']].shape"
   ]
  },
  {
   "cell_type": "code",
   "execution_count": null,
   "metadata": {},
   "outputs": [],
   "source": [
    "errors = df[df['gs'] != df['ocr']]\n",
    "errors = errors.fillna(u'@@@')\n",
    "print errors.shape\n",
    "#errors"
   ]
  },
  {
   "cell_type": "code",
   "execution_count": null,
   "metadata": {},
   "outputs": [],
   "source": [
    "errors"
   ]
  },
  {
   "cell_type": "code",
   "execution_count": null,
   "metadata": {},
   "outputs": [],
   "source": [
    "from ochre.ocrerrors import hyphenation_error, hyphenation_error2, case_error, punctuation_mark_error, \\\n",
    "                            number_error, whitespace_error, accent_error, missing_word_error, num_errors, remove_errors\n",
    "\n",
    "e = {}\n",
    "e['hyphenation'] = num_errors(errors, hyphenation_error)\n",
    "errors = remove_errors(errors, hyphenation_error)\n",
    "print e"
   ]
  },
  {
   "cell_type": "code",
   "execution_count": null,
   "metadata": {},
   "outputs": [],
   "source": [
    "def hyphenation_error(row):\n",
    "    #ocr = 'gesta- tionneerd'\n",
    "    #gs = 'gestationneerd'\n",
    "    gs = row['gs']\n",
    "    ocr = row['ocr']\n",
    "    \n",
    "    #print type(ocr)\n",
    "    #print type(gs)\n",
    "    \n",
    "    if ocr.replace(u'- ', u'') == gs:\n",
    "        return True\n",
    "    return False\n",
    "\n",
    "#print errors[errors.apply(hyphenation_error, axis=1)]\n",
    "errors[errors.apply(hyphenation_error, axis=1)].shape"
   ]
  },
  {
   "cell_type": "code",
   "execution_count": null,
   "metadata": {},
   "outputs": [],
   "source": [
    "e = {}\n",
    "e['hyphenation'] = errors[errors.apply(hyphenation_error, axis=1)].shape[0]\n",
    "e"
   ]
  },
  {
   "cell_type": "code",
   "execution_count": null,
   "metadata": {},
   "outputs": [],
   "source": [
    "errors = errors[errors.apply(hyphenation_error, axis=1) == False]\n",
    "errors.shape"
   ]
  },
  {
   "cell_type": "code",
   "execution_count": null,
   "metadata": {},
   "outputs": [],
   "source": [
    "def hyphenation_error2(row):\n",
    "    #ocr = 'gesta-tionneerd'\n",
    "    #gs = 'gestationneerd'\n",
    "    gs = row['gs']\n",
    "    ocr = row['ocr']\n",
    "    \n",
    "    #print type(ocr)\n",
    "    #print type(gs)\n",
    "    \n",
    "    if ocr.replace(u'-', u'') == gs:\n",
    "        return True\n",
    "    return False\n",
    "\n",
    "s = errors[errors.apply(hyphenation_error2, axis=1)].shape\n",
    "print s\n",
    "e['hyphenation2'] = s[0]"
   ]
  },
  {
   "cell_type": "code",
   "execution_count": null,
   "metadata": {},
   "outputs": [],
   "source": [
    "errors = errors[errors.apply(hyphenation_error2, axis=1) == False]\n",
    "errors.shape"
   ]
  },
  {
   "cell_type": "code",
   "execution_count": null,
   "metadata": {},
   "outputs": [],
   "source": [
    "def uppercase_error(row):\n",
    "    #ocr = 'Woor'\n",
    "    #gs = 'WOORD'\n",
    "    gs = row['gs']\n",
    "    ocr = row['ocr']\n",
    "    \n",
    "    #print type(ocr)\n",
    "    #print type(gs)\n",
    "    \n",
    "    if ocr.lower() == gs.lower():\n",
    "        return True\n",
    "    return False\n",
    "s = errors[errors.apply(uppercase_error, axis=1)].shape\n",
    "print s\n",
    "e['case'] = s[0]"
   ]
  },
  {
   "cell_type": "code",
   "execution_count": null,
   "metadata": {},
   "outputs": [],
   "source": [
    "errors = errors[errors.apply(uppercase_error, axis=1)==False]\n",
    "print errors.shape"
   ]
  },
  {
   "cell_type": "code",
   "execution_count": null,
   "metadata": {},
   "outputs": [],
   "source": [
    "from string import punctuation\n",
    "\n",
    "def punctuation_error(row):\n",
    "    #ocr = '.'\n",
    "    #gs = ','\n",
    "    gs = row['gs']\n",
    "    ocr = row['ocr']\n",
    "    \n",
    "    #print type(ocr)\n",
    "    #print type(gs)\n",
    "    \n",
    "    if ocr in punctuation and gs in punctuation:\n",
    "        return True\n",
    "    return False\n",
    "s = errors[errors.apply(punctuation_error, axis=1)].shape\n",
    "print s\n",
    "e['punctuation'] = s[0]\n",
    "#print errors"
   ]
  },
  {
   "cell_type": "code",
   "execution_count": null,
   "metadata": {},
   "outputs": [],
   "source": [
    "errors = errors[errors.apply(punctuation_error, axis=1)==False]\n",
    "print errors.shape"
   ]
  },
  {
   "cell_type": "code",
   "execution_count": null,
   "metadata": {},
   "outputs": [],
   "source": [
    "def missing_punctuation_error(row):\n",
    "    #ocr = ''\n",
    "    #gs = ','\n",
    "    gs = row['gs']\n",
    "    ocr = row['ocr']\n",
    "    \n",
    "    #print type(ocr)\n",
    "    #print type(gs)\n",
    "    \n",
    "    if gs in punctuation and ocr == u'@@@':\n",
    "        return True\n",
    "    return False\n",
    "s = errors[errors.apply(missing_punctuation_error, axis=1)].shape\n",
    "print s\n",
    "e['missing_punctuation'] = s[0]"
   ]
  },
  {
   "cell_type": "code",
   "execution_count": null,
   "metadata": {},
   "outputs": [],
   "source": [
    "errors = errors[errors.apply(missing_punctuation_error, axis=1)==False]\n",
    "print errors.shape"
   ]
  },
  {
   "cell_type": "code",
   "execution_count": null,
   "metadata": {},
   "outputs": [],
   "source": [
    "def missing_word_error(row):\n",
    "    #ocr = ''\n",
    "    #gs = ','\n",
    "    gs = row['gs']\n",
    "    ocr = row['ocr']\n",
    "    \n",
    "    #print type(ocr)\n",
    "    #print type(gs)\n",
    "    \n",
    "    if ocr == u'@@@':\n",
    "        #print gs\n",
    "        return True\n",
    "    return False\n",
    "s = errors[errors.apply(missing_word_error, axis=1)].shape\n",
    "print s\n",
    "e['missing word'] = s[0]"
   ]
  },
  {
   "cell_type": "code",
   "execution_count": null,
   "metadata": {},
   "outputs": [],
   "source": [
    "errors = errors[errors.apply(missing_word_error, axis=1)==False]\n",
    "print errors.shape"
   ]
  },
  {
   "cell_type": "code",
   "execution_count": null,
   "metadata": {},
   "outputs": [],
   "source": [
    "def number_error(row):\n",
    "    #ocr = '64-jarige'\n",
    "    #gs = '-jarig'\n",
    "    gs = row['gs']\n",
    "    ocr = row['ocr']\n",
    "    \n",
    "    #print type(ocr)\n",
    "    #print type(gs)\n",
    "    \n",
    "    if filter(lambda x: not x.isdigit(), ocr) == filter(lambda x: not x.isdigit(), gs):\n",
    "        return True\n",
    "    return False\n",
    "#number_error('bla')\n",
    "s = errors[errors.apply(number_error, axis=1)].shape\n",
    "print s\n",
    "e['number'] = s[0]"
   ]
  },
  {
   "cell_type": "code",
   "execution_count": null,
   "metadata": {},
   "outputs": [],
   "source": [
    "errors = errors[errors.apply(number_error, axis=1)==False]\n",
    "print errors.shape"
   ]
  },
  {
   "cell_type": "code",
   "execution_count": null,
   "metadata": {},
   "outputs": [],
   "source": [
    "def whitespace_error(row):\n",
    "    #ocr = 'Wo or'\n",
    "    #gs = 'WOORD'\n",
    "    gs = row['gs']\n",
    "    ocr = row['ocr']\n",
    "    \n",
    "    #print type(ocr)\n",
    "    #print type(gs)\n",
    "    \n",
    "    if u''.join(ocr.split()) == u''.join(gs.split()):\n",
    "        return True\n",
    "    return False\n",
    "s = errors[errors.apply(whitespace_error, axis=1)].shape\n",
    "print s\n",
    "e['whitespace'] = s[0]"
   ]
  },
  {
   "cell_type": "code",
   "execution_count": null,
   "metadata": {},
   "outputs": [],
   "source": [
    "errors = errors[errors.apply(whitespace_error, axis=1)==False]\n",
    "s = errors.shape\n",
    "#e['other'] = s[0]"
   ]
  },
  {
   "cell_type": "code",
   "execution_count": null,
   "metadata": {},
   "outputs": [],
   "source": [
    "import unicodedata\n",
    "\n",
    "def accent_error(row):\n",
    "    #gs = u'décors'\n",
    "    #ocr = u'decors'\n",
    "    \n",
    "    gs = row['gs']\n",
    "    ocr = row['ocr']\n",
    "    \n",
    "    no_accents = ''.join((c for c in unicodedata.normalize('NFD', gs) if unicodedata.category(c) != 'Mn'))\n",
    "    if no_accents == ocr:\n",
    "        return True\n",
    "    return False\n",
    "\n",
    "s = errors[errors.apply(accent_error, axis=1)].shape\n",
    "e['accent'] = s[0]"
   ]
  },
  {
   "cell_type": "code",
   "execution_count": null,
   "metadata": {},
   "outputs": [],
   "source": [
    "errors = errors[errors.apply(accent_error, axis=1)==False]"
   ]
  },
  {
   "cell_type": "code",
   "execution_count": null,
   "metadata": {},
   "outputs": [],
   "source": [
    "s = errors.shape\n",
    "e['other'] = s[0]"
   ]
  },
  {
   "cell_type": "code",
   "execution_count": null,
   "metadata": {},
   "outputs": [],
   "source": [
    "df = pd.DataFrame(e.items(), columns=['name','value'])\n",
    "df = df.set_index('name')\n",
    "df.columns = ['number']\n",
    "df\n",
    "df.plot.pie(y='number', figsize=(10,10))"
   ]
  },
  {
   "cell_type": "code",
   "execution_count": null,
   "metadata": {},
   "outputs": [],
   "source": [
    "df"
   ]
  },
  {
   "cell_type": "code",
   "execution_count": null,
   "metadata": {},
   "outputs": [],
   "source": [
    "gr = errors.groupby('gs')\n",
    "gr2 = errors.groupby('ocr')\n",
    "print len(errors.groupby('gs').groups)\n",
    "print len(errors.groupby('ocr').groups)"
   ]
  },
  {
   "cell_type": "code",
   "execution_count": null,
   "metadata": {},
   "outputs": [],
   "source": [
    "single = []\n",
    "\n",
    "for g in gr2.groups:\n",
    "    d = gr2.get_group(g)\n",
    "    if len(d) == 1:\n",
    "        single.append((g, d['gs'].values[0]))\n",
    "    else:\n",
    "        #print g\n",
    "        words = d['gs'].unique()\n",
    "        #for w in words:\n",
    "        #    print w, align(g, w)\n",
    "        print g, ':', u'\\t'.join(words), len(d['gs'])\n",
    "        #print\n",
    "        #pass\n",
    "print len(single)"
   ]
  },
  {
   "cell_type": "code",
   "execution_count": null,
   "metadata": {},
   "outputs": [],
   "source": [
    "import edlib\n",
    "import unicodedata\n",
    "from ochre.char_align import align_characters\n",
    "\n",
    "def align_output_to_input(input_str, output_str, empty_char=u'@'):\n",
    "    #print type(input_str)\n",
    "    #print type(output_str)\n",
    "    #print\n",
    "    # remove accented and other special characters, because edlib doesn't like them (this might be a python 2 problem)\n",
    "    #print output_str.encode('ASCII', 'replace')\n",
    "    #print input_str.encode('ASCII', 'replace')\n",
    "    t_output_str = output_str.encode('ASCII', 'replace')\n",
    "    t_input_str = input_str.encode('ASCII', 'replace')\n",
    "    #print t_output_str, len(t_output_str)\n",
    "    #print t_input_str, len(t_input_str)\n",
    "    #print\n",
    "    try:\n",
    "        r = edlib.align(t_input_str, t_output_str, task='path')\n",
    "    except:\n",
    "        print input_str\n",
    "        print output_str\n",
    "    r1, r2 = align_characters(input_str, output_str, r.get('cigar'), empty_char=empty_char, sanity_check=False)\n",
    "    #print r1\n",
    "    #print r2\n",
    "    #print \n",
    "    #print u''.join(r1)\n",
    "    #print u''.join(r2)\n",
    "    #print \n",
    "    #print len(r2)\n",
    "    #print len(r1)\n",
    "    while len(r2) < len(input_str):\n",
    "        r2.append(empty_char)\n",
    "    return u''.join(r2)\n",
    "\n",
    "def align(input_str, output_str):\n",
    "    t_output_str = output_str.encode('ASCII', 'replace')\n",
    "    t_input_str = input_str.encode('ASCII', 'replace')\n",
    "    #print t_output_str, len(t_output_str)\n",
    "    #print t_input_str, len(t_input_str)\n",
    "    #print\n",
    "    try:\n",
    "        r = edlib.align(t_input_str, t_output_str, task='path')\n",
    "    except:\n",
    "        print input_str\n",
    "        print output_str\n",
    "    return r"
   ]
  },
  {
   "cell_type": "code",
   "execution_count": null,
   "metadata": {},
   "outputs": [],
   "source": [
    "single = []\n",
    "\n",
    "for g in gr.groups:\n",
    "    d = gr.get_group(g)\n",
    "    if len(d) == 1:\n",
    "        single.append((g, d['ocr'].values[0], d['original-ocr'].values[0]))\n",
    "    else:\n",
    "        #print g\n",
    "        words = d['ocr'].unique()\n",
    "        #for w in words:\n",
    "        #    print w, align(g, w)\n",
    "        print g, ':', u'\\t'.join(d['ocr'].unique())\n",
    "        #print\n",
    "        #pass\n",
    "print len(single)"
   ]
  },
  {
   "cell_type": "code",
   "execution_count": null,
   "metadata": {},
   "outputs": [],
   "source": [
    "e['single'] = len(single)"
   ]
  },
  {
   "cell_type": "code",
   "execution_count": null,
   "metadata": {},
   "outputs": [],
   "source": [
    "e['other'] = e['other'] - e['single']"
   ]
  },
  {
   "cell_type": "code",
   "execution_count": null,
   "metadata": {},
   "outputs": [],
   "source": [
    "df = pd.DataFrame(e.items(), columns=['name','number'])\n",
    "df = df.set_index('name')\n",
    "df\n",
    "df.plot.pie(y='number', figsize=(10,10))"
   ]
  },
  {
   "cell_type": "code",
   "execution_count": null,
   "metadata": {},
   "outputs": [],
   "source": [
    "for (g, o, oo) in single:\n",
    "    print g, o, oo"
   ]
  },
  {
   "cell_type": "code",
   "execution_count": null,
   "metadata": {},
   "outputs": [],
   "source": [
    "errors[errors['ocr']==errors['original-ocr']]"
   ]
  },
  {
   "cell_type": "code",
   "execution_count": null,
   "metadata": {},
   "outputs": [],
   "source": [
    "# hoeveel verbeterd? ocr != original-ocr en ocr == gs en gs != orginal-ocr\n",
    "errors\n",
    "#d = errors[errors['ocr']!=errors['original-ocr']]\n",
    "#d[d['ocr'] == d['gs']]\n",
    "#d"
   ]
  },
  {
   "cell_type": "code",
   "execution_count": null,
   "metadata": {},
   "outputs": [],
   "source": [
    "# hoeveel verfouterd? ocr != gs en original-ocr == gs"
   ]
  }
 ],
 "metadata": {
  "language_info": {
   "name": "python",
   "pygments_lexer": "ipython3"
  }
 },
 "nbformat": 4,
 "nbformat_minor": 2
}
