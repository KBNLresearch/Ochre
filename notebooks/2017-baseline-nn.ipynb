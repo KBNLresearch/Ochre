{
 "cells": [
  {
   "cell_type": "code",
   "execution_count": null,
   "metadata": {},
   "outputs": [],
   "source": [
    "%load_ext autoreload\n",
    "%autoreload 2"
   ]
  },
  {
   "cell_type": "code",
   "execution_count": null,
   "metadata": {},
   "outputs": [],
   "source": [
    "%matplotlib inline\n",
    "\n",
    "import numpy as np\n",
    "import pandas as pd\n",
    "import matplotlib.pyplot as plt"
   ]
  },
  {
   "cell_type": "code",
   "execution_count": null,
   "metadata": {},
   "outputs": [],
   "source": [
    "import pickle\n",
    "\n",
    "seq_length = 53\n",
    "\n",
    "with open('train.pkl', 'rb') as f:\n",
    "    gs_selected_train, ocr_selected_train = pickle.load(f)\n",
    "    \n",
    "with open('val.pkl', 'rb') as f:\n",
    "    gs_selected_val, ocr_selected_val = pickle.load(f)\n",
    "    \n",
    "with open('ci.pkl', 'rb') as f:\n",
    "    ci = pickle.load(f)"
   ]
  },
  {
   "cell_type": "code",
   "execution_count": null,
   "metadata": {},
   "outputs": [],
   "source": [
    "gs_selected_train[:50]"
   ]
  },
  {
   "cell_type": "code",
   "execution_count": null,
   "metadata": {},
   "outputs": [],
   "source": [
    "from ochre.datagen import DataGenerator\n",
    "\n",
    "dg_val = DataGenerator(xData=ocr_selected_val[:10], yData=gs_selected_val[:10], char_to_int=ci,\n",
    "                       seq_length=seq_length, padding_char='\\n', oov_char='@',\n",
    "                       batch_size=10, shuffle=False)\n",
    "dg_train = DataGenerator(xData=ocr_selected_train[:50], yData=gs_selected_train[:50], char_to_int=ci,\n",
    "                       seq_length=seq_length, padding_char='\\n', oov_char='@',\n",
    "                       batch_size=10, shuffle=False)"
   ]
  },
  {
   "cell_type": "code",
   "execution_count": null,
   "metadata": {},
   "outputs": [],
   "source": [
    "from keras.models import Sequential\n",
    "from keras.layers import Dense\n",
    "from keras.layers import Dropout\n",
    "from keras.layers import LSTM\n",
    "from keras.layers import TimeDistributed\n",
    "from keras.layers import Bidirectional\n",
    "from keras.layers import RepeatVector\n",
    "from keras.layers import Embedding\n",
    "from keras.callbacks import ModelCheckpoint\n",
    "\n",
    "n_nodes = 1000\n",
    "dropout = 0.2\n",
    "n_embed = 256\n",
    "n_vocab = len(ci)\n",
    "\n",
    "loss='categorical_crossentropy'\n",
    "optimizer='adam'\n",
    "metrics=['accuracy']\n",
    "\n",
    "model = Sequential()\n",
    "\n",
    "# encoder\n",
    "\n",
    "model.add(Embedding(n_vocab, n_embed, input_length=seq_length))\n",
    "model.add(LSTM(n_nodes, input_shape=(seq_length, n_vocab)))\n",
    "# For the decoder's input, we repeat the encoded input for each time step\n",
    "model.add(RepeatVector(seq_length))\n",
    "model.add(LSTM(n_nodes, return_sequences=True))\n",
    "\n",
    "# For each of step of the output sequence, decide which character should be\n",
    "# chosen\n",
    "model.add(TimeDistributed(Dense(n_vocab, activation='softmax')))\n",
    "model.compile(loss=loss, optimizer=optimizer, metrics=metrics)"
   ]
  },
  {
   "cell_type": "code",
   "execution_count": null,
   "metadata": {},
   "outputs": [],
   "source": [
    "# initialize saving of weights\n",
    "#filepath = os.path.join(weights_dir, '{loss:.4f}-{epoch:02d}.hdf5')\n",
    "filepath = '{loss:.4f}-{epoch:02d}.hdf5'\n",
    "checkpoint = ModelCheckpoint(filepath, monitor='loss', verbose=1,\n",
    "                                 save_best_only=True, mode='min')\n",
    "callbacks_list = [checkpoint]\n",
    "\n",
    "# do training (and save weights)\n",
    "model.fit_generator(dg_train, steps_per_epoch=len(dg_train), epochs=10, \n",
    "                    validation_data=dg_val, \n",
    "                    validation_steps=len(dg_val), callbacks=callbacks_list,\n",
    "                    use_multiprocessing=True,\n",
    "                    workers=3)"
   ]
  }
 ],
 "metadata": {
  "language_info": {
   "name": "python",
   "pygments_lexer": "ipython3"
  }
 },
 "nbformat": 4,
 "nbformat_minor": 2
}
