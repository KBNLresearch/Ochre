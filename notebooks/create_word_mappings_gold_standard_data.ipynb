{
 "cells": [
  {
   "cell_type": "code",
   "execution_count": null,
   "metadata": {},
   "outputs": [],
   "source": [
    "%load_ext autoreload\n",
    "%autoreload 2"
   ]
  },
  {
   "cell_type": "code",
   "execution_count": null,
   "metadata": {},
   "outputs": [],
   "source": [
    "%matplotlib inline\n",
    "\n",
    "import numpy as np\n",
    "import pandas as pd\n",
    "import matplotlib.pyplot as plt\n",
    "\n",
    "from tqdm import tqdm_notebook as tqdm"
   ]
  },
  {
   "cell_type": "code",
   "execution_count": null,
   "metadata": {},
   "outputs": [],
   "source": [
    "# non-word errors\n",
    "# lexicon -> INL?\n",
    "# word boundary: space in both gs and ocr, probleem: punctuation"
   ]
  },
  {
   "cell_type": "code",
   "execution_count": null,
   "metadata": {},
   "outputs": [],
   "source": [
    "lexicon = pd.read_csv('/home/jvdzwaan/code/ticclat/explore/notebooks/ingest/INL_lexicon.csv')\n",
    "lexicon.head()"
   ]
  },
  {
   "cell_type": "code",
   "execution_count": null,
   "metadata": {},
   "outputs": [],
   "source": [
    "from pattern.nl import parsetree\n",
    "\n",
    "def parse(text, parsetree):\n",
    "    tokens = []\n",
    "    p = parsetree(text,\n",
    "                  tokenize=True,     # Split punctuation marks from words?\n",
    "                  tags=True,         # Parse part-of-speech tags? (NN, JJ, ...)\n",
    "                  chunks=False,      # Parse chunks? (NP, VP, PNP, ...)\n",
    "                  relations=False,   # Parse chunk relations? (-SBJ, -OBJ, ...)\n",
    "                  lemmata=True,      # Parse lemmata? (ate => eat)\n",
    "                  encoding='utf-8',  # Input string encoding.\n",
    "                  tagset=None)       # Penn Treebank II (default) or UNIVERSAL.\n",
    "    for sentence_id, sentence in enumerate(p):\n",
    "        for word_id, word in enumerate(sentence):\n",
    "            tokens.append({'id': word_id,\n",
    "                           'word': word.string,\n",
    "                           'lemma': word.lemma,\n",
    "                           'sentence': sentence_id,\n",
    "                           'pos': word.type})\n",
    "    return tokens"
   ]
  },
  {
   "cell_type": "code",
   "execution_count": null,
   "metadata": {},
   "outputs": [],
   "source": [
    "import json\n",
    "\n",
    "gs_file = '/home/jvdzwaan/data/kb-ocr/text_aligned_blocks-match_gs/gs/DDD_000012234_001.txt'\n",
    "ocr_file = '/home/jvdzwaan/data/kb-ocr/text_aligned_blocks-match_gs/ocr/DDD_000012234_001.txt'\n",
    "aligned_file = '/home/jvdzwaan/data/kb-ocr/text_aligned_blocks-match_gs/aligned/DDD_000012234_001.json'\n",
    "\n",
    "with open(aligned_file) as f:\n",
    "    alignment_data = json.load(f)\n",
    "aligned_gs = alignment_data['gs']\n",
    "aligned_ocr = alignment_data['ocr']"
   ]
  },
  {
   "cell_type": "code",
   "execution_count": null,
   "metadata": {},
   "outputs": [],
   "source": [
    "with open(gs_file) as f:\n",
    "    text = f.read()\n",
    "tokens = parse(text, parsetree)"
   ]
  },
  {
   "cell_type": "code",
   "execution_count": null,
   "metadata": {},
   "outputs": [],
   "source": [
    "from ochre.create_word_mappings import find_word_boundaries\n",
    "\n",
    "from nlppln.utils import remove_ext, create_dirs, out_file_name\n",
    "\n",
    "def create_word_mapping(tokens, aligned_gs, aligned_ocr):\n",
    "    words = [w['word'] for w in tokens]\n",
    "    #print(words)\n",
    "    wb = find_word_boundaries(words, aligned_gs)\n",
    "\n",
    "    res = {'gs': [], 'ocr': []}\n",
    "    for s, e in wb:\n",
    "        w1 = u''.join(aligned_gs[s:e])\n",
    "        w2 = u''.join(aligned_ocr[s:e])\n",
    "\n",
    "        res['gs'].append(w1.strip())\n",
    "        res['ocr'].append(w2.strip())\n",
    "\n",
    "    # Use pandas DataFrame to create the csv, so commas and quotes are properly\n",
    "    # escaped.\n",
    "    df = pd.DataFrame(res)\n",
    "    df.index.names = ['word_index']\n",
    "    \n",
    "    return df\n",
    "    \n",
    "df = create_word_mapping(tokens, aligned_gs, aligned_ocr)\n",
    "df.head()"
   ]
  },
  {
   "cell_type": "code",
   "execution_count": null,
   "metadata": {},
   "outputs": [],
   "source": [
    "import os\n",
    "\n",
    "from nlppln.utils import get_files\n",
    "\n",
    "def word_mappings_directory(in_dir):\n",
    "    out_dir = os.path.join(in_dir, 'word-mappings')\n",
    "\n",
    "    gs_dir = os.path.join(in_dir, 'gs')\n",
    "    ocr_dir = os.path.join(in_dir, 'ocr')\n",
    "    aligned_dir = os.path.join(in_dir, 'aligned')\n",
    "\n",
    "    gs_files = get_files(gs_dir)\n",
    "    ocr_files = get_files(ocr_dir)\n",
    "    aligned_files = get_files(aligned_dir)\n",
    "\n",
    "    for gs_file, ocr_file, aligned_file in tqdm(zip(*(gs_files, ocr_files, aligned_files)), total=len(gs_files)):\n",
    "        #print(gs_file)\n",
    "        #print(ocr_file)\n",
    "        #print(aligned_file)\n",
    "        with open(aligned_file) as f:\n",
    "            alignment_data = json.load(f)\n",
    "    \n",
    "        aligned_gs = alignment_data['gs']\n",
    "        aligned_ocr = alignment_data['ocr']\n",
    "    \n",
    "        #print(''.join(aligned_ocr))\n",
    "    \n",
    "        with open(gs_file) as f:\n",
    "            text = f.read()\n",
    "        tokens = parse(text, parsetree)\n",
    "        #print(tokens)\n",
    "    \n",
    "        df = create_word_mapping(tokens, aligned_gs, aligned_ocr)\n",
    "        \n",
    "        doc_id = remove_ext(aligned_file)\n",
    "        #print(doc_id)\n",
    "    \n",
    "        out_file = out_file_name(out_dir, doc_id, ext='csv')\n",
    "        print(out_file)\n",
    "        create_dirs(out_file, is_file=True)\n",
    "        #df[['gs', 'ocr']].to_csv(out_file)\n",
    "        #print()\n",
    "        #break\n",
    "\n",
    "in_dir = '/home/jvdzwaan/data/kb-ocr/text_aligned_blocks-match_gs'\n",
    "#in_dir = '/home/jvdzwaan/data/icdar2019pocr-nl/'\n",
    "\n",
    "word_mappings_directory(in_dir)"
   ]
  },
  {
   "cell_type": "code",
   "execution_count": null,
   "metadata": {},
   "outputs": [],
   "source": [
    "import os\n",
    "import glob\n",
    "\n",
    "from nlppln.utils import create_dirs, get_files\n",
    "\n",
    "from nlppln.commands.normalize_whitespace_punctuation import normalize_whitespace, normalize_punctuation\n",
    "\n",
    "from ochre.utils import align_characters\n",
    "\n",
    "def align_and_word_mappings_directory(in_dir, out_dir, pred, gs='gs'):\n",
    "    create_dirs(out_dir)\n",
    "\n",
    "    gs_dir = os.path.join(in_dir, 'gs')\n",
    "    pred_dir = os.path.join(in_dir, pred)\n",
    "\n",
    "    pred_files = get_files(pred_dir)\n",
    "\n",
    "    for pred_file in tqdm(pred_files):\n",
    "        #print(gs_file)\n",
    "        #print(ocr_file)\n",
    "        gs_file = os.path.join(gs_dir, os.path.basename(pred_file))\n",
    "        \n",
    "        # make alignment\n",
    "        with open(gs_file) as f:\n",
    "            gs_text = f.read()\n",
    "            \n",
    "        gs_text = normalize_whitespace(gs_text)\n",
    "        gs_text = normalize_punctuation(gs_text)\n",
    "        \n",
    "        with open(pred_file) as f:\n",
    "            pred_text = f.read()\n",
    "            \n",
    "        pred_text = normalize_whitespace(pred_text)\n",
    "        pred_text = normalize_punctuation(pred_text)\n",
    "            \n",
    "        aligned_gs, aligned_pred, _match = align_characters(pred_text, gs_text)    \n",
    "       \n",
    "        tokens = parse(gs_text, parsetree)\n",
    "        #print(tokens)\n",
    "    \n",
    "        df = create_word_mapping(tokens, aligned_gs, aligned_pred)\n",
    "        \n",
    "        doc_id = remove_ext(gs_file)\n",
    "        #print(doc_id)\n",
    "    \n",
    "        out_file = out_file_name(out_dir, doc_id, ext='csv')\n",
    "        print(out_file)\n",
    "        create_dirs(out_file, is_file=True)\n",
    "        df[['gs', 'ocr']].to_csv(out_file)\n",
    "        #print()\n",
    "        #break\n",
    "\n",
    "in_dir = '/home/jvdzwaan/data/kb-ocr/text_aligned_blocks-match_gs'\n",
    "out_dir = '/home/jvdzwaan/data/kb-ocr/text_aligned_blocks-match_gs/A8P1-wm/'\n",
    "\n",
    "align_and_word_mappings_directory(in_dir, out_dir, pred='pred-A8P1')"
   ]
  },
  {
   "cell_type": "code",
   "execution_count": null,
   "metadata": {},
   "outputs": [],
   "source": [
    "in_dir = '/home/jvdzwaan/data/kb-ocr/text_aligned_blocks-match_gs'\n",
    "out_dir = '/home/jvdzwaan/data/kb-ocr/text_aligned_blocks-match_gs/A8P2-wm/'\n",
    "\n",
    "align_and_word_mappings_directory(in_dir, out_dir, pred='pred-A8P2')"
   ]
  },
  {
   "cell_type": "code",
   "execution_count": null,
   "metadata": {},
   "outputs": [],
   "source": [
    "in_dir = '/home/jvdzwaan/data/kb-ocr/text_aligned_blocks-match_gs'\n",
    "out_dir = '/home/jvdzwaan/data/kb-ocr/text_aligned_blocks-match_gs/A8P3-wm/'\n",
    "\n",
    "align_and_word_mappings_directory(in_dir, out_dir, pred='pred-A8P3')"
   ]
  },
  {
   "cell_type": "code",
   "execution_count": null,
   "metadata": {},
   "outputs": [],
   "source": [
    "df = pd.read_csv('/home/jvdzwaan/data/kb-ocr/text_aligned_blocks-match_gs/word-mappings/DDD_000012234_001.csv')"
   ]
  },
  {
   "cell_type": "code",
   "execution_count": null,
   "metadata": {},
   "outputs": [],
   "source": [
    "df.head()"
   ]
  }
 ],
 "metadata": {
  "language_info": {
   "name": "python",
   "pygments_lexer": "ipython3"
  }
 },
 "nbformat": 4,
 "nbformat_minor": 2
}
