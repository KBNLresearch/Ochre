{
 "cells": [
  {
   "cell_type": "code",
   "execution_count": null,
   "metadata": {},
   "outputs": [],
   "source": [
    "%load_ext autoreload\n",
    "%autoreload 2"
   ]
  },
  {
   "cell_type": "code",
   "execution_count": null,
   "metadata": {},
   "outputs": [],
   "source": [
    "# How much data do we have?\n",
    "import codecs\n",
    "import glob\n",
    "\n",
    "ocr_texts = []\n",
    "gs_texts = []\n",
    "\n",
    "ocr_lengths = []\n",
    "gs_lengths = []\n",
    "\n",
    "\n",
    "ocr_files = glob.glob('/home/jvdzwaan/data/ocr/BAO*.ocr.txt')\n",
    "ocr_files.sort()\n",
    "gs_files = glob.glob('/home/jvdzwaan/data/ocr/BAO*.gs.txt')\n",
    "gs_files.sort()\n",
    "\n",
    "for ocr_file, gs_file in zip(ocr_files, gs_files):\n",
    "    #print ocr_file\n",
    "    #print gs_file\n",
    "    with codecs.open(ocr_file, encoding='utf-8') as f:\n",
    "        ocr_text = f.read()\n",
    "    ocr_texts.append(ocr_text)\n",
    "    ocr_lengths.append(len(ocr_text))\n",
    "    \n",
    "    with codecs.open(gs_file, encoding='utf-8') as f:\n",
    "        gs_text = f.read()\n",
    "    gs_texts.append(gs_text)\n",
    "    gs_lengths.append(len(gs_text))\n",
    "    print len(ocr_text), len(gs_text)\n",
    "    \n",
    "print 'Number of newspaper articles:', len(ocr_texts)"
   ]
  },
  {
   "cell_type": "code",
   "execution_count": null,
   "metadata": {},
   "outputs": [],
   "source": [
    "import numpy as np\n",
    "\n",
    "diffs = np.array(gs_lengths) - np.array(ocr_lengths)\n",
    "print diffs.min()\n",
    "print diffs.max()\n",
    "print diffs.mean()\n",
    "print diffs.std()"
   ]
  },
  {
   "cell_type": "markdown",
   "metadata": {},
   "source": [
    "gs is gemiddeld korter dan ocr. ocr is meestal langer dan de gs.\n",
    "Wat betekent dit?\n",
    "\n",
    "* Dat we moeten padden\n",
    "* Text separator marker?\n",
    "* Allebei maar gewoon padden en kijken waar het schip strandt"
   ]
  },
  {
   "cell_type": "code",
   "execution_count": null,
   "metadata": {},
   "outputs": [],
   "source": [
    "ocr_raw = []\n",
    "gs_raw = []\n",
    "\n",
    "for ocr, gs in zip(ocr_texts, gs_texts):\n",
    "    ocr_raw.append(ocr)\n",
    "    gs_raw.append(gs)\n",
    "    ocr_raw.append(' ')\n",
    "    gs_raw.append(' ')\n",
    "    if len(ocr) > len(gs):\n",
    "        #print len(ocr)-len(gs)\n",
    "        gs_raw.append('\\n'*(len(ocr)-len(gs)))\n",
    "    elif len(gs) > len(ocr):\n",
    "        #print len(gs)-len(ocr)\n",
    "        ocr_raw.append('\\n'*(len(gs)-len(ocr)))\n",
    "\n",
    "print ''.join(gs_raw)"
   ]
  },
  {
   "cell_type": "code",
   "execution_count": null,
   "metadata": {},
   "outputs": [],
   "source": [
    "print ''.join(ocr_raw)"
   ]
  },
  {
   "cell_type": "code",
   "execution_count": null,
   "metadata": {},
   "outputs": [],
   "source": [
    "gs_raw = ''.join(gs_raw)\n",
    "ocr_raw = ''.join(ocr_raw)\n",
    "\n",
    "gs_raw = gs_raw.lower()\n",
    "ocr_raw = ocr_raw.lower()\n",
    "\n",
    "print len(gs_raw)\n",
    "print len(ocr_raw)"
   ]
  },
  {
   "cell_type": "code",
   "execution_count": null,
   "metadata": {},
   "outputs": [],
   "source": [
    "with codecs.open('ocr.txt', 'wb', encoding='utf-8') as f:\n",
    "    f.write(ocr_raw)\n",
    "with codecs.open('gs.txt', 'wb', encoding='utf-8') as f:\n",
    "    f.write(gs_raw)"
   ]
  },
  {
   "cell_type": "code",
   "execution_count": null,
   "metadata": {},
   "outputs": [],
   "source": [
    "with codecs.open('ocr.txt', 'r', encoding='utf-8') as f:\n",
    "    ocr_raw = f.read().lower()\n",
    "with codecs.open('gs.txt', 'r', encoding='utf-8') as f:\n",
    "    gs_raw = f.read().lower()"
   ]
  },
  {
   "cell_type": "code",
   "execution_count": null,
   "metadata": {},
   "outputs": [],
   "source": [
    "print len(gs_raw)\n",
    "print len(ocr_raw)"
   ]
  },
  {
   "cell_type": "code",
   "execution_count": null,
   "metadata": {},
   "outputs": [],
   "source": [
    "chars = sorted(list(set(ocr_raw + gs_raw)))\n",
    "char_to_int = dict((c, i) for i, c in enumerate(chars))    \n",
    "\n",
    "n_chars = len(ocr_raw)\n",
    "n_vocab = len(chars)\n",
    "print \"Total Characters: \", n_chars\n",
    "print \"Total Vocab: \", n_vocab"
   ]
  },
  {
   "cell_type": "code",
   "execution_count": null,
   "metadata": {},
   "outputs": [],
   "source": [
    "seq_length = 100\n",
    "# prepare the dataset of input to output pairs encoded as integers\n",
    "dataX = []\n",
    "dataY = []\n",
    "for i in range(0, n_chars - seq_length, 1):\n",
    "    seq_in = ocr_raw[i:i + seq_length + 1]\n",
    "    seq_out = gs_raw[i + seq_length]\n",
    "    \n",
    "    #print seq_in\n",
    "    #print seq_out\n",
    "    #print\n",
    "    dataX.append([char_to_int[char] for char in seq_in])\n",
    "    dataY.append(char_to_int[seq_out])\n",
    "n_patterns = len(dataX)\n",
    "print \"Total Patterns: \", n_patterns"
   ]
  },
  {
   "cell_type": "code",
   "execution_count": null,
   "metadata": {},
   "outputs": [],
   "source": [
    "print dataX[-1]\n",
    "print dataY[-1]"
   ]
  },
  {
   "cell_type": "code",
   "execution_count": null,
   "metadata": {},
   "outputs": [],
   "source": [
    "with open('fileName.csv', 'w') as f:\n",
    "    for x, y in zip(dataX, dataY):\n",
    "        f.write(','.join(str(i) for i in x))\n",
    "        f.write(',')\n",
    "        f.write(str(y))\n",
    "        f.write('\\n')\n",
    "    "
   ]
  },
  {
   "cell_type": "code",
   "execution_count": null,
   "metadata": {},
   "outputs": [],
   "source": [
    "','.join(str(x) for x in dataX[0])"
   ]
  }
 ],
 "metadata": {
  "language_info": {
   "name": "python",
   "pygments_lexer": "ipython3"
  }
 },
 "nbformat": 4,
 "nbformat_minor": 2
}
