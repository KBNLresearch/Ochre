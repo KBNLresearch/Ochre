{
 "cells": [
  {
   "cell_type": "code",
   "execution_count": null,
   "metadata": {},
   "outputs": [],
   "source": [
    "%load_ext autoreload\n",
    "%autoreload 2"
   ]
  },
  {
   "cell_type": "code",
   "execution_count": null,
   "metadata": {},
   "outputs": [],
   "source": [
    "%matplotlib inline\n",
    "\n",
    "import numpy as np\n",
    "import pandas as pd\n",
    "import matplotlib.pyplot as plt\n",
    "\n",
    "from tqdm import tqdm_notebook as tqdm"
   ]
  },
  {
   "cell_type": "code",
   "execution_count": null,
   "metadata": {},
   "outputs": [],
   "source": [
    "# get the metadata\n",
    "md = pd.read_excel('/home/jvdzwaan/ownCloud/Shared/OCR/Selection_OCR_GT_metadata.xlsx')\n",
    "md"
   ]
  },
  {
   "cell_type": "code",
   "execution_count": null,
   "metadata": {},
   "outputs": [],
   "source": [
    "def convert_identifier(identifier):\n",
    "    parts = identifier.split(':')\n",
    "    return '_'.join([parts[0].upper(), parts[1]])\n",
    "\n",
    "convert_identifier('ddd:010010081:mpeg21')"
   ]
  },
  {
   "cell_type": "code",
   "execution_count": null,
   "metadata": {},
   "outputs": [],
   "source": [
    "%%time\n",
    "import os\n",
    "import glob\n",
    "\n",
    "in_dir = '/home/jvdzwaan/data/kb-ocr/text_aligned_blocks-match_gs/aligned/'\n",
    "\n",
    "not_found = 0\n",
    "\n",
    "for ident in md['Identifier']:\n",
    "    #print(ident)\n",
    "    #print(convert_identifier(ident))\n",
    "    c = convert_identifier(ident)\n",
    "    g = '{}{}*'.format(in_dir, c)\n",
    "    files = glob.glob(g)\n",
    "    if len(files) == 0:\n",
    "        not_found += 1\n",
    "    elif len(files) == 1:\n",
    "        pass\n",
    "    else:\n",
    "        print('Trouble with', identifier)"
   ]
  },
  {
   "cell_type": "code",
   "execution_count": null,
   "metadata": {},
   "outputs": [],
   "source": [
    "not_found"
   ]
  },
  {
   "cell_type": "code",
   "execution_count": null,
   "metadata": {},
   "outputs": [],
   "source": [
    "md['file_prefix'] = md.apply(lambda row: convert_identifier(row['Identifier']), axis=1)\n",
    "md"
   ]
  },
  {
   "cell_type": "code",
   "execution_count": null,
   "metadata": {},
   "outputs": [],
   "source": [
    "def file_available(file_prefix, indir):\n",
    "    g = '{}{}*'.format(in_dir, file_prefix)\n",
    "    files = glob.glob(g)\n",
    "    if len(files) == 0:\n",
    "        return False\n",
    "    elif len(files) == 1:\n",
    "        return True\n",
    "    else:\n",
    "        print('Trouble with', file_prefix)\n",
    "        return 'ERROR'\n",
    "\n",
    "in_dir = '/home/jvdzwaan/data/kb-ocr/text_aligned_blocks-match_gs/aligned/'\n",
    "md['file_available'] = md.apply(lambda row: file_available(row['file_prefix'], in_dir), axis=1)\n",
    "md"
   ]
  },
  {
   "cell_type": "code",
   "execution_count": null,
   "metadata": {},
   "outputs": [],
   "source": [
    "import os\n",
    "\n",
    "def file_name(file_prefix, indir):\n",
    "    g = '{}{}*'.format(in_dir, file_prefix)\n",
    "    files = glob.glob(g)\n",
    "    if len(files) == 0:\n",
    "        return 'UNKNOWN'\n",
    "    elif len(files) == 1:\n",
    "        return os.path.basename(files[0])\n",
    "    else:\n",
    "        print('Trouble with', file_prefix)\n",
    "        return 'ERROR'\n",
    "\n",
    "in_dir = '/home/jvdzwaan/data/kb-ocr/text_aligned_blocks-match_gs/aligned/'\n",
    "md['file_name'] = md.apply(lambda row: file_name(row['file_prefix'], in_dir), axis=1)\n",
    "md"
   ]
  },
  {
   "cell_type": "code",
   "execution_count": null,
   "metadata": {},
   "outputs": [],
   "source": [
    "import datetime\n",
    "\n",
    "def get_period(year):\n",
    "    #print(type(year))\n",
    "    if isinstance(year, datetime.datetime):\n",
    "        year = int(year.strftime(\"%Y\"))\n",
    "    elif isinstance(year, str):\n",
    "        year = int(year)\n",
    "\n",
    "    if year < 1883:\n",
    "        return 1\n",
    "    elif year >= 1883 and year < 1947:\n",
    "        return 2\n",
    "    else:\n",
    "        return 3\n",
    "\n",
    "md['period'] = md.apply(lambda row: get_period(row['Date of publication']), axis=1)\n",
    "md"
   ]
  },
  {
   "cell_type": "code",
   "execution_count": null,
   "metadata": {},
   "outputs": [],
   "source": [
    "def get_year(year):\n",
    "    #print(type(year))\n",
    "    if isinstance(year, datetime.datetime):\n",
    "        year = int(year.strftime(\"%Y\"))\n",
    "    elif isinstance(year, str):\n",
    "        year = int(year)\n",
    "        \n",
    "    return year\n",
    "\n",
    "md['year'] = md.apply(lambda row: get_year(row['Date of publication']), axis=1)\n",
    "md"
   ]
  },
  {
   "cell_type": "code",
   "execution_count": null,
   "metadata": {},
   "outputs": [],
   "source": [
    "md = md.query('file_available == True').copy()\n",
    "md"
   ]
  },
  {
   "cell_type": "code",
   "execution_count": null,
   "metadata": {},
   "outputs": [],
   "source": [
    "md.columns"
   ]
  },
  {
   "cell_type": "code",
   "execution_count": null,
   "metadata": {},
   "outputs": [],
   "source": [
    "md.to_csv('/home/jvdzwaan/data/kb-ocr/metadata.csv')"
   ]
  },
  {
   "cell_type": "code",
   "execution_count": null,
   "metadata": {},
   "outputs": [],
   "source": [
    "grouped = md[['Date of publication', 'file_prefix', 'file_name', 'ABBYY Version', 'period']].groupby(['ABBYY Version', 'period'])"
   ]
  },
  {
   "cell_type": "code",
   "execution_count": null,
   "metadata": {},
   "outputs": [],
   "source": [
    "grouped.count()"
   ]
  },
  {
   "cell_type": "code",
   "execution_count": null,
   "metadata": {},
   "outputs": [],
   "source": [
    "def create_datadivision(in_files, SEED=4, TEST_PERCENTAGE=10, VAL_PERCENTAGE=10):\n",
    "    np.random.seed(SEED)\n",
    "    np.random.shuffle(in_files)\n",
    "\n",
    "    n_test = int(len(in_files)/100.0 * TEST_PERCENTAGE)\n",
    "    n_val = int(len(in_files)/100.0 * VAL_PERCENTAGE)\n",
    "\n",
    "    validation_texts = in_files[0:n_val]\n",
    "    test_texts = in_files[n_val:n_val+n_test]\n",
    "    train_texts = in_files[n_val+n_test:]\n",
    "\n",
    "    division = {\n",
    "        'train': [os.path.basename(t) for t in train_texts],\n",
    "        'val': [os.path.basename(t) for t in validation_texts],\n",
    "        'test': [os.path.basename(t) for t in test_texts]\n",
    "    }\n",
    "    \n",
    "    return division\n",
    "\n",
    "in_files = list(grouped.get_group((8.1, 1))['file_name'])\n",
    "print(len(in_files))\n",
    "division = create_datadivision(in_files)\n",
    "\n",
    "print('# train', len(division['train']))\n",
    "print('# val', len(division['val']))\n",
    "print('# test', len(division['test']))"
   ]
  },
  {
   "cell_type": "code",
   "execution_count": null,
   "metadata": {},
   "outputs": [],
   "source": [
    "# make a datadivision for all periods and Abby 8\n",
    "import json\n",
    "\n",
    "for p in (1, 2, 3):\n",
    "    print('Period', p)\n",
    "    in_files = list(grouped.get_group((8.1, p))['file_name'])\n",
    "    print(len(in_files))\n",
    "    division = create_datadivision(in_files)\n",
    "\n",
    "    print('# train', len(division['train']))\n",
    "    print('# val', len(division['val']))\n",
    "    print('# test', len(division['test']))\n",
    "\n",
    "    out_file = f'/home/jvdzwaan/data/kb-ocr/text_aligned_blocks-match_gs/datadivision-A8P{p}.json'\n",
    "    print(out_file)\n",
    "    with open(out_file, 'w') as f:\n",
    "        json.dump(division, f, indent=4) \n",
    "    print()"
   ]
  }
 ],
 "metadata": {
  "language_info": {
   "name": "python",
   "pygments_lexer": "ipython3"
  }
 },
 "nbformat": 4,
 "nbformat_minor": 2
}
