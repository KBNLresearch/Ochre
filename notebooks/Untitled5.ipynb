{
 "cells": [
  {
   "cell_type": "code",
   "execution_count": null,
   "metadata": {},
   "outputs": [],
   "source": [
    "%load_ext autoreload\n",
    "%autoreload 2"
   ]
  },
  {
   "cell_type": "code",
   "execution_count": null,
   "metadata": {},
   "outputs": [],
   "source": [
    "%matplotlib inline\n",
    "\n",
    "import numpy as np\n",
    "import pandas as pd\n",
    "import matplotlib.pyplot as plt\n",
    "\n",
    "from tqdm import tqdm_notebook as tqdm"
   ]
  },
  {
   "cell_type": "code",
   "execution_count": null,
   "metadata": {},
   "outputs": [],
   "source": [
    "# Check whether the same files are selected with match-gs for the origignal alto files and the reocr'ed files\n",
    "tb_original = pd.read_csv('/home/jvdzwaan/data/kb-ocr/textblock_matches-original-altos.csv', index_col=0)\n",
    "tb_original"
   ]
  },
  {
   "cell_type": "code",
   "execution_count": null,
   "metadata": {},
   "outputs": [],
   "source": [
    "tb_fr11 = pd.read_csv('/home/jvdzwaan/data/kb-ocr/textblock_matches-FR11.csv', index_col=0)\n",
    "tb_fr11.columns = ['gs_blocks_fr11', 'matched_fr11', 'ocr_blocks_fr11']\n",
    "tb_fr11"
   ]
  },
  {
   "cell_type": "code",
   "execution_count": null,
   "metadata": {},
   "outputs": [],
   "source": [
    "result = tb_original.join(tb_fr11)\n",
    "result"
   ]
  }
 ],
 "metadata": {
  "language_info": {
   "name": "python",
   "pygments_lexer": "ipython3"
  }
 },
 "nbformat": 4,
 "nbformat_minor": 2
}
