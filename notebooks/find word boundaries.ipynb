{
 "cells": [
  {
   "cell_type": "code",
   "execution_count": null,
   "metadata": {},
   "outputs": [],
   "source": [
    "%load_ext autoreload\n",
    "%autoreload 2"
   ]
  },
  {
   "cell_type": "code",
   "execution_count": null,
   "metadata": {},
   "outputs": [],
   "source": [
    "import codecs\n",
    "import json\n",
    "import os\n",
    "\n",
    "data_dir = '/home/jvdzwaan/data/ocr/'\n",
    "with codecs.open(os.path.join(data_dir, 'BAObi1.json'), encoding='utf-8') as f:\n",
    "    result = json.load(f)\n",
    "aligned = result['gs']\n",
    "\n",
    "with codecs.open(os.path.join(data_dir, 'BAObi1-ds.gs.txt'), encoding='utf-8') as f:\n",
    "    text = f.read()\n",
    "print text\n",
    "\n",
    "with codecs.open(os.path.join(data_dir, 'BAObi1-ds.ocr.txt'), encoding='utf-8') as f:\n",
    "    ocr = f.read()\n",
    "print ocr"
   ]
  },
  {
   "cell_type": "code",
   "execution_count": null,
   "metadata": {},
   "outputs": [],
   "source": [
    "from pattern.nl import parsetree\n",
    "\n",
    "def parse(text):\n",
    "    tokens = []\n",
    "    p = parsetree(text,\n",
    "                  tokenize=True,     # Split punctuation marks from words?\n",
    "                  tags=True,         # Parse part-of-speech tags? (NN, JJ, ...)\n",
    "                  chunks=False,      # Parse chunks? (NP, VP, PNP, ...)\n",
    "                  relations=False,   # Parse chunk relations? (-SBJ, -OBJ, ...)\n",
    "                  lemmata=True,      # Parse lemmata? (ate => eat)\n",
    "                  encoding='utf-8',  # Input string encoding.\n",
    "                  tagset=None)       # Penn Treebank II (default) or UNIVERSAL.\n",
    "    for sentence_id, sentence in enumerate(p):\n",
    "        for word_id, word in enumerate(sentence):\n",
    "            tokens.append({'id': word_id,\n",
    "                           'word': word.string,\n",
    "                           'lemma': word.lemma,\n",
    "                           'sentence': sentence_id,\n",
    "                           'pos': word.type})\n",
    "    return tokens\n",
    "\n",
    "tokens = [t['word'] for t in parse(text)]"
   ]
  },
  {
   "cell_type": "code",
   "execution_count": null,
   "metadata": {},
   "outputs": [],
   "source": [
    "print tokens"
   ]
  },
  {
   "cell_type": "code",
   "execution_count": null,
   "metadata": {},
   "outputs": [],
   "source": [
    "unaligned = []\n",
    "\n",
    "for w in tokens:\n",
    "    for c in w:\n",
    "        unaligned.append(c)\n",
    "    unaligned.append('@')\n",
    "\n",
    "i = 0\n",
    "j = 0\n",
    "wb = []\n",
    "while True:\n",
    "    if unaligned[j] == '@':\n",
    "        print 'word boundary', i\n",
    "        wb.append(i)\n",
    "        j += 1\n",
    "    elif aligned[i] == '' or aligned[i] == ' ':\n",
    "        i += 1\n",
    "    elif aligned[i] == unaligned[j]:\n",
    "        i += 1\n",
    "        j += 1"
   ]
  },
  {
   "cell_type": "code",
   "execution_count": null,
   "metadata": {},
   "outputs": [],
   "source": [
    "print wb\n",
    "wb2 = []\n",
    "p = 0\n",
    "for b in wb:\n",
    "    print '\"{}\"'.format(''.join(aligned[p:b]))\n",
    "    w = ''.join(aligned[p:b])\n",
    "    if w.startswith(' '):\n",
    "        s = p + 1\n",
    "    else:\n",
    "        s = p\n",
    "    e = b\n",
    "    wb2.append((s, e))\n",
    "    p = b\n",
    "print wb2"
   ]
  },
  {
   "cell_type": "code",
   "execution_count": null,
   "metadata": {},
   "outputs": [],
   "source": [
    "ocr_words = []\n",
    "for b, e in wb2:\n",
    "    #print b, e\n",
    "    #print ''.join(ocr[b: e])\n",
    "    ocr_words.append(''.join(ocr[b: e]))\n",
    "print ocr_words\n",
    "print len(ocr_words)"
   ]
  },
  {
   "cell_type": "code",
   "execution_count": null,
   "metadata": {},
   "outputs": [],
   "source": [
    "import pandas as pd\n",
    "\n",
    "df = pd.read_csv('/home/jvdzwaan/code/ocr/merged.csv', encoding='utf-8')\n",
    "df"
   ]
  },
  {
   "cell_type": "code",
   "execution_count": null,
   "metadata": {},
   "outputs": [],
   "source": [
    "import re\n",
    "from string import punctuation\n",
    "\n",
    "print punctuation\n",
    "text = '..****&&&&$$$$!!!!..'\n",
    "\n",
    "for c in punctuation:\n",
    "    print c\n",
    "    try:\n",
    "        if c == u'.':\n",
    "            text = re.sub(r'\\{}+'.format(c), c, text)\n",
    "        else:\n",
    "            text = re.sub(r'{}+'.format(c), c, text)\n",
    "    except:\n",
    "        print 'exception'\n",
    "        if c != u'\\\\':\n",
    "            text = re.sub(r'\\{}+'.format(c), c, text)\n",
    "    print text\n",
    "    "
   ]
  }
 ],
 "metadata": {
  "language_info": {
   "name": "python",
   "pygments_lexer": "ipython3"
  }
 },
 "nbformat": 4,
 "nbformat_minor": 2
}
