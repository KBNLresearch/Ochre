{
 "cells": [
  {
   "cell_type": "code",
   "execution_count": null,
   "metadata": {},
   "outputs": [],
   "source": [
    "%load_ext autoreload\n",
    "%autoreload 2"
   ]
  },
  {
   "cell_type": "code",
   "execution_count": null,
   "metadata": {},
   "outputs": [],
   "source": [
    "%matplotlib inline\n",
    "\n",
    "import numpy as np\n",
    "import pandas as pd\n",
    "import matplotlib.pyplot as plt"
   ]
  },
  {
   "cell_type": "code",
   "execution_count": null,
   "metadata": {},
   "outputs": [],
   "source": [
    "import os\n",
    "from tqdm import tqdm_notebook as tqdm\n",
    "#from codecs import open\n",
    "from lxml import etree\n",
    "\n",
    "from nlppln.utils import out_file_name, create_dirs"
   ]
  },
  {
   "cell_type": "code",
   "execution_count": null,
   "metadata": {},
   "outputs": [],
   "source": [
    "def get_removed(fname):\n",
    "    result = {}\n",
    "    with open(fname) as f:\n",
    "        for line in f.readlines():\n",
    "            text, lines = line.split('\\t')\n",
    "            result[text] = [int(n) for n in lines.split(',')]\n",
    "            print(text)\n",
    "            print(len(result[text]))\n",
    "    return result\n",
    "r = get_removed('lines_removed_iteratively_2passes.txt')"
   ]
  },
  {
   "cell_type": "code",
   "execution_count": null,
   "metadata": {},
   "outputs": [],
   "source": [
    "def get_lines(ocr_file, remove_empty=True):\n",
    "    with open(ocr_file) as f:\n",
    "        lines = f.readlines()\n",
    "        \n",
    "    if remove_empty:\n",
    "        # remove empty lines\n",
    "        ls = []\n",
    "\n",
    "        for line in lines:\n",
    "            if line.strip() != '':\n",
    "                ls.append(line)\n",
    "        lines = ls\n",
    "    print('The text contains {} lines.'.format(len(lines)))\n",
    "    return lines"
   ]
  },
  {
   "cell_type": "code",
   "execution_count": null,
   "metadata": {},
   "outputs": [],
   "source": [
    "def print_notes(note_lines, lines):\n",
    "    for idx in note_lines:\n",
    "        print(lines[idx])"
   ]
  },
  {
   "cell_type": "code",
   "execution_count": null,
   "metadata": {},
   "outputs": [],
   "source": [
    "import os\n",
    "\n",
    "in_dir = '/home/jvdzwaan/data/dbnl_ocr/raw/ocr-without-title-page/'\n",
    "\n",
    "#fname = 'rade001gera01_01.txt'\n",
    "fname = '_zev001198901_01.txt'\n",
    "\n",
    "lines = get_lines(os.path.join(in_dir, fname))\n",
    "print_notes(r[fname], lines)"
   ]
  }
 ],
 "metadata": {
  "language_info": {
   "name": "python",
   "pygments_lexer": "ipython3"
  }
 },
 "nbformat": 4,
 "nbformat_minor": 2
}
