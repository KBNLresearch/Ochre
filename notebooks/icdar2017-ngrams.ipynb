{
 "cells": [
  {
   "cell_type": "code",
   "execution_count": null,
   "metadata": {},
   "outputs": [],
   "source": [
    "%load_ext autoreload\n",
    "%autoreload 2"
   ]
  },
  {
   "cell_type": "code",
   "execution_count": null,
   "metadata": {},
   "outputs": [],
   "source": [
    "%matplotlib inline\n",
    "\n",
    "import numpy as np\n",
    "import pandas as pd\n",
    "import matplotlib.pyplot as plt"
   ]
  },
  {
   "cell_type": "code",
   "execution_count": null,
   "metadata": {},
   "outputs": [],
   "source": [
    "import json\n",
    "\n",
    "from ochre.utils import read_texts\n",
    "\n",
    "datasets = '/home/jvdzwaan/data/icdar2017st/eng_monograph/datadivision.json'\n",
    "data_dir = '/home/jvdzwaan/data/icdar2017st/eng_monograph/aligned/'\n",
    "\n",
    "with open(datasets) as d:\n",
    "    division = json.load(d)\n",
    "print(len(division['train']))\n",
    "print(len(division['test']))\n",
    "print(len(division['val']))"
   ]
  },
  {
   "cell_type": "code",
   "execution_count": null,
   "metadata": {},
   "outputs": [],
   "source": [
    "from ochre.utils import get_chars, get_sequences\n",
    "\n",
    "seq_length = 53\n",
    "\n",
    "raw_val, gs_val, ocr_val = read_texts(division.get('val'), data_dir)\n",
    "raw_test, gs_test, ocr_test = read_texts(division.get('test'), data_dir)\n",
    "raw_train, gs_train, ocr_train = read_texts(division.get('train'), data_dir)\n",
    "\n",
    "chars, num_chars, ci = get_chars(raw_val, raw_test, raw_train, False)"
   ]
  },
  {
   "cell_type": "code",
   "execution_count": null,
   "metadata": {},
   "outputs": [],
   "source": [
    "%%time\n",
    "from collections import defaultdict, Counter\n",
    "\n",
    "from nlppln.utils import get_files\n",
    "\n",
    "#c = defaultdict(int)\n",
    "c = Counter()\n",
    "\n",
    "data_dirs = ['/home/jvdzwaan/data/icdar2017st/eng_monograph/aligned/',\n",
    "             '/home/jvdzwaan/data/icdar2017st/eng_periodical/aligned/',\n",
    "             '/home/jvdzwaan/data/icdar2017st/fr_monograph/aligned/',\n",
    "             '/home/jvdzwaan/data/icdar2017st/fr_periodical/aligned/']\n",
    "\n",
    "for dd in data_dirs:\n",
    "    in_files = get_files(dd)\n",
    "    \n",
    "    raw, gs, ocr = read_texts(in_files, data_dir=None)\n",
    "    \n",
    "    for c1, c2 in zip(ocr, gs):\n",
    "        if c1 != c2 and c1 != ' ' and c2 != ' ':\n",
    "            c[(c1, c2)] += 1"
   ]
  },
  {
   "cell_type": "code",
   "execution_count": null,
   "metadata": {},
   "outputs": [],
   "source": [
    "for ch, f in c.most_common(10):\n",
    "    print(ch, f)"
   ]
  },
  {
   "cell_type": "code",
   "execution_count": null,
   "metadata": {},
   "outputs": [],
   "source": [
    "c[('1', 'I')]"
   ]
  },
  {
   "cell_type": "code",
   "execution_count": null,
   "metadata": {},
   "outputs": [],
   "source": [
    "%%time\n",
    "from ochre.utils import get_sequences\n",
    "\n",
    "data_dirs = ['/home/jvdzwaan/data/icdar2017st/eng_monograph/aligned/',\n",
    "             '/home/jvdzwaan/data/icdar2017st/eng_periodical/aligned/',\n",
    "             '/home/jvdzwaan/data/icdar2017st/fr_monograph/aligned/',\n",
    "             '/home/jvdzwaan/data/icdar2017st/fr_periodical/aligned/']\n",
    "\n",
    "c = Counter()\n",
    "\n",
    "for dd in data_dirs:\n",
    "    in_files = get_files(dd)\n",
    "    \n",
    "    raw, gs, ocr = read_texts(in_files, data_dir=None)\n",
    "    \n",
    "    gs_seqs, ocr_seqs = get_sequences(gs, ocr, 3)\n",
    "    \n",
    "    for ocr, gs in zip(ocr_seqs, gs_seqs):\n",
    "        c[(ocr, gs)] += 1"
   ]
  },
  {
   "cell_type": "code",
   "execution_count": null,
   "metadata": {},
   "outputs": [],
   "source": [
    "for ch, f in c.most_common(20):\n",
    "    print(ch, f)"
   ]
  }
 ],
 "metadata": {
  "language_info": {
   "name": "python",
   "pygments_lexer": "ipython3"
  }
 },
 "nbformat": 4,
 "nbformat_minor": 2
}
