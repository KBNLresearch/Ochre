{
 "cells": [
  {
   "cell_type": "code",
   "execution_count": null,
   "metadata": {},
   "outputs": [],
   "source": [
    "%load_ext autoreload\n",
    "%autoreload 2"
   ]
  },
  {
   "cell_type": "code",
   "execution_count": null,
   "metadata": {},
   "outputs": [],
   "source": [
    "# workflow that, given a data division and gs and ocr dir makes a train, test and val file \n",
    "# with all the texts pasted in a single file\n",
    "import nlppln\n",
    "import ochre\n",
    "import os\n",
    "\n",
    "with nlppln.WorkflowGenerator(working_dir='/home/jvdzwaan/cwl-working-dir/') as wf:\n",
    "    wf.load(steps_dir=ochre.cwl_path())\n",
    "    #print(wf.list_steps())\n",
    "    \n",
    "    div = wf.add_input(datadivision='File')\n",
    "    gs_dir = wf.add_input(gs='Directory')\n",
    "    ocr_dir = wf.add_input(ocr='Directory')\n",
    "    gs_dir_name = wf.add_input(gs_dir_name='string', default='gs_concat')\n",
    "    ocr_dir_name = wf.add_input(ocr_dir_name='string', default='ocr_concat')\n",
    "    \n",
    "    gs_files = wf.concat_files(datadivision=div, in_dir=gs_dir)\n",
    "    ocr_files = wf.concat_files(datadivision=div, in_dir=ocr_dir)\n",
    "    \n",
    "    gs_out = wf.save_files_to_dir(dir_name=gs_dir_name, in_files=gs_files)\n",
    "    ocr_out = wf.save_files_to_dir(dir_name=ocr_dir_name, in_files=ocr_files)\n",
    "    \n",
    "    wf.add_outputs(gs_dir=gs_out)\n",
    "    wf.add_outputs(ocr_dir=ocr_out)\n",
    "    \n",
    "    wf.save(os.path.join(ochre.cwl_path(), 'concat-data-div-files-wf.cwl'), wd=True)"
   ]
  }
 ],
 "metadata": {
  "language_info": {
   "name": "python",
   "pygments_lexer": "ipython3"
  }
 },
 "nbformat": 4,
 "nbformat_minor": 2
}
