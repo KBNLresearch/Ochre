{
 "cells": [
  {
   "cell_type": "code",
   "execution_count": null,
   "metadata": {},
   "outputs": [],
   "source": [
    "%load_ext autoreload\n",
    "%autoreload 2"
   ]
  },
  {
   "cell_type": "code",
   "execution_count": null,
   "metadata": {},
   "outputs": [],
   "source": [
    "with open('/home/jvdzwaan/data/tmp/remove-title-page/aa__001biog01_01-gs.txt') as f:\n",
    "    gs_lines = f.readlines()\n",
    "\n",
    "with open('/home/jvdzwaan/data/tmp/remove-title-page/aa__001biog01_01.txt') as f:\n",
    "    ocr_lines = f.readlines()"
   ]
  },
  {
   "cell_type": "code",
   "execution_count": null,
   "metadata": {},
   "outputs": [],
   "source": [
    "print(len(gs_lines), len(ocr_lines))"
   ]
  },
  {
   "cell_type": "code",
   "execution_count": null,
   "metadata": {},
   "outputs": [],
   "source": [
    "print(''.join(gs_lines[0:5]))"
   ]
  },
  {
   "cell_type": "code",
   "execution_count": null,
   "metadata": {},
   "outputs": [],
   "source": [
    "print(''.join(ocr_lines[0:5]))"
   ]
  },
  {
   "cell_type": "code",
   "execution_count": null,
   "metadata": {},
   "outputs": [],
   "source": [
    "# remove empty lines\n",
    "gs_lines = [line for line in gs_lines if line.strip() != '']\n",
    "ocr_lines = [line for line in ocr_lines if line.strip() != '']\n",
    "print(len(gs_lines), len(ocr_lines))\n",
    "print(''.join(gs_lines[0:5]))\n",
    "print('---')\n",
    "print(''.join(ocr_lines[0:5]))"
   ]
  },
  {
   "cell_type": "code",
   "execution_count": null,
   "metadata": {},
   "outputs": [],
   "source": [
    "gs_txt = ''.join(gs_lines[:100])\n",
    "ocr_txt = ''.join(ocr_lines[:100])"
   ]
  },
  {
   "cell_type": "code",
   "execution_count": null,
   "metadata": {},
   "outputs": [],
   "source": [
    "%%time\n",
    "import edlib\n",
    "\n",
    "res = edlib.align(gs_txt, ocr_txt)"
   ]
  },
  {
   "cell_type": "code",
   "execution_count": null,
   "metadata": {},
   "outputs": [],
   "source": [
    "print(res)"
   ]
  },
  {
   "cell_type": "code",
   "execution_count": null,
   "metadata": {},
   "outputs": [],
   "source": [
    "%%time\n",
    "import math\n",
    "\n",
    "num_lines = 100\n",
    "prev_ld = math.inf\n",
    "\n",
    "for i in range(num_lines):\n",
    "    #print(i)\n",
    "    gs_txt = ''.join(gs_lines[:num_lines]).lower()\n",
    "    ocr_txt = ''.join(ocr_lines[i:num_lines]).lower()\n",
    "    res = edlib.align(gs_txt, ocr_txt)\n",
    "    #print(res)\n",
    "    ld = res['editDistance']\n",
    "    if ld > prev_ld:\n",
    "        print('Stop')\n",
    "        print('ld:', ld)\n",
    "        print('i:', i)\n",
    "        print(''.join(ocr_lines[i-1:i+5]))\n",
    "        print('---')\n",
    "        print(''.join(gs_lines[:5]))\n",
    "        break\n",
    "    elif ld < prev_ld:\n",
    "        prev_ld = ld\n",
    "    #print('---')"
   ]
  },
  {
   "cell_type": "code",
   "execution_count": null,
   "metadata": {},
   "outputs": [],
   "source": [
    "edlib.align('Voorberigt.', 'VOORBERIGT.')"
   ]
  },
  {
   "cell_type": "code",
   "execution_count": null,
   "metadata": {},
   "outputs": [],
   "source": [
    "edlib.align('Voorberigt.'.lower(), 'VOORBERIGT.'.lower())"
   ]
  },
  {
   "cell_type": "code",
   "execution_count": null,
   "metadata": {},
   "outputs": [],
   "source": [
    "# put in function\n",
    "import codecs\n",
    "import math\n",
    "import edlib\n",
    "\n",
    "def remove_title_page(txt_without_title_page, txt_with_title_page, num_lines=100):\n",
    "    \"\"\"Return (ocr) text without title page.\n",
    "    \n",
    "    \n",
    "    \"\"\"\n",
    "    with open(txt_without_title_page) as f:\n",
    "        without_lines = f.readlines()\n",
    "\n",
    "    with open(txt_with_title_page) as f:\n",
    "        with_lines = f.readlines()\n",
    "\n",
    "    # remove empty lines\n",
    "    #without_lines = [line for line in without_lines if line.strip() != '']\n",
    "    #with_lines = [line for line in with_lines if line.strip() != '']\n",
    "    \n",
    "    prev_ld = math.inf\n",
    "\n",
    "    for i in range(num_lines):\n",
    "        without_txt = ''.join(without_lines[:num_lines]).lower()\n",
    "        with_txt = ''.join(with_lines[i:num_lines]).lower()\n",
    "        \n",
    "        res = edlib.align(without_txt, with_txt)\n",
    "        ld = res['editDistance']\n",
    "        \n",
    "        if ld > prev_ld:\n",
    "            return ''.join(with_lines[i-1:])\n",
    "        else:\n",
    "            prev_ld = ld   "
   ]
  },
  {
   "cell_type": "code",
   "execution_count": null,
   "metadata": {},
   "outputs": [],
   "source": [
    "remove_title_page('/home/jvdzwaan/data/tmp/remove-title-page/aa__001biog01_01-gs.txt', \n",
    "                  '/home/jvdzwaan/data/tmp/remove-title-page/aa__001biog01_01.txt')"
   ]
  },
  {
   "cell_type": "code",
   "execution_count": null,
   "metadata": {},
   "outputs": [],
   "source": [
    "remove_title_page('/home/jvdzwaan/data/tmp/remove-title-page/aa__001biog01_01.txt', \n",
    "                  '/home/jvdzwaan/data/tmp/remove-title-page/aa__001biog01_01-gs.txt')"
   ]
  },
  {
   "cell_type": "code",
   "execution_count": null,
   "metadata": {},
   "outputs": [],
   "source": [
    "import os\n",
    "\n",
    "from nlppln.utils import get_files, create_dirs, out_file_name\n",
    "from tqdm import tqdm_notebook as tqdm\n",
    "\n",
    "failed = []\n",
    "\n",
    "ocr_dir = '/home/jvdzwaan/data/dbnl_ocr/raw/ocr-with-title-page-filtered/'\n",
    "gs_dir = '/home/jvdzwaan/data/dbnl_ocr/raw/gs/'\n",
    "out_dir = '/home/jvdzwaan/data/dbnl_ocr/raw/ocr-without-title-page/'\n",
    "\n",
    "create_dirs(out_dir)\n",
    "\n",
    "ocr_files = get_files(ocr_dir)\n",
    "gs_files = get_files(gs_dir)\n",
    "\n",
    "print(len(ocr_files), len(gs_files))\n",
    "\n",
    "try_lines = (100, 500, 1000, 1500, 2000)\n",
    "\n",
    "for ocr, gs in tqdm(zip(ocr_files, gs_files), total=len(ocr_files)):\n",
    "    assert(os.path.basename(ocr) == os.path.basename(gs))\n",
    "    \n",
    "    for num_lines in try_lines:\n",
    "        new_ocr_text = remove_title_page(gs, ocr, num_lines=num_lines)\n",
    "        if new_ocr_text is not None:\n",
    "            break\n",
    "    \n",
    "    out = out_file_name(out_dir, ocr)\n",
    "    #print(out)\n",
    "    with open(out, 'w') as f:\n",
    "        try:\n",
    "            f.write(new_ocr_text)\n",
    "        except:\n",
    "            print(ocr)\n",
    "            failed.append((ocr, gs))\n",
    "print(len(failed))"
   ]
  }
 ],
 "metadata": {
  "language_info": {
   "name": "python",
   "pygments_lexer": "ipython3"
  }
 },
 "nbformat": 4,
 "nbformat_minor": 2
}
