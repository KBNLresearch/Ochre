{
 "cells": [
  {
   "cell_type": "code",
   "execution_count": null,
   "metadata": {},
   "outputs": [],
   "source": [
    "%load_ext autoreload\n",
    "%autoreload 2"
   ]
  },
  {
   "cell_type": "code",
   "execution_count": null,
   "metadata": {},
   "outputs": [],
   "source": [
    "%matplotlib inline\n",
    "\n",
    "import numpy as np\n",
    "import pandas as pd\n",
    "import matplotlib.pyplot as plt"
   ]
  },
  {
   "cell_type": "code",
   "execution_count": null,
   "metadata": {},
   "outputs": [],
   "source": [
    "data_gs = pd.read_csv('/home/jvdzwaan/data/dncvu/performance_gs_vs_2x256-lower-test_files.csv', index_col=0)\n",
    "#data_gs"
   ]
  },
  {
   "cell_type": "code",
   "execution_count": null,
   "metadata": {},
   "outputs": [],
   "source": [
    "data_2x256 = pd.read_csv('/home/jvdzwaan/data/dncvu/performance_gs_vs_2x256-lower-test_files.csv', index_col=0)\n",
    "#data_2x256"
   ]
  },
  {
   "cell_type": "code",
   "execution_count": null,
   "metadata": {},
   "outputs": [],
   "source": [
    "import json\n",
    "import codecs\n",
    "import glob\n",
    "import numpy as np\n",
    "import os\n",
    "\n",
    "# get test set\n",
    "with codecs.open('/home/jvdzwaan/data/dncvu/datadivision.json', encoding='utf-8') as f:\n",
    "    division = json.load(f)\n",
    "#print division.get('test')"
   ]
  },
  {
   "cell_type": "code",
   "execution_count": null,
   "metadata": {},
   "outputs": [],
   "source": [
    "test = ['{}-ds.gs_out'.format(os.path.splitext(s)[0]) for s in division.get('test')]\n",
    "#print test"
   ]
  },
  {
   "cell_type": "code",
   "execution_count": null,
   "metadata": {},
   "outputs": [],
   "source": [
    "data_bidir = pd.read_csv('/home/jvdzwaan/data/dncvu/performance_gs_vs_1x256-bidirect-lower-test_files.csv', index_col=0)\n",
    "#data_bidir"
   ]
  },
  {
   "cell_type": "code",
   "execution_count": null,
   "metadata": {},
   "outputs": [],
   "source": [
    "data_seq2seq = pd.read_csv('/home/jvdzwaan/data/dncvu/performance_gs_vs_256-seq2seq-lower-test_files.csv', index_col=0)\n",
    "#data_seq2seq"
   ]
  },
  {
   "cell_type": "code",
   "execution_count": null,
   "metadata": {},
   "outputs": [],
   "source": [
    "data_seq2seq_pred = pd.read_csv('/home/jvdzwaan/data/dncvu/performance_gs_vs_256_seq2seq-predict-lower-test_files.csv', index_col=0)\n",
    "#data_seq2seq_pred[data_seq2seq_pred['CER'] > 2]"
   ]
  },
  {
   "cell_type": "code",
   "execution_count": null,
   "metadata": {},
   "outputs": [],
   "source": [
    "data_seq2seq_emb_lower = pd.read_csv('/home/jvdzwaan/data/dncvu/performance_gs_vs_256_seq2seq_emb_lower.csv', index_col=0)\n",
    "#data_seq2seq_emb_lower"
   ]
  },
  {
   "cell_type": "code",
   "execution_count": null,
   "metadata": {},
   "outputs": [],
   "source": [
    "data_seq2seq_capitals = pd.read_csv('/home/jvdzwaan/data/dncvu/performance_gs_vs_256_seq2seq_captials.csv', index_col=0)\n",
    "#data_seq2seq_capitals"
   ]
  },
  {
   "cell_type": "code",
   "execution_count": null,
   "metadata": {},
   "outputs": [],
   "source": [
    "def results_df(df):\n",
    "    result = pd.DataFrame(df.mean(), columns=['mean'])\n",
    "    result['std'] = df.std()\n",
    "    result['min'] = df.min()\n",
    "    result['max'] = df.max()\n",
    "    return result"
   ]
  },
  {
   "cell_type": "code",
   "execution_count": null,
   "metadata": {},
   "outputs": [],
   "source": [
    "result = results_df(data_2x256)\n",
    "result"
   ]
  },
  {
   "cell_type": "code",
   "execution_count": null,
   "metadata": {},
   "outputs": [],
   "source": [
    "result_bidir = results_df(data_bidir)\n",
    "result_bidir"
   ]
  },
  {
   "cell_type": "code",
   "execution_count": null,
   "metadata": {},
   "outputs": [],
   "source": [
    "result_seq2seq = results_df(data_seq2seq)\n",
    "result_seq2seq.round(2)"
   ]
  },
  {
   "cell_type": "code",
   "execution_count": null,
   "metadata": {},
   "outputs": [],
   "source": [
    "result_seq2seq_pred = results_df(data_seq2seq_pred)\n",
    "result_seq2seq_pred"
   ]
  },
  {
   "cell_type": "code",
   "execution_count": null,
   "metadata": {},
   "outputs": [],
   "source": [
    "result_seq2seq_emb_lower = results_df(data_seq2seq_emb_lower)\n",
    "result_seq2seq_emb_lower"
   ]
  },
  {
   "cell_type": "code",
   "execution_count": null,
   "metadata": {},
   "outputs": [],
   "source": [
    "result_seq2seq_capitals = results_df(data_seq2seq_capitals)\n",
    "result_seq2seq_capitals"
   ]
  },
  {
   "cell_type": "code",
   "execution_count": null,
   "metadata": {},
   "outputs": [],
   "source": [
    "result_gs = results_df(data_gs)\n",
    "result_gs.round(2)"
   ]
  },
  {
   "cell_type": "code",
   "execution_count": null,
   "metadata": {},
   "outputs": [],
   "source": [
    "b = 100\n",
    "s = (15,5)"
   ]
  },
  {
   "cell_type": "code",
   "execution_count": null,
   "metadata": {},
   "outputs": [],
   "source": [
    "def make_histogram(df, column='CER', b=100, s=(15,5)):\n",
    "    p = df[column].hist(bins=b, figsize=s)\n",
    "    p.set_ylim((0,15))\n",
    "    p.set_xlim((0,12))"
   ]
  },
  {
   "cell_type": "code",
   "execution_count": null,
   "metadata": {},
   "outputs": [],
   "source": [
    "p = data_2x256['CER'].hist(bins=b, figsize=s)\n",
    "p.set_ylim((0,15))\n",
    "p.set_xlim((0,12))"
   ]
  },
  {
   "cell_type": "code",
   "execution_count": null,
   "metadata": {},
   "outputs": [],
   "source": [
    "data_2x256[data_2x256['CER'] < 1.0].shape"
   ]
  },
  {
   "cell_type": "code",
   "execution_count": null,
   "metadata": {},
   "outputs": [],
   "source": [
    "p = data_bidir['CER'].hist(bins=b, figsize=s)\n",
    "p.set_ylim((0,15))\n",
    "p.set_xlim((0,12))"
   ]
  },
  {
   "cell_type": "code",
   "execution_count": null,
   "metadata": {},
   "outputs": [],
   "source": [
    "data_bidir[data_bidir['CER'] < 1.0].shape"
   ]
  },
  {
   "cell_type": "code",
   "execution_count": null,
   "metadata": {},
   "outputs": [],
   "source": [
    "p = data_seq2seq['CER'].hist(bins=b, figsize=s)\n",
    "p.set_ylim((0,15))\n",
    "p.set_xlim((0,12))"
   ]
  },
  {
   "cell_type": "code",
   "execution_count": null,
   "metadata": {},
   "outputs": [],
   "source": [
    "data_seq2seq[data_seq2seq['CER'] < 1.0].shape"
   ]
  },
  {
   "cell_type": "code",
   "execution_count": null,
   "metadata": {},
   "outputs": [],
   "source": [
    "p = data_seq2seq_pred['CER'].hist(bins=b, figsize=s)\n",
    "p.set_ylim((0,15))\n",
    "p.set_xlim((0,12))"
   ]
  },
  {
   "cell_type": "code",
   "execution_count": null,
   "metadata": {},
   "outputs": [],
   "source": [
    "data_seq2seq_pred[data_seq2seq_pred['CER'] < 1.0].shape"
   ]
  },
  {
   "cell_type": "code",
   "execution_count": null,
   "metadata": {},
   "outputs": [],
   "source": [
    "p = data_seq2seq_emb_lower['CER'].hist(bins=b, figsize=s)\n",
    "p.set_ylim((0,15))\n",
    "p.set_xlim((0,12))"
   ]
  },
  {
   "cell_type": "code",
   "execution_count": null,
   "metadata": {},
   "outputs": [],
   "source": [
    "data_seq2seq_emb_lower[data_seq2seq_emb_lower['CER'] < 1.0].shape"
   ]
  },
  {
   "cell_type": "code",
   "execution_count": null,
   "metadata": {},
   "outputs": [],
   "source": [
    "make_histogram(data_seq2seq_capitals)"
   ]
  },
  {
   "cell_type": "code",
   "execution_count": null,
   "metadata": {},
   "outputs": [],
   "source": [
    "data_seq2seq_capitals[data_seq2seq_capitals['CER'] < 1.0].shape"
   ]
  },
  {
   "cell_type": "code",
   "execution_count": null,
   "metadata": {},
   "outputs": [],
   "source": [
    "p = data_seq2seq_emb_lower['CER'].hist(bins=b, figsize=s)\n",
    "p.set_ylim((0,15))\n",
    "p.set_xlim((0,12))"
   ]
  },
  {
   "cell_type": "code",
   "execution_count": null,
   "metadata": {},
   "outputs": [],
   "source": [
    "p = data_gs['CER'].hist(bins=b, figsize=s)\n",
    "p.set_ylim((0,15))\n",
    "p.set_xlim((0,12))"
   ]
  },
  {
   "cell_type": "code",
   "execution_count": null,
   "metadata": {},
   "outputs": [],
   "source": [
    "result_all['CER'].hist(bins=b, figsize=s)"
   ]
  },
  {
   "cell_type": "code",
   "execution_count": null,
   "metadata": {},
   "outputs": [],
   "source": [
    "data['WER'].hist(bins=b, figsize=s)"
   ]
  },
  {
   "cell_type": "code",
   "execution_count": null,
   "metadata": {},
   "outputs": [],
   "source": [
    "data_bidir['WER'].hist(bins=b, figsize=s)"
   ]
  },
  {
   "cell_type": "code",
   "execution_count": null,
   "metadata": {},
   "outputs": [],
   "source": [
    "result_all['WER'].hist(bins=b, figsize=s)"
   ]
  },
  {
   "cell_type": "code",
   "execution_count": null,
   "metadata": {},
   "outputs": [],
   "source": [
    "data['WER (order independent)'].hist(bins=b, figsize=s)"
   ]
  },
  {
   "cell_type": "code",
   "execution_count": null,
   "metadata": {},
   "outputs": [],
   "source": [
    "data_bidir['WER (order independent)'].hist(bins=b, figsize=s)"
   ]
  },
  {
   "cell_type": "code",
   "execution_count": null,
   "metadata": {},
   "outputs": [],
   "source": [
    "result_all['WER (order independent)'].hist(bins=b, figsize=s)"
   ]
  }
 ],
 "metadata": {
  "language_info": {
   "name": "python",
   "pygments_lexer": "ipython3"
  }
 },
 "nbformat": 4,
 "nbformat_minor": 2
}
