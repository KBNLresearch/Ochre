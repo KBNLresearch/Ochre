{
 "cells": [
  {
   "cell_type": "code",
   "execution_count": null,
   "metadata": {},
   "outputs": [],
   "source": [
    "%load_ext autoreload\n",
    "%autoreload 2"
   ]
  },
  {
   "cell_type": "code",
   "execution_count": null,
   "metadata": {},
   "outputs": [],
   "source": [
    "import pandas as pd\n",
    "from lxml import etree\n",
    "from tqdm import tqdm\n",
    "import re\n",
    "\n",
    "from nlppln.utils import get_files\n",
    "\n",
    "in_files = get_files('/home/jvdzwaan/Downloads/dbnl_ocr/xml/')\n",
    "print(len(in_files))"
   ]
  },
  {
   "cell_type": "code",
   "execution_count": null,
   "metadata": {},
   "outputs": [],
   "source": [
    "import os\n",
    "from codecs import open\n",
    "\n",
    "from nlppln.utils import out_file_name\n",
    "\n",
    "def replace_nbsp(fname, out_dir):\n",
    "    with open(fname, encoding='utf8') as f:\n",
    "        text = f.read()\n",
    "    text = text.replace('&nbsp;', '&#160;')\n",
    "    \n",
    "    out_file = out_file_name(out_dir, fname)\n",
    "    print(out_file)\n",
    "    with open(out_file, 'w', encoding='utf-8') as f:\n",
    "        f.write(text)\n"
   ]
  },
  {
   "cell_type": "code",
   "execution_count": null,
   "metadata": {},
   "outputs": [],
   "source": [
    "replace_nbsp(in_files[1], os.getcwd())"
   ]
  },
  {
   "cell_type": "code",
   "execution_count": null,
   "metadata": {},
   "outputs": [],
   "source": [
    "from collections import Counter\n",
    "\n",
    "def count_file(fname):\n",
    "    head = False\n",
    "    count_tags = Counter()\n",
    "    \n",
    "    context = etree.iterparse(fname, events=('end', ))\n",
    "    for event, elem in context:\n",
    "        count_tags[elem.tag] += 1\n",
    "        \n",
    "        # make iteration over context fast and consume less memory\n",
    "        #https://www.ibm.com/developerworks/xml/library/x-hiperfparse\n",
    "        elem.clear()\n",
    "        while elem.getprevious() is not None:\n",
    "            del elem.getparent()[0]\n",
    "    return count_tags"
   ]
  },
  {
   "cell_type": "code",
   "execution_count": null,
   "metadata": {},
   "outputs": [],
   "source": [
    "%%time\n",
    "\n",
    "counts = count_file('/home/jvdzwaan/code/ocr/notebooks/_aio001jver01_01.xml')\n",
    "for k, v in counts.most_common():\n",
    "    print(k, v)"
   ]
  }
 ],
 "metadata": {
  "language_info": {
   "name": "python",
   "pygments_lexer": "ipython3"
  }
 },
 "nbformat": 4,
 "nbformat_minor": 2
}
