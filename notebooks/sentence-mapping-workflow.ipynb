{
 "cells": [
  {
   "cell_type": "code",
   "execution_count": null,
   "metadata": {},
   "outputs": [],
   "source": [
    "%load_ext autoreload\n",
    "%autoreload 2"
   ]
  },
  {
   "cell_type": "code",
   "execution_count": null,
   "metadata": {},
   "outputs": [],
   "source": [
    "# to be used as subworkflow\n",
    "import nlppln\n",
    "import ochre\n",
    "import os\n",
    "\n",
    "with nlppln.WorkflowGenerator(working_dir='/home/jvdzwaan/cwl-working-dir/') as wf:\n",
    "    wf.load(steps_dir=ochre.cwl_path())\n",
    "    print(wf.list_steps())\n",
    "    \n",
    "    wf.set_documentation('This workflow is meant to be used as a subworkflow.')\n",
    "\n",
    "    gs_unnormalized = wf.add_input(gs_files='File[]')\n",
    "    ocr_unnormalized = wf.add_input(ocr_files='File[]')\n",
    "    language = wf.add_input(language='string')\n",
    "    lowercase = wf.add_input(lowercase='boolean?')\n",
    "    align_metadata = wf.add_input(align_m='string?')\n",
    "    align_changes = wf.add_input(align_c='string?')\n",
    "\n",
    "    gs = wf.normalize_whitespace_punctuation(meta_in=gs_unnormalized, scatter=['meta_in'], scatter_method='dotproduct')\n",
    "    ocr = wf.normalize_whitespace_punctuation(meta_in=ocr_unnormalized, scatter=['meta_in'], scatter_method='dotproduct')\n",
    "\n",
    "    alignments, changes, metadata = wf.align_texts_wf(gs=gs, ocr=ocr, align_c=align_changes, align_m=align_metadata)\n",
    "    \n",
    "    gs_saf = wf.pattern(in_file=gs, language=language, scatter='in_file', scatter_method='dotproduct')\n",
    "\n",
    "    sentences = wf.create_sentence_mappings(alignments=alignments, saf=gs_saf, lowercase=lowercase, \n",
    "                                       scatter=['alignments', 'saf'], scatter_method='dotproduct')\n",
    "\n",
    "    wf.add_outputs(sentences=sentences)\n",
    "    wf.save(os.path.join(ochre.cwl_path(), 'sentence-mapping-wf.cwl'), wd=True)"
   ]
  },
  {
   "cell_type": "code",
   "execution_count": null,
   "metadata": {},
   "outputs": [],
   "source": [
    "# create sentence mappings for directory\n",
    "import nlppln\n",
    "import ochre\n",
    "import os\n",
    "\n",
    "with nlppln.WorkflowGenerator(working_dir='/home/jvdzwaan/cwl-working-dir/') as wf:\n",
    "    wf.load(steps_dir=ochre.cwl_path())\n",
    "    print(wf.list_steps())\n",
    "    \n",
    "    gs_dir = wf.add_input(gs_dir='Directory')\n",
    "    ocr_dir = wf.add_input(ocr_dir='Directory')\n",
    "    language = wf.add_input(language='string')\n",
    "    lowercase = wf.add_input(lowercase='boolean?')\n",
    "    align_metadata = wf.add_input(align_m='string?')\n",
    "    align_changes = wf.add_input(align_c='string?')\n",
    "    sentence_mapping_dir = wf.add_input(out_dir_name='string?', default='sentences')\n",
    "\n",
    "    gs_files = wf.ls(in_dir=gs_dir)\n",
    "    ocr_files = wf.ls(in_dir=ocr_dir)\n",
    "\n",
    "    sentences = wf.sentence_mapping_wf(gs_files=gs_files, ocr_files=ocr_files, language=language, \n",
    "                                       lowercase=lowercase, align_c=align_changes, \n",
    "                                       align_m=align_metadata)\n",
    "    out_dir = wf.save_files_to_dir(dir_name=sentence_mapping_dir, in_files=sentences)\n",
    "\n",
    "    wf.add_outputs(sentence_dir=out_dir)\n",
    "    wf.save(os.path.join(ochre.cwl_path(), 'sentence-mapping-dir.cwl'), pack=True)"
   ]
  }
 ],
 "metadata": {
  "language_info": {
   "name": "python",
   "pygments_lexer": "ipython3"
  }
 },
 "nbformat": 4,
 "nbformat_minor": 2
}
