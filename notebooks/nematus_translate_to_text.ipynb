{
 "cells": [
  {
   "cell_type": "code",
   "execution_count": null,
   "metadata": {},
   "outputs": [],
   "source": [
    "%load_ext autoreload\n",
    "%autoreload 2"
   ]
  },
  {
   "cell_type": "code",
   "execution_count": null,
   "metadata": {},
   "outputs": [],
   "source": [
    "#%matplotlib inline\n",
    "\n",
    "import numpy as np\n",
    "import pandas as pd\n",
    "#import matplotlib.pyplot as plt"
   ]
  },
  {
   "cell_type": "code",
   "execution_count": null,
   "metadata": {},
   "outputs": [],
   "source": [
    "# read output file\n",
    "output_file = '/home/jvdzwaan/ownCloud/data/icdar2017st-sample/test.gs'\n",
    "\n",
    "sentences_output = []\n",
    "\n",
    "with open(output_file) as f:\n",
    "    for sentence in f:\n",
    "        characters = sentence.split()\n",
    "        s = []\n",
    "        for c in characters:\n",
    "            if c == '<SPACE>':\n",
    "                s.append(' ')\n",
    "            else:\n",
    "                s.append(c)\n",
    "        print(''.join(s))\n",
    "        sentences_output.append(s)\n",
    "len(sentences_output)"
   ]
  },
  {
   "cell_type": "code",
   "execution_count": null,
   "metadata": {},
   "outputs": [],
   "source": [
    "from collections import Counter\n",
    "\n",
    "from ochre.utils import align_characters\n",
    "\n",
    "idx = 0\n",
    "skip = 0\n",
    "counters = {}\n",
    "\n",
    "for i, c in enumerate(sentences_output[0]):\n",
    "    if not i in counters.keys():\n",
    "        counters[i] = Counter()\n",
    "    counters[i][c] += 1\n",
    "    print(counters[i])\n",
    "    \n",
    "\n",
    "for i, s in enumerate(sentences_output):\n",
    "    print(''.join(s))\n",
    "    if i != 0:\n",
    "        sentence = ''.join(s)\n",
    "        prev_sentence = ''.join(sentences_output[i-1])\n",
    "        r1, r2, cigar = align_characters(sentence, prev_sentence)\n",
    "        print(r1)\n",
    "        print(r2)\n",
    "        print(cigar)\n",
    "        \n",
    "        start = True\n",
    "        for j, (ch, d) in enumerate(zip(r2, cigar)):\n",
    "            print(repr(ch), repr(d), j, idx)\n",
    "            if ch == '' and start:\n",
    "                #idx += 1\n",
    "                #print('Increasing index', idx)\n",
    "                skip += 1\n",
    "                pass\n",
    "            else:\n",
    "                #start = False\n",
    "                \n",
    "                if not idx + j in counters.keys():\n",
    "                    counters[idx+j] = Counter()\n",
    "                counters[idx+j][ch] += 1\n",
    "                print(idx+j, counters[idx+j])\n",
    "        print('skip', skip)\n",
    "        idx += skip\n",
    "        skip = 0"
   ]
  },
  {
   "cell_type": "code",
   "execution_count": null,
   "metadata": {},
   "outputs": [],
   "source": [
    "# read input file\n",
    "output_file = '/home/jvdzwaan/ownCloud/data/icdar2017st-sample/test.ocr'\n",
    "\n",
    "sentences_input = []\n",
    "\n",
    "with open(output_file) as f:\n",
    "    for sentence in f:\n",
    "        characters = sentence.split()\n",
    "        s = []\n",
    "        for c in characters:\n",
    "            if c == '<SPACE>':\n",
    "                s.append(' ')\n",
    "            else:\n",
    "                s.append(c)\n",
    "        #print(''.join(s))\n",
    "        sentences_input.append(s)\n",
    "len(sentences_input)"
   ]
  },
  {
   "cell_type": "code",
   "execution_count": null,
   "metadata": {},
   "outputs": [],
   "source": [
    "print(sentences_output[0])"
   ]
  },
  {
   "cell_type": "code",
   "execution_count": null,
   "metadata": {},
   "outputs": [],
   "source": [
    "# hoe bepaal je waar tekst start en eindigt?\n",
    "# misschien is het slimmer om voor de test data per bestand een input file \n",
    "# te maken, dan hoef je daar niet over na te denken. -> (s)batch script dat over bestanden in een directory loopt\n"
   ]
  },
  {
   "cell_type": "code",
   "execution_count": null,
   "metadata": {},
   "outputs": [],
   "source": [
    "from collections import Counter\n",
    "\n",
    "from ochre.utils import align_output_to_input\n",
    "\n",
    "\n",
    "pad = u'\\n'\n",
    "idx = 0\n",
    "counters = {}\n",
    "\n",
    "for input_str, output_str in zip(sentences_input, sentences_output):\n",
    "    print(''.join(input_str),'<->', ''.join(output_str))\n",
    "    if len(input_str) != len(output_str):\n",
    "        output_str2 = align_output_to_input(''.join(input_str), ''.join(output_str),\n",
    "                                            empty_char=pad)\n",
    "    else:\n",
    "        output_str2 = output_str\n",
    "    print(''.join(input_str),'<->', ''.join(output_str2))\n",
    "    for i, (inp, outp) in enumerate(zip(input_str, output_str2)):\n",
    "        if not idx + i in counters.keys():\n",
    "            counters[idx+i] = Counter()\n",
    "        counters[idx+i][outp] += 1\n",
    "        print(idx+i, counters[idx+i])\n",
    "\n",
    "    idx += 1\n",
    "\n",
    "agg_out = []\n",
    "for idx, c in counters.items():\n",
    "    agg_out.append(c.most_common(1)[0][0])\n",
    "\n",
    "corrected_text = u''.join(agg_out)\n",
    "corrected_text = corrected_text.replace(pad, u'')"
   ]
  },
  {
   "cell_type": "code",
   "execution_count": null,
   "metadata": {},
   "outputs": [],
   "source": [
    "len(counters)"
   ]
  },
  {
   "cell_type": "code",
   "execution_count": null,
   "metadata": {},
   "outputs": [],
   "source": [
    "agg_out = []\n",
    "for idx, c in counters.items():\n",
    "    agg_out.append(c.most_common(1)[0][0])\n",
    "\n",
    "corrected_text = u''.join(agg_out)"
   ]
  },
  {
   "cell_type": "code",
   "execution_count": null,
   "metadata": {},
   "outputs": [],
   "source": [
    "corrected_text"
   ]
  }
 ],
 "metadata": {
  "language_info": {
   "name": "python",
   "pygments_lexer": "ipython3"
  }
 },
 "nbformat": 4,
 "nbformat_minor": 2
}
