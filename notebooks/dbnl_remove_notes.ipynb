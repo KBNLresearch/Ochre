{
 "cells": [
  {
   "cell_type": "code",
   "execution_count": null,
   "metadata": {},
   "outputs": [],
   "source": [
    "%load_ext autoreload\n",
    "%autoreload 2"
   ]
  },
  {
   "cell_type": "code",
   "execution_count": null,
   "metadata": {},
   "outputs": [],
   "source": [
    "%matplotlib inline\n",
    "\n",
    "import numpy as np\n",
    "import pandas as pd\n",
    "import matplotlib.pyplot as plt"
   ]
  },
  {
   "cell_type": "code",
   "execution_count": null,
   "metadata": {},
   "outputs": [],
   "source": [
    "import os\n",
    "from tqdm import tqdm_notebook as tqdm\n",
    "#from codecs import open\n",
    "from lxml import etree\n",
    "\n",
    "from nlppln.utils import out_file_name, create_dirs"
   ]
  },
  {
   "cell_type": "code",
   "execution_count": null,
   "metadata": {},
   "outputs": [],
   "source": [
    "with open('/home/jvdzwaan/data/dbnl_ocr/raw/ocr-with-title-page/_aio001jver01_01.txt') as f:\n",
    "    ls = f.readlines()\n",
    "\n",
    "with open('/home/jvdzwaan/data/dbnl_ocr/raw/notes/_aio001jver01_01.txt') as f:\n",
    "    notes = f.readlines()\n",
    "\n",
    "print(len(ls))\n",
    "print(len(notes))"
   ]
  },
  {
   "cell_type": "code",
   "execution_count": null,
   "metadata": {},
   "outputs": [],
   "source": [
    "# remove empty lines from lines\n",
    "lines = []\n",
    "\n",
    "for line in ls:\n",
    "    if line.strip() != '':\n",
    "        lines.append(line)\n",
    "print(len(lines))"
   ]
  },
  {
   "cell_type": "code",
   "execution_count": null,
   "metadata": {},
   "outputs": [],
   "source": [
    "lines = ls"
   ]
  },
  {
   "cell_type": "code",
   "execution_count": null,
   "metadata": {},
   "outputs": [],
   "source": [
    "lines[3239]"
   ]
  },
  {
   "cell_type": "code",
   "execution_count": null,
   "metadata": {},
   "outputs": [],
   "source": [
    "# filter notes shorter than threshold\n",
    "t = 6\n",
    "\n",
    "notes = [n for n in filter(lambda s: len(s.strip())>t, notes)]\n",
    "print(len(notes))"
   ]
  },
  {
   "cell_type": "code",
   "execution_count": null,
   "metadata": {},
   "outputs": [],
   "source": [
    "# unique notes with the repeated notes\n",
    "print(len(set(notes)))"
   ]
  },
  {
   "cell_type": "code",
   "execution_count": null,
   "metadata": {},
   "outputs": [],
   "source": [
    "# identieke notes die meerdere keren voorkomen\n",
    "from collections import Counter\n",
    "\n",
    "c = Counter()\n",
    "num_lines = 0\n",
    "\n",
    "for note in notes:\n",
    "    c[note] += 1\n",
    "\n",
    "repeated = []\n",
    "ns = []\n",
    "for k, v in c.most_common():\n",
    "    if v > 1:\n",
    "        num_lines += v\n",
    "        print(repr(k), v)\n",
    "        repeated.append(k)\n",
    "    else:\n",
    "        ns.append(k)\n",
    "print('total number of lines:', num_lines)"
   ]
  },
  {
   "cell_type": "code",
   "execution_count": null,
   "metadata": {},
   "outputs": [],
   "source": [
    "# unique notes without the repeated notes\n",
    "print(len(ns))"
   ]
  },
  {
   "cell_type": "code",
   "execution_count": null,
   "metadata": {},
   "outputs": [],
   "source": [
    "%%time\n",
    "# Calculate edit distance between repeated notes and lines\n",
    "import edlib\n",
    "\n",
    "# get initial edit distances per line\n",
    "line_data = pd.DataFrame()\n",
    "for i, n in enumerate(repeated):\n",
    "    line_data[i] = [edlib.align(n, line)['editDistance'] for line in lines]"
   ]
  },
  {
   "cell_type": "code",
   "execution_count": null,
   "metadata": {},
   "outputs": [],
   "source": [
    "%%time\n",
    "# delete lines that have sufficient overlap with note text\n",
    "\n",
    "def get_lines(column, t):\n",
    "    #print(list(column[column < t].index))\n",
    "    return list(column[column < t].index)\n",
    "\n",
    "t = 0.3\n",
    "\n",
    "lengths = [len(x) for x in lines]\n",
    "ld = line_data.apply(lambda c: c/lengths)"
   ]
  },
  {
   "cell_type": "code",
   "execution_count": null,
   "metadata": {},
   "outputs": [],
   "source": [
    "ld"
   ]
  },
  {
   "cell_type": "code",
   "execution_count": null,
   "metadata": {},
   "outputs": [],
   "source": [
    "c = 0\n",
    "t = 0.4\n",
    "ld[ld[c] < t][c]"
   ]
  },
  {
   "cell_type": "code",
   "execution_count": null,
   "metadata": {},
   "outputs": [],
   "source": [
    "to_remove = [ids for ids in ld.apply(lambda c: get_lines(c, t))]\n",
    "to_remove = list(set([item for sublist in to_remove for item in sublist]))\n",
    "print(len(to_remove))"
   ]
  },
  {
   "cell_type": "code",
   "execution_count": null,
   "metadata": {},
   "outputs": [],
   "source": [
    "to_remove.sort()\n",
    "print(to_remove)"
   ]
  },
  {
   "cell_type": "code",
   "execution_count": null,
   "metadata": {},
   "outputs": [],
   "source": [
    "ls = lines\n",
    "lines = []\n",
    "for i, line in enumerate(ls):\n",
    "    if i not in to_remove:\n",
    "        lines.append(line)\n",
    "print(len(lines))"
   ]
  },
  {
   "cell_type": "code",
   "execution_count": null,
   "metadata": {},
   "outputs": [],
   "source": [
    "%%time\n",
    "# Calculate edit distance between remaining notes and lines\n",
    "import edlib\n",
    "\n",
    "notes = ns\n",
    "\n",
    "# get initial edit distances per line\n",
    "line_data = pd.DataFrame()\n",
    "for i, n in enumerate(notes):\n",
    "    line_data[i] = [edlib.align(n, line)['editDistance'] for line in lines]"
   ]
  },
  {
   "cell_type": "code",
   "execution_count": null,
   "metadata": {},
   "outputs": [],
   "source": [
    "line_data"
   ]
  },
  {
   "cell_type": "code",
   "execution_count": null,
   "metadata": {},
   "outputs": [],
   "source": [
    "%%time\n",
    "import math\n",
    "import copy\n",
    "import edlib\n",
    "\n",
    "ns = [{'note': n, 'ed': line_data[i].min(), 'fragment': lines[i], 'l': 1, \n",
    "       'lines': line_data[i].sort_values().index[:100]} for i, n in enumerate(notes)]\n",
    "l = 2\n",
    "num_changed = len(ns)"
   ]
  },
  {
   "cell_type": "code",
   "execution_count": null,
   "metadata": {},
   "outputs": [],
   "source": [
    "def ngrams(tokens, n=3):\n",
    "    ngrams = zip(*[tokens[i:] for i in range(n)])  \n",
    "    return [ngram for ngram in ngrams]\n",
    "\n",
    "ngrams(['1', '2', '3', '4', '5', '6'])"
   ]
  },
  {
   "cell_type": "code",
   "execution_count": null,
   "metadata": {},
   "outputs": [],
   "source": [
    "%%time\n",
    "import math\n",
    "import copy\n",
    "import edlib\n",
    "\n",
    "l = 2\n",
    "num_changed = len(ns)\n",
    "\n",
    "while num_changed >= 1:\n",
    "    num_changed = 0\n",
    "    num_checked = 0\n",
    "    print(l)\n",
    "    for n in ns:\n",
    "        if n['l']+1 >= l:\n",
    "            num_checked += 1\n",
    "            note = n['note']\n",
    "    \n",
    "            for ngram in ngrams(range(len(lines)), n=l):\n",
    "                test = False\n",
    "                for lineno in ngram:\n",
    "                    if lineno in n['lines']:\n",
    "                        test = True\n",
    "                if test:\n",
    "                    #print(ngram)\n",
    "                    #print(n)\n",
    "                    #print(txt)\n",
    "                    txt = ''.join([lines[i] for i in ngram])\n",
    "                    res = edlib.align(note, txt)\n",
    "                    ed = res['editDistance']\n",
    "                    #print(ed)\n",
    "                    if ed < n['ed']:\n",
    "                        n['ed'] = ed\n",
    "                        n['fragment'] = txt\n",
    "                        n['l'] = l\n",
    "                        num_changed += 1\n",
    "                        \n",
    "                    #print(ngram)\n",
    "                    #print(res['editDistance'])\n",
    "                    #print('---')\n",
    "\n",
    "            #import sys\n",
    "            #sys.exit()\n",
    "            #print('note:', note)\n",
    "            #print('fragment:', fragment)\n",
    "            #print('editdistance:', min_val)\n",
    "            #print('-----')\n",
    "    print('num checked', num_checked)\n",
    "    print('num changed', num_changed)\n",
    "    l += 1"
   ]
  },
  {
   "cell_type": "code",
   "execution_count": null,
   "metadata": {},
   "outputs": [],
   "source": [
    "lines.index('1) Hs. u met eene o er boven. \\n')"
   ]
  },
  {
   "cell_type": "code",
   "execution_count": null,
   "metadata": {},
   "outputs": [],
   "source": [
    "for n in ns:\n",
    "    if n['l'] == 27:\n",
    "        print(n['note'])\n",
    "        print('---')\n",
    "        print(n['fragment'])\n",
    "        print('---')\n",
    "        print(n['ed'])\n",
    "        print(n['l'])\n",
    "        print(n['lines'])\n",
    "        print('-----')"
   ]
  },
  {
   "cell_type": "code",
   "execution_count": null,
   "metadata": {},
   "outputs": [],
   "source": [
    "for n in ns:\n",
    "    if n['ed'] > 200:\n",
    "        print(n['note'])\n",
    "        print('---')\n",
    "        print(n['fragment'])\n",
    "        print('---')\n",
    "        print(n['ed'])\n",
    "        print(n['l'])\n",
    "        print('-----')"
   ]
  },
  {
   "cell_type": "code",
   "execution_count": null,
   "metadata": {},
   "outputs": [],
   "source": [
    "eds = [n['ed'] for n in ns]\n",
    "#print(eds)\n",
    "plt.figure(figsize=(15,10))\n",
    "plt.hist(eds, 100)"
   ]
  },
  {
   "cell_type": "code",
   "execution_count": null,
   "metadata": {},
   "outputs": [],
   "source": [
    "# identieke notes die meerdere keren voorkomen\n",
    "from collections import Counter\n",
    "\n",
    "c = Counter()\n",
    "num_lines = 0\n",
    "\n",
    "for note in notes:\n",
    "    c[note] += 1\n",
    "\n",
    "repeated = []\n",
    "ns = []\n",
    "for k, v in c.most_common():\n",
    "    if v > 1:\n",
    "        num_lines += v\n",
    "        print(repr(k), v)\n",
    "        repeated.append(k)\n",
    "    else:\n",
    "        ns.append(k)\n",
    "print('total number of lines:', num_lines)"
   ]
  },
  {
   "cell_type": "code",
   "execution_count": null,
   "metadata": {},
   "outputs": [],
   "source": [
    "%%time\n",
    "# Calculate overlap between repeated notes and lines\n",
    "from fuzzywuzzy import fuzz\n",
    "\n",
    "line_data = pd.DataFrame()\n",
    "for i, n in enumerate(repeated):\n",
    "    line_data[i] = [fuzz.partial_ratio(line, n) for line in lines]"
   ]
  },
  {
   "cell_type": "code",
   "execution_count": null,
   "metadata": {},
   "outputs": [],
   "source": [
    "line_data"
   ]
  },
  {
   "cell_type": "code",
   "execution_count": null,
   "metadata": {},
   "outputs": [],
   "source": [
    "for i in line_data.columns:\n",
    "    print(i)\n",
    "    print(line_data[line_data[i].sort_values(ascending=False) > 90].shape)"
   ]
  },
  {
   "cell_type": "code",
   "execution_count": null,
   "metadata": {},
   "outputs": [],
   "source": [
    "def get_lines(column, t):\n",
    "    #print(list(column[column < t].index))\n",
    "    return list(column[column > t].index)\n",
    "\n",
    "t = 90\n",
    "\n",
    "to_remove = line_data.apply(lambda c: get_lines(c, t))\n",
    "print(to_remove)"
   ]
  },
  {
   "cell_type": "code",
   "execution_count": null,
   "metadata": {},
   "outputs": [],
   "source": [
    "to_remove = list(set([item for sublist in to_remove for item in sublist]))\n",
    "print(len(to_remove))"
   ]
  },
  {
   "cell_type": "code",
   "execution_count": null,
   "metadata": {},
   "outputs": [],
   "source": []
  },
  {
   "cell_type": "code",
   "execution_count": null,
   "metadata": {},
   "outputs": [],
   "source": [
    "print(len(lines))"
   ]
  },
  {
   "cell_type": "code",
   "execution_count": null,
   "metadata": {},
   "outputs": [],
   "source": [
    "ls = lines\n",
    "lines = []\n",
    "for i, line in enumerate(ls):\n",
    "    if i not in to_remove:\n",
    "        lines.append(line)\n",
    "print(len(lines))"
   ]
  },
  {
   "cell_type": "code",
   "execution_count": null,
   "metadata": {},
   "outputs": [],
   "source": [
    "%%time\n",
    "# Calculate overlap between remaining notes and lines\n",
    "from fuzzywuzzy import fuzz\n",
    "\n",
    "line_data = pd.DataFrame()\n",
    "for i, n in enumerate(notes):\n",
    "    line_data[i] = [fuzz.partial_ratio(line, n) for line in lines]"
   ]
  },
  {
   "cell_type": "code",
   "execution_count": null,
   "metadata": {},
   "outputs": [],
   "source": [
    "%%time\n",
    "# Calculate overlap between remaining notes and lines\n",
    "from py_stringmatching.similarity_measure.partial_ratio import PartialRatio\n",
    "pr = PartialRatio()\n",
    "\n",
    "line_data = pd.DataFrame()\n",
    "for i, n in enumerate(notes):\n",
    "    line_data[i] = [pr.get_raw_score(line, n) for line in lines]"
   ]
  },
  {
   "cell_type": "code",
   "execution_count": null,
   "metadata": {},
   "outputs": [],
   "source": [
    "%%time\n",
    "# Calculate edit distance between remaining notes and lines\n",
    "import edlib\n",
    "\n",
    "# get initial edit distances per line\n",
    "line_data = pd.DataFrame()\n",
    "for i, n in enumerate(notes):\n",
    "    line_data[i] = [edlib.align(n, line)['editDistance'] for line in lines]"
   ]
  },
  {
   "cell_type": "code",
   "execution_count": null,
   "metadata": {},
   "outputs": [],
   "source": [
    "def extend_lines(indexes, length, num=3):\n",
    "    #print('start')\n",
    "    #print(indexes)\n",
    "    #print('num:', num)\n",
    "    result = []\n",
    "    for i in indexes:\n",
    "        #print('i', i)\n",
    "        result.append(i)\n",
    "        # lines before i\n",
    "        start = max(0, i-num)      \n",
    "        to_add = list(range(start, i))\n",
    "        for n in to_add:\n",
    "            result.append(n)\n",
    "        #print(to_add)\n",
    "        \n",
    "        # lines after i\n",
    "        end = min(length, i+num+1)\n",
    "        #print('end', end)\n",
    "        to_add = list(range(i, end))\n",
    "        for n in to_add:\n",
    "            result.append(n)\n",
    "        #print(to_add)\n",
    "        #print('---')\n",
    "            \n",
    "    result = list(set(result))\n",
    "    result.sort()\n",
    "            \n",
    "    return(result)\n",
    "        \n",
    "extend_lines([5], 6)"
   ]
  },
  {
   "cell_type": "code",
   "execution_count": null,
   "metadata": {},
   "outputs": [],
   "source": [
    "list(range(4,3))"
   ]
  },
  {
   "cell_type": "code",
   "execution_count": null,
   "metadata": {},
   "outputs": [],
   "source": [
    "l = list(line_data[0].sort_values().index[:100])\n",
    "r = extend_lines(l, len(lines))\n",
    "print(len(l), len(r))"
   ]
  },
  {
   "cell_type": "code",
   "execution_count": null,
   "metadata": {},
   "outputs": [],
   "source": [
    "%%time\n",
    "ns = [{'note': n, 'lines': extend_lines(list(line_data[i].sort_values().index[:100]), len(lines)), 'selected': [], 'scores': []} \n",
    "          for i, n in enumerate(notes)]"
   ]
  },
  {
   "cell_type": "code",
   "execution_count": null,
   "metadata": {},
   "outputs": [],
   "source": [
    "for n in ns:\n",
    "    print(len(n['lines']))"
   ]
  },
  {
   "cell_type": "code",
   "execution_count": null,
   "metadata": {},
   "outputs": [],
   "source": [
    "%%time\n",
    "\n",
    "for n in ns:\n",
    "    ls = n['lines']\n",
    "    ls.sort()\n",
    "    note = n['note']\n",
    "    for idx in ls:\n",
    "        r = fuzz.partial_ratio(lines[idx], note)\n",
    "        n['scores'].append(r)\n",
    "        \n",
    "        if r > 90:\n",
    "            n['selected'].append(idx)"
   ]
  },
  {
   "cell_type": "code",
   "execution_count": null,
   "metadata": {},
   "outputs": [],
   "source": [
    "added = 0\n",
    "for i, note in enumerate(ns):\n",
    "    #print(note['selected'])\n",
    "    #print(note['lines'])\n",
    "\n",
    "    if note['selected'] != []:\n",
    "        n = note['selected'][-1] + 1\n",
    "        add = range(n, n+3)\n",
    "        for a in add:\n",
    "            if a in note['lines']:\n",
    "                idx = note['lines'].index(a)\n",
    "                #print(idx)\n",
    "                #print(note['scores'][idx], lines[add])\n",
    "                #print(note['scores'][idx+1], lines[add+1])\n",
    "                #print(note['scores'][idx+2], lines[add+2])\n",
    "                if note['scores'][idx] > 80:\n",
    "                    note['selected'].append(a)\n",
    "                    print(i)\n",
    "                    added += 1\n",
    "print(added)"
   ]
  },
  {
   "cell_type": "code",
   "execution_count": null,
   "metadata": {},
   "outputs": [],
   "source": [
    "ns[173]"
   ]
  },
  {
   "cell_type": "code",
   "execution_count": null,
   "metadata": {},
   "outputs": [],
   "source": [
    "lines[2456]"
   ]
  },
  {
   "cell_type": "code",
   "execution_count": null,
   "metadata": {},
   "outputs": [],
   "source": [
    "for i, n in enumerate(ns):\n",
    "    print(i)\n",
    "    print(n['note'])\n",
    "    print('---')\n",
    "    print(n['selected'])\n",
    "    for idx in n['selected']:\n",
    "        print(lines[idx])\n",
    "    print('-'*80)"
   ]
  },
  {
   "cell_type": "code",
   "execution_count": null,
   "metadata": {},
   "outputs": [],
   "source": [
    "plt.figure(figsize=(15,10))\n",
    "plt.plot(ns[11]['lines'][:100], ns[11]['scores'][:100], 100)"
   ]
  },
  {
   "cell_type": "code",
   "execution_count": null,
   "metadata": {},
   "outputs": [],
   "source": [
    "note = ns[11]\n",
    "#print(note['selected'])\n",
    "#print(note['lines'])\n",
    "\n",
    "add = note['selected'][-1] + 1\n",
    "if add in note['lines']:\n",
    "    idx = note['lines'].index(add)\n",
    "    #print(idx)\n",
    "    #print(note['scores'][idx], lines[add])\n",
    "    #print(note['scores'][idx+1], lines[add+1])\n",
    "    #print(note['scores'][idx+2], lines[add+2])\n",
    "    if note['scores'][idx] > 80:\n",
    "        note['selected'].append(add)"
   ]
  },
  {
   "cell_type": "code",
   "execution_count": null,
   "metadata": {},
   "outputs": [],
   "source": [
    "print(note['selected'])"
   ]
  },
  {
   "cell_type": "code",
   "execution_count": null,
   "metadata": {},
   "outputs": [],
   "source": [
    "fuzz.partial_ratio('hooren van Aiols naam (Fransche tekst vs. 7190 vlgg.). ', \n",
    "                   'hooren van Aiols naam (Fransche tekst vs. 7190 vlgg.).')"
   ]
  },
  {
   "cell_type": "code",
   "execution_count": null,
   "metadata": {},
   "outputs": [],
   "source": [
    "fuzz.partial_ratio('side. - 179 Hs. IIII.', \n",
    "                   'side. — 179 GIs. IIII.')"
   ]
  },
  {
   "cell_type": "code",
   "execution_count": null,
   "metadata": {},
   "outputs": [],
   "source": [
    "%%time\n",
    "from nlppln.utils import create_dirs, out_file_name\n",
    "\n",
    "in_file = '/home/jvdzwaan/data/dbnl_ocr/raw/ocr-with-title-page/_aio001jver01_01.txt'\n",
    "\n",
    "# remove selected lines\n",
    "with open(in_file) as f:\n",
    "    text = f.read()\n",
    "\n",
    "for n in ns:\n",
    "    for idx in n['selected']:\n",
    "        #print(idx)\n",
    "        l = lines[idx]\n",
    "        \n",
    "        text = text.replace(l, '')\n",
    "\n",
    "out_dir = '/home/jvdzwaan/data/dbnl_ocr/raw/ocr'\n",
    "create_dirs(out_dir)\n",
    "out = out_file_name(out_dir, in_file)\n",
    "print(out)\n",
    "with open(out, 'w') as f:\n",
    "    f.write(text)"
   ]
  },
  {
   "cell_type": "code",
   "execution_count": null,
   "metadata": {},
   "outputs": [],
   "source": [
    "print(to_remove)"
   ]
  },
  {
   "cell_type": "code",
   "execution_count": null,
   "metadata": {},
   "outputs": [],
   "source": [
    "lines[43]"
   ]
  },
  {
   "cell_type": "code",
   "execution_count": null,
   "metadata": {},
   "outputs": [],
   "source": [
    "%%time\n",
    "import edlib\n",
    "\n",
    "import pandas as pd\n",
    "\n",
    "from collections import Counter\n",
    "from fuzzywuzzy import fuzz\n",
    "\n",
    "def split_notes(notes):\n",
    "    c = Counter()\n",
    "    num_lines = 0\n",
    "\n",
    "    for note in notes:\n",
    "        c[note] += 1\n",
    "\n",
    "    repeated = []\n",
    "    ns = []\n",
    "    for k, v in c.most_common():\n",
    "        if v > 1:\n",
    "            num_lines += v\n",
    "            #print(repr(k), v)\n",
    "            repeated.append(k)\n",
    "        else:\n",
    "            ns.append(k)\n",
    "    #print('total number of lines:', num_lines)\n",
    "    \n",
    "    return ns, repeated\n",
    "\n",
    "def get_lines(column, threshold):\n",
    "    return list(column[column > threshold].index)\n",
    "\n",
    "\n",
    "def extend_lines(indexes, length, num=3):\n",
    "    #print('start')\n",
    "    #print(indexes)\n",
    "    #print('num:', num)\n",
    "    result = []\n",
    "    for i in indexes:\n",
    "        #print('i', i)\n",
    "        result.append(i)\n",
    "        # lines before i\n",
    "        start = max(0, i-num)      \n",
    "        to_add = list(range(start, i))\n",
    "        for n in to_add:\n",
    "            result.append(n)\n",
    "        #print(to_add)\n",
    "        \n",
    "        # lines after i\n",
    "        end = min(length, i+num+1)\n",
    "        #print('end', end)\n",
    "        to_add = list(range(i, end))\n",
    "        for n in to_add:\n",
    "            result.append(n)\n",
    "        #print(to_add)\n",
    "        #print('---')\n",
    "            \n",
    "    result = list(set(result))\n",
    "    result.sort()\n",
    "            \n",
    "    return(result)\n",
    "\n",
    "\n",
    "def remove_notes(ocr_file, notes_file, out_dir):\n",
    "    with open(ocr_file) as f:\n",
    "        ls = f.readlines()\n",
    "\n",
    "    with open(notes_file) as f:\n",
    "        notes = f.readlines()\n",
    "        \n",
    "    # remove empty lines\n",
    "    lines = []\n",
    "\n",
    "    for line in ls:\n",
    "        if line.strip() != '':\n",
    "            lines.append(line)\n",
    "    #print(len(lines))\n",
    "    \n",
    "    # get repeated notes\n",
    "    ns, repeated = split_notes(notes)\n",
    "    \n",
    "    print('processing repeated notes')\n",
    "\n",
    "    # Calculate overlap between repeated notes and lines\n",
    "    line_data = pd.DataFrame()\n",
    "    for i, n in enumerate(repeated):\n",
    "        line_data[i] = [fuzz.partial_ratio(line, n) for line in lines]\n",
    "\n",
    "    # get the line numbers of the repeated notes that should be removed\n",
    "    t = 90\n",
    "    to_remove_repeated = line_data.apply(lambda c: get_lines(c, t))\n",
    "    to_remove_repeated = list(set([item for sublist in to_remove_repeated for item in sublist]))\n",
    "\n",
    "    print('Processing other notes')\n",
    "    \n",
    "    # get initial edit distances per line\n",
    "    # uses edlib for speed\n",
    "    print('Calculating distances with edlib')\n",
    "    line_data = pd.DataFrame()\n",
    "    for i, n in enumerate(notes):\n",
    "        line_data[i] = [edlib.align(n, line)['editDistance'] for line in lines]\n",
    "    \n",
    "    # select the top 100 lines with smallest edit distances for further processing \n",
    "    ns = [{'note': n, \n",
    "           'lines': extend_lines(list(line_data[i].sort_values().index[:100]), len(lines)), \n",
    "           'selected': [], \n",
    "           'scores': []} \n",
    "          for i, n in enumerate(notes)]\n",
    "    \n",
    "    print('Calculating distances with fuzzywuzzy')\n",
    "    # use partial_ratio to select the lines that should be deleted\n",
    "    for n in ns:\n",
    "        ls = n['lines']\n",
    "        ls.sort()\n",
    "        note = n['note']\n",
    "        for idx in ls:\n",
    "            r = fuzz.partial_ratio(lines[idx], note)\n",
    "            n['scores'].append(r)\n",
    "        \n",
    "            if r > 90:\n",
    "                n['selected'].append(idx)\n",
    "    \n",
    "    print('Adding missing lines')\n",
    "    # add missing (usually short) lines at the end of selected pieces of text\n",
    "    added = 0\n",
    "    for i, note in enumerate(ns):\n",
    "        #print(note['selected'])\n",
    "        #print(note['lines'])\n",
    "\n",
    "        if note['selected'] != []:\n",
    "            n = note['selected'][-1] + 1\n",
    "            add = range(n, n+3)\n",
    "            for a in add:\n",
    "                if a in note['lines']:\n",
    "                    idx = note['lines'].index(a)\n",
    "                    #print(idx)\n",
    "                    #print(note['scores'][idx], lines[add])\n",
    "                    #print(note['scores'][idx+1], lines[add+1])\n",
    "                    #print(note['scores'][idx+2], lines[add+2])\n",
    "                    if note['scores'][idx] > 80:\n",
    "                        note['selected'].append(a)\n",
    "                        #print(i)\n",
    "                        added += 1\n",
    "    if added > 0:\n",
    "        print('{} lines added to be removed.'.format(added))\n",
    "    \n",
    "    print('Removing notes')\n",
    "    # get the ocr text\n",
    "    with open(ocr_file) as f:\n",
    "        text = f.read()\n",
    "        \n",
    "    for idx in to_remove_repeated:\n",
    "        l = lines[idx]\n",
    "        text = text.replace(l, '')\n",
    "\n",
    "    for n in ns:\n",
    "        for idx in n['selected']:\n",
    "            #print(idx)\n",
    "            l = lines[idx]\n",
    "            text = text.replace(l, '')\n",
    "\n",
    "    # save result\n",
    "    create_dirs(out_dir)\n",
    "    out = out_file_name(out_dir, ocr_file)\n",
    "    #print(out)\n",
    "    with open(out, 'w') as f:\n",
    "        f.write(text)\n",
    "\n",
    "#remove_notes('/home/jvdzwaan/data/dbnl_ocr/raw/ocr-with-title-page/_aio001jver01_01.txt', \n",
    "#             '/home/jvdzwaan/data/dbnl_ocr/raw/notes/_aio001jver01_01.txt',\n",
    "#             '/home/jvdzwaan/data/dbnl_ocr/raw/ocr')"
   ]
  },
  {
   "cell_type": "code",
   "execution_count": null,
   "metadata": {},
   "outputs": [],
   "source": [
    "import os\n",
    "\n",
    "from tqdm import tqdm_notebook as tqdm\n",
    "\n",
    "from nlppln.utils import get_files, out_file_name\n",
    "\n",
    "in_dir = '/home/jvdzwaan/data/dbnl_ocr/raw/ocr-without-title-page/'\n",
    "notes_dir = '/home/jvdzwaan/data/dbnl_ocr/raw/notes/'\n",
    "out_dir = '/home/jvdzwaan/data/dbnl_ocr/raw/ocr'\n",
    "\n",
    "in_files = get_files(in_dir)\n",
    "\n",
    "for in_file in tqdm(in_files):\n",
    "    # needs to be prcessed?\n",
    "    out = out_file_name(out_dir, in_file)\n",
    "    if not os.path.isfile(out):\n",
    "        # is there a notes file?\n",
    "        notes_file = os.path.join(notes_dir, os.path.basename(in_file))\n",
    "        if os.path.isfile(notes_file):\n",
    "            print('processing', in_file)\n",
    "            remove_notes(in_file, notes_file, out_dir)"
   ]
  }
 ],
 "metadata": {
  "language_info": {
   "name": "python",
   "pygments_lexer": "ipython3"
  }
 },
 "nbformat": 4,
 "nbformat_minor": 2
}
