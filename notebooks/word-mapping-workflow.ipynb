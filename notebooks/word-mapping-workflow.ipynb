{
 "cells": [
  {
   "cell_type": "code",
   "execution_count": null,
   "metadata": {},
   "outputs": [],
   "source": [
    "%load_ext autoreload\n",
    "%autoreload 2"
   ]
  },
  {
   "cell_type": "code",
   "execution_count": null,
   "metadata": {},
   "outputs": [],
   "source": [
    "import nlppln\n",
    "\n",
    "with nlppln.WorkflowGenerator() as wf:\n",
    "    wf.load(steps_dir='../cwl/')\n",
    "    print(wf.list_steps())\n",
    "\n",
    "    gs_dir = wf.add_input(gs_dir='Directory')\n",
    "    ocr_dir = wf.add_input(ocr_dir='Directory')\n",
    "    lowercase = wf.add_input(lowercase='boolean?')\n",
    "    align_metadata = wf.add_input(align_m='string?')\n",
    "    align_changes = wf.add_input(align_c='string?')\n",
    "    word_mapping_name = wf.add_input(wm_name='string?')\n",
    "\n",
    "    gs_unnormalized = wf.ls(in_dir=gs_dir)\n",
    "    ocr_unnormalized = wf.ls(in_dir=ocr_dir)\n",
    "\n",
    "    gs = wf.normalize_whitespace_punctuation(meta_in=gs_unnormalized, scatter=['meta_in'], scatter_method='dotproduct')\n",
    "    ocr = wf.normalize_whitespace_punctuation(meta_in=ocr_unnormalized, scatter=['meta_in'], scatter_method='dotproduct')\n",
    "\n",
    "    alignments, changes, metadata = wf.align_texts_wf(gs=gs, ocr=ocr, align_c=align_changes, align_m=align_metadata)\n",
    "\n",
    "    mappings = wf.create_word_mappings(alignments=alignments, txt=gs, lowercase=lowercase, \n",
    "                                       scatter=['alignments', 'txt'], scatter_method='dotproduct')\n",
    "    merged = wf.merge_csv(in_files=mappings, name=word_mapping_name)\n",
    "\n",
    "    wf.add_outputs(wm_mapping=merged)\n",
    "    wf.add_outputs(txt_files=mappings)\n",
    "    wf.save('../cwl/word-mapping-wf.cwl')"
   ]
  },
  {
   "cell_type": "code",
   "execution_count": null,
   "metadata": {},
   "outputs": [],
   "source": [
    "# create word mappings for test data\n",
    "import nlppln\n",
    "\n",
    "with nlppln.WorkflowGenerator() as wf:\n",
    "    wf.load(steps_dir='../cwl/')\n",
    "    print(wf.list_steps())\n",
    "\n",
    "    gs_dir = wf.add_input(gs_dir='Directory')\n",
    "    ocr_dir = wf.add_input(ocr_dir='Directory')\n",
    "    gs_dir_name = wf.add_input(gs_dir_name='string', default='gs')\n",
    "    ocr_dir_name = wf.add_input(ocr_dir_name='string', default='ocr')\n",
    "    data_div = wf.add_input(data_div='File')\n",
    "    lowercase = wf.add_input(lowercase='boolean?')\n",
    "    align_metadata = wf.add_input(align_m='string?')\n",
    "    align_changes = wf.add_input(align_c='string?')\n",
    "    word_mapping_name = wf.add_input(wm_name='string?')\n",
    "\n",
    "    test_gs = wf.select_test_files(datadivision=data_div, in_dir=gs_dir)\n",
    "    test_ocr = wf.select_test_files(datadivision=data_div, in_dir=ocr_dir)\n",
    "\n",
    "    gs_dir = wf.save_files_to_dir(dir_name=gs_dir_name, in_files=test_gs)\n",
    "    ocr_dir = wf.save_files_to_dir(dir_name=ocr_dir_name, in_files=test_ocr)\n",
    "\n",
    "    txt_files, wm_mapping = wf.word_mapping_wf(gs_dir=gs_dir, ocr_dir=ocr_dir, lowercase=lowercase, align_c=align_changes, align_m=align_metadata, wm_name=word_mapping_name)\n",
    "\n",
    "    wf.add_outputs(wm_mapping=wm_mapping)\n",
    "    wf.add_outputs(txt_files=txt_files)\n",
    "    wf.save('../cwl/word-mapping-test-files-wf.cwl')"
   ]
  }
 ],
 "metadata": {
  "language_info": {
   "name": "python",
   "pygments_lexer": "ipython3"
  }
 },
 "nbformat": 4,
 "nbformat_minor": 2
}
