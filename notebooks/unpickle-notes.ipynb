{
 "cells": [
  {
   "cell_type": "code",
   "execution_count": null,
   "metadata": {},
   "outputs": [],
   "source": [
    "%load_ext autoreload\n",
    "%autoreload 2"
   ]
  },
  {
   "cell_type": "code",
   "execution_count": null,
   "metadata": {},
   "outputs": [],
   "source": [
    "%matplotlib inline\n",
    "\n",
    "import numpy as np\n",
    "import pandas as pd\n",
    "import matplotlib.pyplot as plt"
   ]
  },
  {
   "cell_type": "code",
   "execution_count": null,
   "metadata": {},
   "outputs": [],
   "source": [
    "import pickle\n",
    "import os\n",
    "from tqdm import tqdm_notebook as tqdm\n",
    "#from codecs import open\n",
    "from lxml import etree\n",
    "\n",
    "from nlppln.utils import out_file_name, create_dirs"
   ]
  },
  {
   "cell_type": "code",
   "execution_count": null,
   "metadata": {},
   "outputs": [],
   "source": [
    "class Note():\n",
    "    def __init__(self, text, index, source_text_length):\n",
    "        self.index = index\n",
    "        self.text = text\n",
    "        self.source_text_length = source_text_length\n",
    "        self.lines_to_check = []\n",
    "        self.lines = []\n",
    "        \n",
    "        self.previous = None\n",
    "        self.next = None\n",
    "        \n",
    "        self.done = False\n",
    "        \n",
    "    def __str__(self):\n",
    "        return '(Note {}) {}'.format(self.index, self.text[:50].strip())\n",
    "    \n",
    "    def get_search_start(self):\n",
    "        if self.previous is None:\n",
    "            return 0\n",
    "        elif self.previous.lines != []:\n",
    "            return self.previous.lines[-1]\n",
    "        else:\n",
    "            return self.previous.get_search_start()\n",
    "        \n",
    "    def get_search_end(self):\n",
    "        if self.next is None:\n",
    "            return self.source_text_length\n",
    "        elif self.next.lines != []:\n",
    "            return self.next.lines[0]\n",
    "        else:\n",
    "            return self.next.get_search_end()\n",
    "            \n",
    "    def get_search_indices(self):\n",
    "        return range((self.get_search_start()+ 1), self.get_search_end())\n",
    "            \n",
    "    def to_fragment(self, lines):\n",
    "        return ''.join([lines[i] for i in self.lines])\n",
    "    \n",
    "    def ed(self, lines):\n",
    "        fragment = self.to_fragment(lines)\n",
    "        return edlib.align(self.text, fragment)['editDistance']\n",
    "    \n",
    "    def complete(self, lines, threshold=0.2):\n",
    "        ed = self.ed(lines)\n",
    "        score = ed/len(self.text)\n",
    "        if score < threshold:\n",
    "            self.done = True\n",
    "        return self.done\n"
   ]
  },
  {
   "cell_type": "code",
   "execution_count": null,
   "metadata": {},
   "outputs": [],
   "source": [
    "pickle_dir = '/home/jvdzwaan/data/dbnl_ocr/raw/pickled'\n",
    "\n",
    "fname = '_aio001jver01_01.txt'\n",
    "\n",
    "with open(os.path.join(pickle_dir, fname),'rb') as f:\n",
    "     ns = pickle.load(f)"
   ]
  },
  {
   "cell_type": "code",
   "execution_count": null,
   "metadata": {},
   "outputs": [],
   "source": [
    "for n in ns:\n",
    "    print(n, n.found, n.repeated, n.lines)"
   ]
  }
 ],
 "metadata": {
  "language_info": {
   "name": "python",
   "pygments_lexer": "ipython3"
  }
 },
 "nbformat": 4,
 "nbformat_minor": 2
}
