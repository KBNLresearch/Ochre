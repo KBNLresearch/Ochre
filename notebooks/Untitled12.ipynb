{
 "cells": [
  {
   "cell_type": "code",
   "execution_count": null,
   "metadata": {},
   "outputs": [],
   "source": [
    "%load_ext autoreload\n",
    "%autoreload 2"
   ]
  },
  {
   "cell_type": "code",
   "execution_count": null,
   "metadata": {},
   "outputs": [],
   "source": [
    "import nlppln\n",
    "import ochre\n",
    "import os\n",
    "\n",
    "with nlppln.WorkflowGenerator(working_dir='/home/jvdzwaan/cwl-working-dir/') as wf:\n",
    "    wf.load(steps_dir=ochre.cwl_path())\n",
    "    print(wf.list_steps())\n",
    "    \n",
    "    gs_file = wf.add_input(gs='File')\n",
    "    alignments = wf.add_input(alignments='File')\n",
    "    language = wf.add_input(language='string')\n",
    "    lowercase = wf.add_input(lowercase='boolean?')\n",
    "    space = wf.add_input(space='string?')\n",
    "    \n",
    "    saf = wf.pattern(in_file=gs_file, language=language)\n",
    "    src, tgt = wf.opennmt_create_data(alignments=alignments, saf=saf, lowercase=lowercase, space=space)\n",
    "    \n",
    "    wf.add_outputs(src=src, tgt=tgt)\n",
    "    \n",
    "    wf.save(os.path.join(ochre.cwl_path(), 'opennmt-data-file.cwl'), wd=True, relative=False)\n",
    "    "
   ]
  }
 ],
 "metadata": {
  "language_info": {
   "name": "python",
   "pygments_lexer": "ipython3"
  }
 },
 "nbformat": 4,
 "nbformat_minor": 2
}
