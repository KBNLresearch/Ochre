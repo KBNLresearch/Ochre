{
 "cells": [
  {
   "cell_type": "code",
   "execution_count": null,
   "metadata": {},
   "outputs": [],
   "source": [
    "%load_ext autoreload\n",
    "%autoreload 2"
   ]
  },
  {
   "cell_type": "code",
   "execution_count": null,
   "metadata": {},
   "outputs": [],
   "source": [
    "%matplotlib inline\n",
    "\n",
    "import numpy as np\n",
    "import pandas as pd\n",
    "import matplotlib.pyplot as plt\n",
    "\n",
    "from tqdm import tqdm_notebook as tqdm"
   ]
  },
  {
   "cell_type": "code",
   "execution_count": null,
   "metadata": {},
   "outputs": [],
   "source": [
    "from nlppln.utils import create_dirs, out_file_name\n",
    "\n",
    "from ochre.utils import to_space_tokenized\n",
    "\n",
    "def space_tokenize(gs_data, ocr_data, seq_length=53):\n",
    "\n",
    "    num_seqs = 0\n",
    "    equal = 0\n",
    "\n",
    "    for i, (c1, c2) in enumerate(zip(gs_data, ocr_data)):\n",
    "        if i == 0 or (c1 == ' ' and c2 == ' '):\n",
    "            #print(i)\n",
    "            start = i\n",
    "            if i > 0:\n",
    "                start = i + 1\n",
    "            gs = ''.join(gs_data[start:start+seq_length])\n",
    "            ocr = ''.join(ocr_data[start:start+seq_length])\n",
    "        \n",
    "            #print(to_space_tokenized(gs))\n",
    "            #print(to_space_tokenized(ocr))\n",
    "            \n",
    "            yield to_space_tokenized(gs), to_space_tokenized(ocr)\n",
    "        \n",
    "            if gs == ocr:\n",
    "                equal += 1\n",
    "        \n",
    "            num_seqs += 1\n",
    "    print('num seqs:', num_seqs)\n",
    "    print('equal:', equal)\n",
    "    print('% equal:', equal/num_seqs *100)\n",
    "\n",
    "def write_gs_and_ocr_data(gs_fname, ocr_fname, generator):\n",
    "    create_dirs(gs_fname, is_file=True)\n",
    "    total = 0\n",
    "    print(gs_fname)\n",
    "    print(ocr_fname)\n",
    "    with open(gs_fname, 'w') as gs, open(ocr_fname, 'w') as ocr:\n",
    "        for gs_seq, ocr_seq in generator:\n",
    "            gs.write(gs_seq)\n",
    "            gs.write('\\n')\n",
    "            \n",
    "            ocr.write(ocr_seq)\n",
    "            ocr.write('\\n')\n",
    "            \n",
    "            total += 1\n",
    "    return total\n",
    "\n",
    "def get_file_names(out_dir, div): \n",
    "    gs = out_file_name(out_dir, div, ext='gs')\n",
    "    ocr = out_file_name(out_dir, div, ext='ocr')\n",
    "    \n",
    "    return gs, ocr"
   ]
  },
  {
   "cell_type": "code",
   "execution_count": null,
   "metadata": {},
   "outputs": [],
   "source": [
    "import json\n",
    "\n",
    "#datasets = '/home/jvdzwaan/data/kb-ocr/text_aligned_blocks-match_gs/datadivision-random.json'\n",
    "datasets = '/home/jvdzwaan/data/kb-ocr/text_aligned_blocks-match_gs/datadivision-A8P1.json'\n",
    "data_dir = '/home/jvdzwaan/data/kb-ocr/text_aligned_blocks-match_gs/aligned/'\n",
    "out_dir = '/home/jvdzwaan/data/kb-ocr/A8P1'\n",
    "\n",
    "with open(datasets) as d:\n",
    "    division = json.load(d)\n",
    "print(len(division['train']))\n",
    "print(len(division['test']))\n",
    "print(len(division['val']))"
   ]
  },
  {
   "cell_type": "code",
   "execution_count": null,
   "metadata": {},
   "outputs": [],
   "source": [
    "%%time\n",
    "# read the texts\n",
    "from ochre.utils import read_texts\n",
    "\n",
    "seq_length = 53\n",
    "\n",
    "raw_val, gs_val, ocr_val = read_texts(division.get('val'), data_dir)\n",
    "raw_test, gs_test, ocr_test = read_texts(division.get('test'), data_dir)\n",
    "raw_train, gs_train, ocr_train = read_texts(division.get('train'), data_dir)"
   ]
  },
  {
   "cell_type": "code",
   "execution_count": null,
   "metadata": {},
   "outputs": [],
   "source": [
    "%%time\n",
    "# Generate the training data\n",
    "\n",
    "gs_fname, ocr_fname = get_file_names(out_dir, 'train')\n",
    "num = write_gs_and_ocr_data(gs_fname, ocr_fname, space_tokenize(gs_train, ocr_train, seq_length=53))\n",
    "print('# train:', num)"
   ]
  },
  {
   "cell_type": "code",
   "execution_count": null,
   "metadata": {},
   "outputs": [],
   "source": [
    "%%time\n",
    "# Generate the validation data\n",
    "gs_fname, ocr_fname = get_file_names(out_dir, 'val')\n",
    "num = write_gs_and_ocr_data(gs_fname, ocr_fname, space_tokenize(gs_val, ocr_val, seq_length=53))\n",
    "print('# val:', num)"
   ]
  },
  {
   "cell_type": "code",
   "execution_count": null,
   "metadata": {},
   "outputs": [],
   "source": [
    "%%time\n",
    "# Generate the test data: one file per input file\n",
    "import os\n",
    "\n",
    "from nlppln.utils import out_file_name, create_dirs\n",
    "\n",
    "out_dir_test = os.path.join(out_dir, 'test')\n",
    "\n",
    "total = 0\n",
    "\n",
    "for txt_file in division.get('test'):\n",
    "    gs_out_name = out_file_name(out_dir_test, txt_file, ext='gs')\n",
    "    #print(gs_out_name)\n",
    "    ocr_out_name = out_file_name(out_dir_test, txt_file, ext='ocr')\n",
    "    #print(ocr_out_name)\n",
    "    \n",
    "    raw_test, gs_test, ocr_test = read_texts([txt_file], data_dir)\n",
    "    n = write_gs_and_ocr_data(gs_out_name, ocr_out_name, \n",
    "                              space_tokenize(gs_test, ocr_test))\n",
    "    total += n\n",
    "print('# test:', total)"
   ]
  },
  {
   "cell_type": "code",
   "execution_count": null,
   "metadata": {},
   "outputs": [],
   "source": [
    "# check the % of equal sequences in the test data\n",
    "raw_test, gs_test, ocr_test = read_texts(division.get('test'), data_dir)\n",
    "for data in space_tokenize(gs_test, ocr_test):\n",
    "    pass"
   ]
  },
  {
   "cell_type": "code",
   "execution_count": null,
   "metadata": {},
   "outputs": [],
   "source": [
    "# visually inspect the alignment of the characters\n",
    "from ochre.utils import read_texts\n",
    "\n",
    "data_file = '/home/jvdzwaan/data/kb-ocr/text_aligned_blocks-match_gs/aligned/DDD_010977145_002.json'\n",
    "raw, gs, ocr = read_texts([data_file], None)\n",
    "\n",
    "for c1, c2 in zip(gs, ocr):\n",
    "    if c1 == '' or c2 == '': \n",
    "        if c1 == '' and c2 == '':\n",
    "            print('#', '#', 'STRANGE')\n",
    "        elif c1 == '':\n",
    "            print('#', c2)\n",
    "        elif c2 == '':\n",
    "            print(c1, '#')\n",
    "    else:\n",
    "        print(c1, c2)"
   ]
  }
 ],
 "metadata": {
  "language_info": {
   "name": "python",
   "pygments_lexer": "ipython3"
  }
 },
 "nbformat": 4,
 "nbformat_minor": 2
}
