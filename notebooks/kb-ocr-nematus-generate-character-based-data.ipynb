{
 "cells": [
  {
   "cell_type": "code",
   "execution_count": null,
   "metadata": {},
   "outputs": [],
   "source": [
    "%load_ext autoreload\n",
    "%autoreload 2"
   ]
  },
  {
   "cell_type": "code",
   "execution_count": null,
   "metadata": {},
   "outputs": [],
   "source": [
    "%matplotlib inline\n",
    "\n",
    "import numpy as np\n",
    "import pandas as pd\n",
    "import matplotlib.pyplot as plt\n",
    "\n",
    "from tqdm import tqdm_notebook as tqdm"
   ]
  },
  {
   "cell_type": "code",
   "execution_count": null,
   "metadata": {},
   "outputs": [],
   "source": [
    "import json\n",
    "\n",
    "from ochre.utils import read_texts\n",
    "\n",
    "#datasets = '/home/jvdzwaan/data/kb-ocr/text_aligned_blocks-match_gs/datadivision-random.json'\n",
    "datasets = '/home/jvdzwaan/data/kb-ocr/text_aligned_blocks-match_gs/datadivision-A8P1.json'\n",
    "data_dir = '/home/jvdzwaan/data/kb-ocr/text_aligned_blocks-match_gs/aligned/'\n",
    "\n",
    "with open(datasets) as d:\n",
    "    division = json.load(d)\n",
    "print(len(division['train']))\n",
    "print(len(division['test']))\n",
    "print(len(division['val']))"
   ]
  },
  {
   "cell_type": "code",
   "execution_count": null,
   "metadata": {},
   "outputs": [],
   "source": [
    "%%time\n",
    "from ochre.utils import get_chars, get_sequences\n",
    "\n",
    "seq_length = 53\n",
    "\n",
    "raw_val, gs_val, ocr_val = read_texts(division.get('val'), data_dir)\n",
    "raw_test, gs_test, ocr_test = read_texts(division.get('test'), data_dir)\n",
    "raw_train, gs_train, ocr_train = read_texts(division.get('train'), data_dir)"
   ]
  },
  {
   "cell_type": "code",
   "execution_count": null,
   "metadata": {},
   "outputs": [],
   "source": [
    "for c1, c2 in zip(gs_val, ocr_val):\n",
    "    if c1 == '' or c2 == '': \n",
    "        if c1 == '' and c2 == '':\n",
    "            print('#', '#', 'STRANGE')\n",
    "        elif c1 == '':\n",
    "            print('#', c2)\n",
    "        elif c2 == '':\n",
    "            print(c1, '#')\n",
    "    else:\n",
    "        print(c1, c2)"
   ]
  },
  {
   "cell_type": "code",
   "execution_count": null,
   "metadata": {},
   "outputs": [],
   "source": [
    "from ochre.utils import to_space_tokenized\n",
    "\n",
    "def space_tokenize(gs_data, ocr_data, seq_length=53):\n",
    "\n",
    "    num_seqs = 0\n",
    "    equal = 0\n",
    "\n",
    "    for i, (c1, c2) in enumerate(zip(gs_data, ocr_data)):\n",
    "        if i == 0 or (c1 == ' ' and c2 == ' '):\n",
    "            #print(i)\n",
    "            start = i\n",
    "            if i > 0:\n",
    "                start = i + 1\n",
    "            gs = ''.join(gs_data[start:start+seq_length])\n",
    "            ocr = ''.join(ocr_data[start:start+seq_length])\n",
    "        \n",
    "            #print(to_space_tokenized(gs))\n",
    "            #print(to_space_tokenized(ocr))\n",
    "            \n",
    "            yield to_space_tokenized(gs), to_space_tokenized(ocr)\n",
    "        \n",
    "            if gs == ocr:\n",
    "                equal += 1\n",
    "        \n",
    "            num_seqs += 1\n",
    "    print('num seqs:', num_seqs)\n",
    "    print('equal:', equal)\n",
    "    print('% equal:', equal/num_seqs *100)"
   ]
  },
  {
   "cell_type": "code",
   "execution_count": null,
   "metadata": {},
   "outputs": [],
   "source": [
    "def write_gs_and_ocr_data(gs_fname, ocr_fname, generator):\n",
    "    total = 0\n",
    "    print(gs_fname)\n",
    "    print(ocr_fname)\n",
    "    with open(gs_fname, 'w') as gs, open(ocr_fname, 'w') as ocr:\n",
    "        for gs_seq, ocr_seq in generator:\n",
    "            gs.write(gs_seq)\n",
    "            gs.write('\\n')\n",
    "            \n",
    "            ocr.write(ocr_seq)\n",
    "            ocr.write('\\n')\n",
    "            \n",
    "            total += 1\n",
    "    return total"
   ]
  },
  {
   "cell_type": "code",
   "execution_count": null,
   "metadata": {},
   "outputs": [],
   "source": [
    "from nlppln.utils import create_dirs, out_file_name\n",
    "\n",
    "def get_file_names(out_dir, div):\n",
    "    create_dirs(out_dir)\n",
    "    \n",
    "    gs = out_file_name(out_dir, div, ext='gs')\n",
    "    ocr = out_file_name(out_dir, div, ext='ocr')\n",
    "    \n",
    "    return gs, ocr"
   ]
  },
  {
   "cell_type": "code",
   "execution_count": null,
   "metadata": {},
   "outputs": [],
   "source": [
    "%%time\n",
    "out_dir = '/home/jvdzwaan/data/kb-ocr/A8P1'\n",
    "\n",
    "gs_fname, ocr_fname = get_file_names(out_dir, 'train')\n",
    "num = write_gs_and_ocr_data(gs_fname, ocr_fname, space_tokenize(gs_train, ocr_train, seq_length=53))\n",
    "print('# train:', num)"
   ]
  },
  {
   "cell_type": "code",
   "execution_count": null,
   "metadata": {},
   "outputs": [],
   "source": [
    "%%time\n",
    "gs_fname, ocr_fname = get_file_names(out_dir, 'val')\n",
    "num = write_gs_and_ocr_data(gs_fname, ocr_fname, space_tokenize(gs_val, ocr_val, seq_length=53))\n",
    "print('# val:', num)"
   ]
  }
 ],
 "metadata": {
  "language_info": {
   "name": "python",
   "pygments_lexer": "ipython3"
  }
 },
 "nbformat": 4,
 "nbformat_minor": 2
}
