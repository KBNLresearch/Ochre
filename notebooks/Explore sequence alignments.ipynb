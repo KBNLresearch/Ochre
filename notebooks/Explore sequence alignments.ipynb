{
 "cells": [
  {
   "cell_type": "code",
   "execution_count": null,
   "metadata": {},
   "outputs": [],
   "source": [
    "%matplotlib inline\n",
    "\n",
    "import numpy as np\n",
    "import matplotlib.pyplot as plt"
   ]
  },
  {
   "cell_type": "code",
   "execution_count": null,
   "metadata": {},
   "outputs": [],
   "source": [
    "%load_ext autoreload\n",
    "%autoreload 2"
   ]
  },
  {
   "cell_type": "code",
   "execution_count": null,
   "metadata": {},
   "outputs": [],
   "source": [
    "import pandas as pd\n",
    "\n",
    "metadata = pd.read_csv('/Users/janneke/Documents/data/ocr/align_metadata.csv', index_col=0, encoding='utf-8')\n",
    "print metadata"
   ]
  },
  {
   "cell_type": "code",
   "execution_count": null,
   "metadata": {},
   "outputs": [],
   "source": [
    "metadata['score'] =  metadata['edit_distance']/metadata['seq1_length']*100\n",
    "print 'min:', metadata['score'].min()\n",
    "print 'max:', metadata['score'].max()\n",
    "print 'mean:', metadata['score'].mean()\n",
    "print 'std:', metadata['score'].std()\n",
    "# verschillen deze statistieken significant per krant? (zo ja, wat zegt dat, zo nee, wat zegt dat?)\n",
    "# zo ja, dan zijn sommige kranten gemakkelijker te ocr-ren dan andere, dit kan komen door lettertype of kwaliteit krantenpapier\n",
    "# zo nee, dan zijn die verschillen er niet"
   ]
  },
  {
   "cell_type": "code",
   "execution_count": null,
   "metadata": {},
   "outputs": [],
   "source": [
    "def extract_newspaper(row):\n",
    "    \"\"\"Get the newspaper name based on the doc_id.\"\"\"\n",
    "    newspaper_mapping = {\n",
    "        'BA': 'AD',\n",
    "        'BN': 'NRC',\n",
    "        'BTO': 'Telegraaf',\n",
    "        'BTR': 'Trouw',\n",
    "        'BV': 'Volkskrant'\n",
    "    }\n",
    "    for code, np in newspaper_mapping.items():\n",
    "        if row['doc_id'].startswith(code):\n",
    "            return np\n",
    "    return 'None'\n",
    "\n",
    "metadata['newspaper'] = metadata.apply(extract_newspaper, axis=1)\n",
    "print metadata"
   ]
  },
  {
   "cell_type": "code",
   "execution_count": null,
   "metadata": {},
   "outputs": [],
   "source": [
    "grouped = metadata.groupby('newspaper')\n",
    "\n",
    "for name, group in grouped:\n",
    "    print name\n",
    "    print 'min:', group['score'].min()\n",
    "    print 'max:', group['score'].max()\n",
    "    print 'mean:', group['score'].mean()\n",
    "    print 'std:', group['score'].std()\n",
    "    print\n",
    "\n",
    "metadata.hist(bins=20, by='newspaper', column='score')"
   ]
  },
  {
   "cell_type": "code",
   "execution_count": null,
   "metadata": {},
   "outputs": [],
   "source": [
    "from scipy.stats import scipy"
   ]
  },
  {
   "cell_type": "code",
   "execution_count": null,
   "metadata": {},
   "outputs": [],
   "source": [
    "changes = pd.read_csv('/Users/janneke/Documents/data/ocr/align_changes.csv', index_col=0, encoding='utf-8')\n",
    "changes = changes.fillna('')\n",
    "changes['newspaper'] = changes.apply(extract_newspaper, axis=1)\n",
    "print len(changes)\n",
    "grouped = changes.groupby(['from', 'to'])\n",
    "result = grouped.sum()\n",
    "result[result['num'] > 50].sort_values(by='num', ascending=False)"
   ]
  },
  {
   "cell_type": "code",
   "execution_count": null,
   "metadata": {},
   "outputs": [],
   "source": [
    "grouped = changes.groupby('newspaper')\n",
    "\n",
    "\n",
    "\n",
    "grouped.get_group('Telegraaf').groupby(['from', 'to']).sum().hist(column='num')"
   ]
  },
  {
   "cell_type": "code",
   "execution_count": null,
   "metadata": {},
   "outputs": [],
   "source": [
    "print len(grouped)"
   ]
  },
  {
   "cell_type": "code",
   "execution_count": null,
   "metadata": {},
   "outputs": [],
   "source": [
    "def get_error_type(row):\n",
    "    f = len(row['from'])\n",
    "    t = len(row['to'])\n",
    "    \n",
    "    if f > t:\n",
    "        return 'D'\n",
    "    elif f < t:\n",
    "        return 'I'\n",
    "    else:\n",
    "        return 'S'\n",
    "    \n",
    "changes['error'] = changes.apply(get_error_type, axis=1)"
   ]
  },
  {
   "cell_type": "code",
   "execution_count": null,
   "metadata": {},
   "outputs": [],
   "source": [
    "print changes.groupby('error').count()['doc_id']"
   ]
  },
  {
   "cell_type": "code",
   "execution_count": null,
   "metadata": {},
   "outputs": [],
   "source": [
    "changes.groupby('error').get_group('I').groupby(['from', 'to']).sum().sort_values(by='num', ascending=False)"
   ]
  },
  {
   "cell_type": "code",
   "execution_count": null,
   "metadata": {},
   "outputs": [],
   "source": [
    "def short_to(row):\n",
    "    if len(row.name[1]) <= 3:\n",
    "        return True\n",
    "    return False\n",
    "df = changes.groupby('error').get_group('I').groupby(['from', 'to']).sum()\n",
    "print len(df)\n",
    "df[df.apply(short_to, axis=1)].sort_values(by='num', ascending=False)"
   ]
  },
  {
   "cell_type": "code",
   "execution_count": null,
   "metadata": {},
   "outputs": [],
   "source": [
    "def print_row2(row):\n",
    "    print u'\"{}\"\\t\"{}\"\\t{}'.format(row.name[0], row.name[1], row['num'])\n",
    "\n",
    "changes.groupby(['from', 'to']).sum().sort_values(by='num', ascending=False).apply(print_row2, axis=1)"
   ]
  },
  {
   "cell_type": "code",
   "execution_count": null,
   "metadata": {},
   "outputs": [],
   "source": [
    "grouped = changes.groupby('from')\n",
    "result = grouped.get_group('b').groupby('to').sum()\n",
    "print result.index\n",
    "result"
   ]
  },
  {
   "cell_type": "code",
   "execution_count": null,
   "metadata": {},
   "outputs": [],
   "source": [
    "grouped.get_group('b').groupby('to').sum().plot.pie('num')"
   ]
  },
  {
   "cell_type": "code",
   "execution_count": null,
   "metadata": {},
   "outputs": [],
   "source": [
    "df = pd.DataFrame(nums, columns=['n'])\n",
    "print len(df)\n",
    "df.hist(column='n', bins=20)"
   ]
  },
  {
   "cell_type": "code",
   "execution_count": null,
   "metadata": {},
   "outputs": [],
   "source": [
    "df.groupby('n')\n",
    "for n, g in df.groupby('n'):\n",
    "    print n, len(g)"
   ]
  },
  {
   "cell_type": "code",
   "execution_count": null,
   "metadata": {},
   "outputs": [],
   "source": [
    "changes.hist"
   ]
  },
  {
   "cell_type": "code",
   "execution_count": null,
   "metadata": {},
   "outputs": [],
   "source": [
    "changes."
   ]
  }
 ],
 "metadata": {
  "language_info": {
   "name": "python",
   "pygments_lexer": "ipython3"
  }
 },
 "nbformat": 4,
 "nbformat_minor": 1
}
