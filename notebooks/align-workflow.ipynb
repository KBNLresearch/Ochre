{
 "cells": [
  {
   "cell_type": "code",
   "execution_count": null,
   "metadata": {},
   "outputs": [],
   "source": [
    "%load_ext autoreload\n",
    "%autoreload 2"
   ]
  },
  {
   "cell_type": "code",
   "execution_count": null,
   "metadata": {},
   "outputs": [],
   "source": [
    "import nlppln\n",
    "import ochre\n",
    "import os\n",
    "\n",
    "with nlppln.WorkflowGenerator(working_dir='/home/jvdzwaan/cwl-working-dir/') as wf:\n",
    "    wf.load(steps_dir=ochre.cwl_path())\n",
    "    print(wf.list_steps())\n",
    "\n",
    "    gs_files = wf.add_input(gs='File[]')\n",
    "    ocr_files = wf.add_input(ocr='File[]')\n",
    "    merged_metadata_name = wf.add_input(align_m='string', default='merged_metadata.csv')\n",
    "    merged_changes_name = wf.add_input(align_c='string', default='merged_changes.csv')\n",
    "    \n",
    "    changes, metadata = wf.align(file1=ocr_files, file2=gs_files, scatter=['file1', 'file2'], scatter_method='dotproduct')\n",
    "    merged1 = wf.merge_json(in_files=metadata, name=merged_metadata_name)\n",
    "    merged2 = wf.merge_json(in_files=changes, name=merged_changes_name)\n",
    "    \n",
    "    alignments = wf.char_align(gs_text=gs_files, metadata=metadata, ocr_text=ocr_files, \n",
    "                               scatter=['gs_text', 'ocr_text', 'metadata'], scatter_method='dotproduct')\n",
    "    \n",
    "    wf.add_outputs(alignments=alignments)\n",
    "    wf.add_outputs(metadata=merged1)\n",
    "    wf.add_outputs(changes=merged2)\n",
    "    wf.save(os.path.join(ochre.cwl_path(), 'align-texts-wf.cwl'), wd=True)"
   ]
  },
  {
   "cell_type": "code",
   "execution_count": null,
   "metadata": {},
   "outputs": [],
   "source": [
    "# align directory\n",
    "import nlppln\n",
    "import ochre\n",
    "import os\n",
    "\n",
    "with nlppln.WorkflowGenerator(working_dir='/home/jvdzwaan/cwl-working-dir/') as wf:\n",
    "    wf.load(steps_dir=ochre.cwl_path())\n",
    "    print(wf.list_steps())\n",
    "\n",
    "    gs = wf.add_input(gs='Directory')\n",
    "    ocr = wf.add_input(ocr='Directory')\n",
    "    align_dir_name = wf.add_input(align_dir_name='string', default='align')\n",
    "    \n",
    "    gs_files = wf.ls(in_dir=gs)\n",
    "    ocr_files = wf.ls(in_dir=ocr)\n",
    "    \n",
    "    alignments, changes, metadata = wf.align_texts_wf(gs=gs_files, ocr=ocr_files)\n",
    "    \n",
    "    align = wf.save_files_to_dir(dir_name=align_dir_name, in_files=alignments)\n",
    "        \n",
    "    wf.add_outputs(align=align)\n",
    "    wf.save(os.path.join(ochre.cwl_path(), 'align-dir.cwl'), pack=True)"
   ]
  },
  {
   "cell_type": "code",
   "execution_count": null,
   "metadata": {},
   "outputs": [],
   "source": [
    "# align test files only\n",
    "import nlppln\n",
    "import ochre\n",
    "import os\n",
    "\n",
    "with nlppln.WorkflowGenerator(working_dir='/home/jvdzwaan/cwl-working-dir/') as wf:\n",
    "    wf.load(steps_dir=ochre.cwl_path())\n",
    "    print(wf.list_steps())\n",
    "\n",
    "    gs_dir = wf.add_input(gs_dir='Directory')\n",
    "    ocr_dir = wf.add_input(ocr_dir='Directory')\n",
    "    data_div = wf.add_input(data_div='File')\n",
    "    div_name = wf.add_input(div_name='string?')\n",
    "    align_dir_name = wf.add_input(align_dir_name='string', default='align')\n",
    "\n",
    "    test_gs = wf.select_test_files(datadivision=data_div, name=div_name, in_dir=gs_dir)\n",
    "    test_ocr = wf.select_test_files(datadivision=data_div, name=div_name, in_dir=ocr_dir)\n",
    "\n",
    "    alignments, changes, metadata = wf.align_texts_wf(gs=test_gs, ocr=test_ocr)\n",
    "\n",
    "    align = wf.save_files_to_dir(dir_name=align_dir_name, in_files=alignments)\n",
    "\n",
    "    wf.add_outputs(align=align)\n",
    "    wf.save(os.path.join(ochre.cwl_path(), 'align-test-files.cwl'), pack=True)"
   ]
  }
 ],
 "metadata": {
  "language_info": {
   "name": "python",
   "pygments_lexer": "ipython3"
  }
 },
 "nbformat": 4,
 "nbformat_minor": 2
}
